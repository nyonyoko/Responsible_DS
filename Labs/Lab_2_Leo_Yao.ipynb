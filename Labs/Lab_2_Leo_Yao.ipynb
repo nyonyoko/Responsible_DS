{
  "cells": [
    {
      "cell_type": "markdown",
      "metadata": {
        "id": "253jTpcO60Mf"
      },
      "source": [
        "# **Lab 2 - Detecting and Mitigating Biases using Fairlearn**"
      ]
    },
    {
      "cell_type": "markdown",
      "metadata": {
        "id": "6u42_ViARKxy"
      },
      "source": [
        "**Following Labs:**\n",
        "\n",
        "*   Lab2: Detecting bias and mitigating bias via pre-processing interventions\n",
        "*   Lab3: Mitigating bias via in-processing and postprocessing interventions"
      ]
    },
    {
      "cell_type": "markdown",
      "metadata": {
        "id": "3LrSVlCSDA9Z"
      },
      "source": [
        "#Detecting Bias Using Fairlearn"
      ]
    },
    {
      "cell_type": "markdown",
      "metadata": {
        "id": "RuBQtfv5iZac"
      },
      "source": [
        "## Bias in ML\n",
        "\n",
        "A machine learning algorithm will attempt to find patterns, or generalizations, in the training dataset to use when a prediction for a new instance is needed. For example, the model may discover a pattern whereby a person with a salary over \\$40,000 and an outstanding debt of less than $5 is very likely to repay a loan.\n",
        "\n",
        "However, sometimes the patterns that are found and replicated by a model may not be desirable or, even worse, might be illegal. For example, a loan repayment model may determine that age plays a significant role in the prediction of repayment because the training dataset happened to have better repayment for one age group compared to another. This raises two problems: 1) the training dataset may not be representative of the true population of loan applications for all age groups, and 2) even if it is representative, it is illegal (with limited exceptions) to base loan decisions on an applicant's age, regardless of whether this is an accurate basis for prediction based on historical data.\n",
        "\n",
        "The loan scenario describes an intuitive example of illegal bias. However, not all undesirable biases in machine learning are illegal; it may also exist in more subtle ways. For example, a loan company may want a diverse portfolio of customers across all income levels, and thus, will deem it undesirable if they are making more loans to high income levels over low income levels. Although this is not illegal or unethical, it is undesirable for the company's strategy.\n",
        "\n",
        "## The `Fairlearn` toolkit\n",
        "\n",
        "Fairlearn is a toolkit designed to help address this problem with fairness metrics and bias mitigators. Fairness metrics can be used to check for bias in machine learning workflows. Bias mitigators can be used to overcome bias in the workflow to produce a more fair outcome.\n",
        "\n",
        "As these two examples illustrate, a bias detection and/or mitigation toolkit needs to be tailored to the particular bias of interest. More specifically, we need to define the attribute(s), called protected (or sensitive) attributes of interest: the attribute whose skewness/bias we are trying to detect and mitigate. The term suggests that the system designer should be sensitive to these features when assessing and mitigating group fairness.\n",
        "\n",
        "Several stages of the machine learning pipeline are susceptible to bias. One useful way to categorize these stages are, intuitively, 'before,' 'during,' and 'after' training a model. These stages are commonly referred to as *pre-processing*, *in-processing*, and *post-processing* (in Fairlearn, in-processing techniques are available in the *reductions* package)."
      ]
    },
    {
      "cell_type": "markdown",
      "metadata": {
        "id": "Ip6sQt0eQLAU"
      },
      "source": [
        "## Fairlearn\n",
        "\n",
        "In Labs 2 and 3 we will use Fairlearn to detect and mitigate bias in a classifier. We will use the [ACS PUMS files](https://www.census.gov/programs-surveys/acs/microdata.html), particularly a fraction of the ACS Income dataset, and train a classifier to predict whether an individual has a salary greater than $50K. The protected attribute will be the sex of the individual.\n",
        "\n",
        "In this Lab 2 notebook, we will:\n",
        "\n",
        "1. Load the dataset and conduct basic data exploration and preprocessing\n",
        "2. Explore possible fairness metrics\n",
        "3. Train a logistic regression classifier and evaluate the fairness of this classifier\n",
        "4. Train other logistic regression classifiers with pre-processing interventions and re-evaluate fairness\n",
        "5. Compare the results obtained in 3 and 4"
      ]
    },
    {
      "cell_type": "markdown",
      "metadata": {
        "id": "uFlpmI9rSD3H"
      },
      "source": [
        "#1. Import Statements\n",
        "First, we install Fairlearn and import the necessary packages\n",
        "\n",
        "**BEWARE**: On Colab, you will probably have to restart the runtime (in the `Runtime` dropdown menu at the top of the screen) to import these successfully."
      ]
    },
    {
      "cell_type": "code",
      "execution_count": 1,
      "metadata": {
        "id": "9LqUU91SjcFB"
      },
      "outputs": [],
      "source": [
        "%%capture\n",
        "#@markdown\n",
        "\n",
        "!pip install fairlearn\n",
        "!pip install folktables\n",
        "!pip install matplotlib==3.4.1 --force-reinstall\n",
        "!git clone https://github.com/lurosenb/superquail"
      ]
    },
    {
      "cell_type": "code",
      "execution_count": 2,
      "metadata": {
        "id": "XJ5pQ55zkzHp"
      },
      "outputs": [
        {
          "name": "stderr",
          "output_type": "stream",
          "text": [
            "/Users/leoyaoair23/Library/Python/3.9/lib/python/site-packages/urllib3/__init__.py:35: NotOpenSSLWarning: urllib3 v2 only supports OpenSSL 1.1.1+, currently the 'ssl' module is compiled with 'LibreSSL 2.8.3'. See: https://github.com/urllib3/urllib3/issues/3020\n",
            "  warnings.warn(\n"
          ]
        }
      ],
      "source": [
        "#@markdown\n",
        "import matplotlib.pyplot as plt\n",
        "import matplotlib.ticker as mtick\n",
        "import seaborn as sn\n",
        "import pandas as pd\n",
        "import numpy as np\n",
        "from sklearn.model_selection import train_test_split\n",
        "from sklearn.preprocessing import StandardScaler\n",
        "from sklearn.linear_model import LogisticRegression\n",
        "import sklearn.metrics as skm\n",
        "from sklearn.model_selection import cross_val_score\n",
        "import matplotlib.ticker as ticker\n",
        "\n",
        "from folktables import ACSDataSource, ACSEmployment, ACSIncome, ACSPublicCoverage, ACSTravelTime\n",
        "from superquail.data.acs_helper import ACSData\n",
        "\n",
        "from fairlearn.metrics import MetricFrame\n",
        "from fairlearn.metrics import demographic_parity_difference, demographic_parity_ratio, selection_rate\n",
        "from fairlearn.metrics import false_negative_rate, false_positive_rate\n",
        "\n",
        "from IPython.display import clear_output"
      ]
    },
    {
      "cell_type": "markdown",
      "metadata": {
        "id": "XttcS7t0SNbL"
      },
      "source": [
        "#2. Load Data, Conduct Exploratory Analysis, and Preprocess Data\n",
        "Next, we will load the Folktables dataset.  The Folktables dataset is taken from US Census Data and is built to solve a few simple prediction tasks. The sample we pull is data from 2018 in California. The column names are described in the table below. Note that certain categorical variables have been mapped to integer values, which we will keep as-is for the following analyses.\n",
        "\n",
        "For more information on the this dataset, please see the following paper (namely page 18): https://eaamo2021.eaamo.org/accepted/acceptednonarchival/EAMO21_paper_16.pdf"
      ]
    },
    {
      "cell_type": "markdown",
      "metadata": {
        "id": "ErJSui-veHGd"
      },
      "source": [
        "| Column Name | Feature | Description/Notes |\n",
        "| --- | ----------- | --- |\n",
        "| PINCP | Total person’s income | (Target) 1 if >= $50k, 0 if less |\n",
        "| SEX | Sex | (Sensitive Attribute) Male=1, Female=2 |\n",
        "| RAC1P | Race | (Sensitive Attribute) White=1, Black=2, Other races are between 3 and 9 |\n",
        "| AGEP | Age | Ranges from 0-99 |\n",
        "| COW | Class of Worker | Ranges 1-9, see paper for description |\n",
        "| SCHL | Education Level | Ranges 1-24, see paper for description |\n",
        "| MAR | Marital Status | Ranges 1-5, see paper for description |\n",
        "| OCCP | Occupation | Codes taken from Public Use Microdata Sample (PUMS) from the US Census, see paper |\n",
        "| POBP | Place of Birth | Codes taken from Public Use Microdata Sample (PUMS) from the US Census, see paper |\n",
        "| RELP | Relationship | Relationship of individual to person who responded to the Census taker. Ranges 0-17, see paper for description |\n",
        "| WKHP | Hours worked per week | Ranges from 0-99, averaged over previous year |"
      ]
    },
    {
      "cell_type": "code",
      "execution_count": 3,
      "metadata": {
        "cellView": "form",
        "id": "MgVUEi3nET1p"
      },
      "outputs": [
        {
          "name": "stdout",
          "output_type": "stream",
          "text": [
            "(70000, 11)\n"
          ]
        },
        {
          "data": {
            "text/html": [
              "<div>\n",
              "<style scoped>\n",
              "    .dataframe tbody tr th:only-of-type {\n",
              "        vertical-align: middle;\n",
              "    }\n",
              "\n",
              "    .dataframe tbody tr th {\n",
              "        vertical-align: top;\n",
              "    }\n",
              "\n",
              "    .dataframe thead th {\n",
              "        text-align: right;\n",
              "    }\n",
              "</style>\n",
              "<table border=\"1\" class=\"dataframe\">\n",
              "  <thead>\n",
              "    <tr style=\"text-align: right;\">\n",
              "      <th></th>\n",
              "      <th>AGEP</th>\n",
              "      <th>COW</th>\n",
              "      <th>SCHL</th>\n",
              "      <th>MAR</th>\n",
              "      <th>OCCP</th>\n",
              "      <th>POBP</th>\n",
              "      <th>RELP</th>\n",
              "      <th>WKHP</th>\n",
              "      <th>SEX</th>\n",
              "      <th>RAC1P</th>\n",
              "      <th>PINCP</th>\n",
              "    </tr>\n",
              "  </thead>\n",
              "  <tbody>\n",
              "    <tr>\n",
              "      <th>0</th>\n",
              "      <td>51.0</td>\n",
              "      <td>1.0</td>\n",
              "      <td>13.0</td>\n",
              "      <td>1.0</td>\n",
              "      <td>5610.0</td>\n",
              "      <td>303.0</td>\n",
              "      <td>0.0</td>\n",
              "      <td>40.0</td>\n",
              "      <td>1.0</td>\n",
              "      <td>8.0</td>\n",
              "      <td>0.0</td>\n",
              "    </tr>\n",
              "    <tr>\n",
              "      <th>1</th>\n",
              "      <td>65.0</td>\n",
              "      <td>1.0</td>\n",
              "      <td>19.0</td>\n",
              "      <td>5.0</td>\n",
              "      <td>4740.0</td>\n",
              "      <td>217.0</td>\n",
              "      <td>0.0</td>\n",
              "      <td>10.0</td>\n",
              "      <td>2.0</td>\n",
              "      <td>6.0</td>\n",
              "      <td>0.0</td>\n",
              "    </tr>\n",
              "    <tr>\n",
              "      <th>2</th>\n",
              "      <td>56.0</td>\n",
              "      <td>1.0</td>\n",
              "      <td>20.0</td>\n",
              "      <td>5.0</td>\n",
              "      <td>4700.0</td>\n",
              "      <td>6.0</td>\n",
              "      <td>12.0</td>\n",
              "      <td>40.0</td>\n",
              "      <td>1.0</td>\n",
              "      <td>1.0</td>\n",
              "      <td>0.0</td>\n",
              "    </tr>\n",
              "    <tr>\n",
              "      <th>3</th>\n",
              "      <td>24.0</td>\n",
              "      <td>1.0</td>\n",
              "      <td>16.0</td>\n",
              "      <td>5.0</td>\n",
              "      <td>5240.0</td>\n",
              "      <td>6.0</td>\n",
              "      <td>2.0</td>\n",
              "      <td>25.0</td>\n",
              "      <td>2.0</td>\n",
              "      <td>1.0</td>\n",
              "      <td>0.0</td>\n",
              "    </tr>\n",
              "    <tr>\n",
              "      <th>4</th>\n",
              "      <td>31.0</td>\n",
              "      <td>6.0</td>\n",
              "      <td>16.0</td>\n",
              "      <td>5.0</td>\n",
              "      <td>6330.0</td>\n",
              "      <td>6.0</td>\n",
              "      <td>2.0</td>\n",
              "      <td>40.0</td>\n",
              "      <td>1.0</td>\n",
              "      <td>1.0</td>\n",
              "      <td>0.0</td>\n",
              "    </tr>\n",
              "  </tbody>\n",
              "</table>\n",
              "</div>"
            ],
            "text/plain": [
              "   AGEP  COW  SCHL  MAR    OCCP   POBP  RELP  WKHP  SEX  RAC1P  PINCP\n",
              "0  51.0  1.0  13.0  1.0  5610.0  303.0   0.0  40.0  1.0    8.0    0.0\n",
              "1  65.0  1.0  19.0  5.0  4740.0  217.0   0.0  10.0  2.0    6.0    0.0\n",
              "2  56.0  1.0  20.0  5.0  4700.0    6.0  12.0  40.0  1.0    1.0    0.0\n",
              "3  24.0  1.0  16.0  5.0  5240.0    6.0   2.0  25.0  2.0    1.0    0.0\n",
              "4  31.0  6.0  16.0  5.0  6330.0    6.0   2.0  40.0  1.0    1.0    0.0"
            ]
          },
          "execution_count": 3,
          "metadata": {},
          "output_type": "execute_result"
        }
      ],
      "source": [
        "#@markdown Read in the folktables dataset\n",
        "full_df, features_df, target_df, groups_df = ACSData().return_acs_data_scenario(scenario=\"ACSIncome\", subsample=70000)\n",
        "\n",
        "print(full_df.shape)\n",
        "full_df.head()"
      ]
    },
    {
      "cell_type": "code",
      "execution_count": 4,
      "metadata": {
        "cellView": "form",
        "id": "9D-hmorRFKia"
      },
      "outputs": [
        {
          "name": "stdout",
          "output_type": "stream",
          "text": [
            "<class 'pandas.core.frame.DataFrame'>\n",
            "RangeIndex: 70000 entries, 0 to 69999\n",
            "Data columns (total 11 columns):\n",
            " #   Column  Non-Null Count  Dtype  \n",
            "---  ------  --------------  -----  \n",
            " 0   AGEP    70000 non-null  float64\n",
            " 1   COW     70000 non-null  float64\n",
            " 2   SCHL    70000 non-null  float64\n",
            " 3   MAR     70000 non-null  float64\n",
            " 4   OCCP    70000 non-null  float64\n",
            " 5   POBP    70000 non-null  float64\n",
            " 6   RELP    70000 non-null  float64\n",
            " 7   WKHP    70000 non-null  float64\n",
            " 8   SEX     70000 non-null  float64\n",
            " 9   RAC1P   70000 non-null  float64\n",
            " 10  PINCP   70000 non-null  float64\n",
            "dtypes: float64(11)\n",
            "memory usage: 5.9 MB\n"
          ]
        }
      ],
      "source": [
        "#@markdown Check missing values and data types\n",
        "full_df.info()"
      ]
    },
    {
      "cell_type": "code",
      "execution_count": 5,
      "metadata": {
        "cellView": "form",
        "id": "j1x2mdUaID9G"
      },
      "outputs": [
        {
          "name": "stdout",
          "output_type": "stream",
          "text": [
            "<class 'pandas.core.frame.DataFrame'>\n",
            "RangeIndex: 70000 entries, 0 to 69999\n",
            "Data columns (total 11 columns):\n",
            " #   Column  Non-Null Count  Dtype  \n",
            "---  ------  --------------  -----  \n",
            " 0   AGEP    70000 non-null  float64\n",
            " 1   COW     70000 non-null  object \n",
            " 2   SCHL    70000 non-null  object \n",
            " 3   MAR     70000 non-null  object \n",
            " 4   OCCP    70000 non-null  object \n",
            " 5   POBP    70000 non-null  object \n",
            " 6   RELP    70000 non-null  object \n",
            " 7   WKHP    70000 non-null  float64\n",
            " 8   SEX     70000 non-null  object \n",
            " 9   RAC1P   70000 non-null  object \n",
            " 10  PINCP   70000 non-null  float64\n",
            "dtypes: float64(3), object(8)\n",
            "memory usage: 5.9+ MB\n"
          ]
        },
        {
          "data": {
            "text/html": [
              "<div>\n",
              "<style scoped>\n",
              "    .dataframe tbody tr th:only-of-type {\n",
              "        vertical-align: middle;\n",
              "    }\n",
              "\n",
              "    .dataframe tbody tr th {\n",
              "        vertical-align: top;\n",
              "    }\n",
              "\n",
              "    .dataframe thead th {\n",
              "        text-align: right;\n",
              "    }\n",
              "</style>\n",
              "<table border=\"1\" class=\"dataframe\">\n",
              "  <thead>\n",
              "    <tr style=\"text-align: right;\">\n",
              "      <th></th>\n",
              "      <th>AGEP</th>\n",
              "      <th>COW</th>\n",
              "      <th>SCHL</th>\n",
              "      <th>MAR</th>\n",
              "      <th>OCCP</th>\n",
              "      <th>POBP</th>\n",
              "      <th>RELP</th>\n",
              "      <th>WKHP</th>\n",
              "      <th>SEX</th>\n",
              "      <th>RAC1P</th>\n",
              "      <th>PINCP</th>\n",
              "    </tr>\n",
              "  </thead>\n",
              "  <tbody>\n",
              "    <tr>\n",
              "      <th>0</th>\n",
              "      <td>51.0</td>\n",
              "      <td>1</td>\n",
              "      <td>13</td>\n",
              "      <td>1</td>\n",
              "      <td>5610</td>\n",
              "      <td>303</td>\n",
              "      <td>0</td>\n",
              "      <td>40.0</td>\n",
              "      <td>1</td>\n",
              "      <td>8</td>\n",
              "      <td>0.0</td>\n",
              "    </tr>\n",
              "    <tr>\n",
              "      <th>1</th>\n",
              "      <td>65.0</td>\n",
              "      <td>1</td>\n",
              "      <td>19</td>\n",
              "      <td>5</td>\n",
              "      <td>4740</td>\n",
              "      <td>217</td>\n",
              "      <td>0</td>\n",
              "      <td>10.0</td>\n",
              "      <td>2</td>\n",
              "      <td>6</td>\n",
              "      <td>0.0</td>\n",
              "    </tr>\n",
              "    <tr>\n",
              "      <th>2</th>\n",
              "      <td>56.0</td>\n",
              "      <td>1</td>\n",
              "      <td>20</td>\n",
              "      <td>5</td>\n",
              "      <td>4700</td>\n",
              "      <td>6</td>\n",
              "      <td>12</td>\n",
              "      <td>40.0</td>\n",
              "      <td>1</td>\n",
              "      <td>1</td>\n",
              "      <td>0.0</td>\n",
              "    </tr>\n",
              "    <tr>\n",
              "      <th>3</th>\n",
              "      <td>24.0</td>\n",
              "      <td>1</td>\n",
              "      <td>16</td>\n",
              "      <td>5</td>\n",
              "      <td>5240</td>\n",
              "      <td>6</td>\n",
              "      <td>2</td>\n",
              "      <td>25.0</td>\n",
              "      <td>2</td>\n",
              "      <td>1</td>\n",
              "      <td>0.0</td>\n",
              "    </tr>\n",
              "    <tr>\n",
              "      <th>4</th>\n",
              "      <td>31.0</td>\n",
              "      <td>6</td>\n",
              "      <td>16</td>\n",
              "      <td>5</td>\n",
              "      <td>6330</td>\n",
              "      <td>6</td>\n",
              "      <td>2</td>\n",
              "      <td>40.0</td>\n",
              "      <td>1</td>\n",
              "      <td>1</td>\n",
              "      <td>0.0</td>\n",
              "    </tr>\n",
              "  </tbody>\n",
              "</table>\n",
              "</div>"
            ],
            "text/plain": [
              "   AGEP COW SCHL MAR  OCCP POBP RELP  WKHP SEX RAC1P  PINCP\n",
              "0  51.0   1   13   1  5610  303    0  40.0   1     8    0.0\n",
              "1  65.0   1   19   5  4740  217    0  10.0   2     6    0.0\n",
              "2  56.0   1   20   5  4700    6   12  40.0   1     1    0.0\n",
              "3  24.0   1   16   5  5240    6    2  25.0   2     1    0.0\n",
              "4  31.0   6   16   5  6330    6    2  40.0   1     1    0.0"
            ]
          },
          "execution_count": 5,
          "metadata": {},
          "output_type": "execute_result"
        }
      ],
      "source": [
        "#@markdown Change data types of categorical features\n",
        "numerical_cols = ['AGEP','WKHP']\n",
        "categorical_cols = ['COW','SCHL','MAR','OCCP','POBP','RELP','RAC1P','SEX']\n",
        "\n",
        "for col in categorical_cols:\n",
        "  full_df[col] = full_df[col].astype('int')\n",
        "  full_df[col] = full_df[col].astype('str')\n",
        "\n",
        "full_df.info()\n",
        "full_df.head()"
      ]
    },
    {
      "cell_type": "markdown",
      "metadata": {
        "id": "pHRpGsboZ_wa"
      },
      "source": [
        "Next, we will conduct some basic exploratory analysis of the data beginning with plotting the distributions of our features."
      ]
    },
    {
      "cell_type": "code",
      "execution_count": 6,
      "metadata": {
        "cellView": "form",
        "id": "umsO2aZ3J3WT"
      },
      "outputs": [
        {
          "name": "stderr",
          "output_type": "stream",
          "text": [
            "/var/folders/8p/pfvm32bd07q6ccc1n2qmv92w0000gn/T/ipykernel_96781/1673930836.py:24: UserWarning: FixedFormatter should only be used together with FixedLocator\n",
            "  ax[1,2].set_yticklabels(labels)\n"
          ]
        },
        {
          "data": {
            "image/png": "[encoded data removed]",
            "text/plain": [
              "<Figure size 1200x800 with 8 Axes>"
            ]
          },
          "metadata": {},
          "output_type": "display_data"
        }
      ],
      "source": [
        "#@markdown Plot distribution of categorical columns\n",
        "fig, ax = plt.subplots(2,4,figsize=(12,8))\n",
        "ax[0,0].barh(full_df['COW'].value_counts().index[::-1], full_df['COW'].value_counts()[::-1])\n",
        "ax[0,0].set_title('COW')\n",
        "\n",
        "ax[0,1].barh(full_df['SCHL'].value_counts().index[:10][::-1], full_df['SCHL'].value_counts()[:10][::-1])\n",
        "ax[0,1].set_title('SCHL (top-10)')\n",
        "\n",
        "ax[0,2].barh(full_df['MAR'].value_counts().index[::-1], full_df['MAR'].value_counts()[::-1])\n",
        "ax[0,2].set_title('MAR')\n",
        "\n",
        "ax[0,3].barh(full_df['OCCP'].value_counts().index[:10][::-1], full_df['OCCP'].value_counts()[:10][::-1])\n",
        "ax[0,3].set_title('OCCP (top-10)')\n",
        "\n",
        "ax[1,0].barh(full_df['POBP'].value_counts().index[:10][::-1], full_df['POBP'].value_counts()[:10][::-1])\n",
        "ax[1,0].set_title('POBP (top-10)')\n",
        "\n",
        "ax[1,1].barh(full_df['RELP'].value_counts().index[:10][::-1], full_df['RELP'].value_counts()[:10][::-1])\n",
        "ax[1,1].set_title('RELP (top-10)')\n",
        "\n",
        "ax[1,2].barh(full_df['SEX'].value_counts().index[::-1], full_df['SEX'].value_counts()[::-1])\n",
        "ax[1,2].set_title('SEX')\n",
        "labels = ('Female = 2', 'Male = 1')\n",
        "ax[1,2].set_yticklabels(labels)\n",
        "\n",
        "ax[1,3].barh(full_df['RAC1P'].value_counts().index[::-1], full_df['RAC1P'].value_counts()[::-1])\n",
        "ax[1,3].set_title('RAC1P')\n",
        "\n",
        "fig.tight_layout()"
      ]
    },
    {
      "cell_type": "code",
      "execution_count": 7,
      "metadata": {
        "cellView": "form",
        "id": "fIN5VbbVQT4_"
      },
      "outputs": [
        {
          "data": {
            "image/png": "[encoded data removed]",
            "text/plain": [
              "<Figure size 1200x800 with 2 Axes>"
            ]
          },
          "metadata": {},
          "output_type": "display_data"
        }
      ],
      "source": [
        "#@markdown Plot distribution of numeric features\n",
        "fig, ax = plt.subplots(1,2,figsize=(12,8))\n",
        "\n",
        "#histogram for AGEP (age)\n",
        "num_of_bins_agep = 10\n",
        "y_vals_agep, x_vals_agep, e_agep = ax[0].hist(full_df['AGEP'], bins=num_of_bins_agep, edgecolor='black')\n",
        "ax[0].set_title(\"Histogram of AGEP\")\n",
        "ax[0].set_xlabel(\"age\")\n",
        "ax[0].set_ylabel(\"Percentage\")\n",
        "y_max_agep = round((max(y_vals_agep) / len(full_df)) + 0.02, 2)\n",
        "ax[0].set_yticks(ticks=np.arange(0.0, y_max_agep * len(full_df), 0.01 * len(full_df)))\n",
        "ax[0].set_ylim(ax[0].get_yticks()[0], ax[0].get_yticks()[-1])\n",
        "ax[0].yaxis.set_major_formatter(ticker.PercentFormatter(xmax=len(full_df)))\n",
        "\n",
        "#histogram for WKHP (Hours worked per week)\n",
        "num_of_bins_wkhp = 10\n",
        "y_vals_wkhp, x_vals_wkhp, e_wkhp = ax[1].hist(full_df['WKHP'], bins=num_of_bins_wkhp, edgecolor='black')\n",
        "ax[1].set_title(\"Histogram of WKHP\")\n",
        "ax[1].set_xlabel(\"hours worked per week\")\n",
        "ax[1].set_ylabel(\"Percentage\")\n",
        "y_max_wkhp = round((max(y_vals_wkhp) / len(full_df)) + 0.05, 2)\n",
        "ax[1].set_yticks(ticks=np.arange(0.0, y_max_wkhp * len(full_df), 0.05 * len(full_df)))\n",
        "ax[1].set_ylim(ax[1].get_yticks()[0], ax[1].get_yticks()[-1])\n",
        "ax[1].yaxis.set_major_formatter(ticker.PercentFormatter(xmax=len(full_df)))"
      ]
    },
    {
      "cell_type": "markdown",
      "metadata": {
        "id": "uhrMJoM1sOrj"
      },
      "source": [
        "As we can see, there is nothing very unusual about the distritubtion of the features in this dataset. Also, we note that the proportion of men and women is rather balanced.\n",
        "\n",
        "We can also examine the pairwise correlations between the numeric features and our target variable."
      ]
    },
    {
      "cell_type": "code",
      "execution_count": 8,
      "metadata": {
        "cellView": "form",
        "id": "KXO7X2tMyTI6"
      },
      "outputs": [
        {
          "data": {
            "image/png": "[encoded data removed]",
            "text/plain": [
              "<Figure size 640x480 with 2 Axes>"
            ]
          },
          "metadata": {},
          "output_type": "display_data"
        }
      ],
      "source": [
        "#@markdown Plot pairwise correlations between numeric features\n",
        "\n",
        "sn.heatmap(full_df.corr(), mask=np.identity(len(full_df.corr())), annot=True, cmap='Blues')\n",
        "plt.show()"
      ]
    },
    {
      "cell_type": "markdown",
      "metadata": {
        "id": "5kyJCKQ3yxhQ"
      },
      "source": [
        "Here, we can see that there are only relatively low correlations between our target variable (PINCP) and our numeric features of age and hours worked per week."
      ]
    },
    {
      "cell_type": "markdown",
      "metadata": {
        "id": "iL6p5-Axxbvh"
      },
      "source": [
        "Next, we can look at the distribution of our target variable as well as the joint distribution of our protected and target attributes."
      ]
    },
    {
      "cell_type": "code",
      "execution_count": 9,
      "metadata": {
        "cellView": "form",
        "id": "7JCRb5o76oiH"
      },
      "outputs": [
        {
          "data": {
            "image/png": "[encoded data removed]",
            "text/plain": [
              "<Figure size 640x480 with 1 Axes>"
            ]
          },
          "metadata": {},
          "output_type": "display_data"
        }
      ],
      "source": [
        "#@markdown Examine distribution of target variable\n",
        "fig = plt.figure()\n",
        "ax = fig.add_subplot(1,1,1)\n",
        "full_df['PINCP'].value_counts().divide(full_df.shape[0]).plot(kind='bar')\n",
        "ax.set_xlabel('Income')\n",
        "ax.set_ylabel('Frequency')\n",
        "plt.setp(ax.get_xticklabels(), rotation=0, ha='center')\n",
        "ax.yaxis.set_major_formatter(mtick.PercentFormatter(1))\n",
        "labels_target = ('0 (<$50k)', '1 (>=$50k)')\n",
        "ax.set_xticklabels(labels_target)\n",
        "plt.show()"
      ]
    },
    {
      "cell_type": "markdown",
      "metadata": {
        "id": "Kq9_1ZSXduNs"
      },
      "source": [
        "From the graph above we note that there is a considerable imbalance of the target variable. Let's see how is this distribution looks by gender."
      ]
    },
    {
      "cell_type": "code",
      "execution_count": 10,
      "metadata": {
        "cellView": "form",
        "id": "rWqWUOfamsAm"
      },
      "outputs": [
        {
          "data": {
            "image/png": "[encoded data removed]",
            "text/plain": [
              "<Figure size 640x480 with 1 Axes>"
            ]
          },
          "metadata": {},
          "output_type": "display_data"
        }
      ],
      "source": [
        "#@markdown Plot distribution of target variable among males and plot distribution of target variable among females\n",
        "hist_df = full_df.groupby(['SEX','PINCP']).size().to_frame('count').reset_index()\n",
        "new_col = full_df.groupby(['SEX']).PINCP.value_counts(normalize=True).values\n",
        "hist_df['frac'] = new_col\n",
        "hist_df.replace({'SEX': {'1': 'Male', '2': 'Female'}}, inplace=True)\n",
        "hist_df.replace({'PINCP': {0.0: '<$50k', 1.0: '>=$50k'}}, inplace=True)\n",
        "sn.barplot(x='PINCP', y='frac', hue='SEX', data=hist_df)\n",
        "plt.ylabel('Percent of Group')\n",
        "plt.xlabel('Income')\n",
        "plt.show()"
      ]
    },
    {
      "cell_type": "code",
      "execution_count": 11,
      "metadata": {
        "cellView": "form",
        "id": "mb4qHH0dQYAB"
      },
      "outputs": [
        {
          "data": {
            "text/plain": [
              "SEX  PINCP\n",
              "1    0.0      19668\n",
              "     1.0      17167\n",
              "2    0.0      21525\n",
              "     1.0      11640\n",
              "Name: PINCP, dtype: int64"
            ]
          },
          "execution_count": 11,
          "metadata": {},
          "output_type": "execute_result"
        }
      ],
      "source": [
        "#@markdown Showing the number of Males and Females per Income group\n",
        "full_df.groupby(['SEX', 'PINCP'])['PINCP'].count()"
      ]
    },
    {
      "cell_type": "markdown",
      "metadata": {
        "id": "3lB_TQJGE1tV"
      },
      "source": [
        "Here, we can see that the proportion of males who make at least \\$50k is higher than the proportion of females who make at least $50k in this dataset. Thus, the initial finding about imbalance of the target variable is more accentuated for females."
      ]
    },
    {
      "cell_type": "markdown",
      "metadata": {
        "id": "c1ffXieBGVGx"
      },
      "source": [
        "# **TODO**: Given the graphs above, what results might we expect from our classifier when it comes to labelling males and females as high or low income?"
      ]
    },
    {
      "cell_type": "markdown",
      "metadata": {
        "id": "vpjRuRyZgbHi"
      },
      "source": [
        "**Answer**:\n",
        "It seems we are more likely to label females as low income becuase their proportion is higher than males in the low income category. Likewise, we are more likely to label males as high income than females."
      ]
    },
    {
      "cell_type": "markdown",
      "metadata": {
        "id": "Vccos4UWJieU"
      },
      "source": [
        "# **TODO**: Why might this data be biased? What type of bias is this?\n"
      ]
    },
    {
      "cell_type": "markdown",
      "metadata": {
        "id": "7oVti2pfgfqD"
      },
      "source": [
        "**Answer**:\n",
        "The categorization of men and women based on salary is biased. This is pre-existing bias. It's the bias that exists before the data. The data is biased as a reflection of the world. The world is biased. We know that historically women have been making less money than men, even for the exact same job. "
      ]
    },
    {
      "cell_type": "code",
      "execution_count": 12,
      "metadata": {
        "cellView": "form",
        "id": "nQP7PQb0BGWv"
      },
      "outputs": [
        {
          "data": {
            "image/png": "[encoded data removed]",
            "text/plain": [
              "<Figure size 640x480 with 1 Axes>"
            ]
          },
          "metadata": {},
          "output_type": "display_data"
        }
      ],
      "source": [
        "# @markdown #**TODO**: write some code in this cell that replicates the above histogram plot for black and white individuals in the data.\n",
        "# TODO: write code here\n",
        "race_df = full_df[(full_df['RAC1P']=='1') | (full_df['RAC1P']=='2')]\n",
        "hist_df_race = race_df.groupby(['RAC1P','PINCP']).size().to_frame('count').reset_index()\n",
        "new_col_race = race_df.groupby(['RAC1P']).PINCP.value_counts(normalize=True).values\n",
        "hist_df_race['frac'] = new_col_race\n",
        "hist_df_race.replace({'RAC1P': {'1': 'White', '2': 'Black'}}, inplace=True)\n",
        "hist_df_race.replace({'PINCP': {0.0: '<$50k', 1.0: '>=$50k'}}, inplace=True)\n",
        "sn.barplot(x='PINCP', y='frac', hue='RAC1P', data=hist_df_race)\n",
        "plt.ylabel('Percent of Group')\n",
        "plt.xlabel('Income')\n",
        "plt.show()"
      ]
    },
    {
      "cell_type": "markdown",
      "metadata": {
        "id": "v7mYHwvvrlZn"
      },
      "source": [
        "## Preprocessing\n",
        "Next, we will do some preprocessing on our data to prepare it for use in our model."
      ]
    },
    {
      "cell_type": "code",
      "execution_count": 13,
      "metadata": {
        "cellView": "form",
        "id": "UJmRpooUU6cC"
      },
      "outputs": [
        {
          "data": {
            "text/html": [
              "<div>\n",
              "<style scoped>\n",
              "    .dataframe tbody tr th:only-of-type {\n",
              "        vertical-align: middle;\n",
              "    }\n",
              "\n",
              "    .dataframe tbody tr th {\n",
              "        vertical-align: top;\n",
              "    }\n",
              "\n",
              "    .dataframe thead th {\n",
              "        text-align: right;\n",
              "    }\n",
              "</style>\n",
              "<table border=\"1\" class=\"dataframe\">\n",
              "  <thead>\n",
              "    <tr style=\"text-align: right;\">\n",
              "      <th></th>\n",
              "      <th>AGEP</th>\n",
              "      <th>COW</th>\n",
              "      <th>SCHL</th>\n",
              "      <th>MAR</th>\n",
              "      <th>OCCP</th>\n",
              "      <th>POBP</th>\n",
              "      <th>RELP</th>\n",
              "      <th>WKHP</th>\n",
              "      <th>SEX</th>\n",
              "      <th>RAC1P</th>\n",
              "      <th>PINCP</th>\n",
              "    </tr>\n",
              "  </thead>\n",
              "  <tbody>\n",
              "    <tr>\n",
              "      <th>0</th>\n",
              "      <td>0.553915</td>\n",
              "      <td>1</td>\n",
              "      <td>13</td>\n",
              "      <td>1</td>\n",
              "      <td>5610</td>\n",
              "      <td>303</td>\n",
              "      <td>0</td>\n",
              "      <td>0.164197</td>\n",
              "      <td>1</td>\n",
              "      <td>8</td>\n",
              "      <td>0.0</td>\n",
              "    </tr>\n",
              "    <tr>\n",
              "      <th>1</th>\n",
              "      <td>1.493117</td>\n",
              "      <td>1</td>\n",
              "      <td>19</td>\n",
              "      <td>5</td>\n",
              "      <td>4740</td>\n",
              "      <td>217</td>\n",
              "      <td>0</td>\n",
              "      <td>-2.143176</td>\n",
              "      <td>2</td>\n",
              "      <td>6</td>\n",
              "      <td>0.0</td>\n",
              "    </tr>\n",
              "    <tr>\n",
              "      <th>2</th>\n",
              "      <td>0.889345</td>\n",
              "      <td>1</td>\n",
              "      <td>20</td>\n",
              "      <td>5</td>\n",
              "      <td>4700</td>\n",
              "      <td>6</td>\n",
              "      <td>12</td>\n",
              "      <td>0.164197</td>\n",
              "      <td>1</td>\n",
              "      <td>1</td>\n",
              "      <td>0.0</td>\n",
              "    </tr>\n",
              "    <tr>\n",
              "      <th>3</th>\n",
              "      <td>-1.257403</td>\n",
              "      <td>1</td>\n",
              "      <td>16</td>\n",
              "      <td>5</td>\n",
              "      <td>5240</td>\n",
              "      <td>6</td>\n",
              "      <td>2</td>\n",
              "      <td>-0.989490</td>\n",
              "      <td>2</td>\n",
              "      <td>1</td>\n",
              "      <td>0.0</td>\n",
              "    </tr>\n",
              "    <tr>\n",
              "      <th>4</th>\n",
              "      <td>-0.787802</td>\n",
              "      <td>6</td>\n",
              "      <td>16</td>\n",
              "      <td>5</td>\n",
              "      <td>6330</td>\n",
              "      <td>6</td>\n",
              "      <td>2</td>\n",
              "      <td>0.164197</td>\n",
              "      <td>1</td>\n",
              "      <td>1</td>\n",
              "      <td>0.0</td>\n",
              "    </tr>\n",
              "    <tr>\n",
              "      <th>...</th>\n",
              "      <td>...</td>\n",
              "      <td>...</td>\n",
              "      <td>...</td>\n",
              "      <td>...</td>\n",
              "      <td>...</td>\n",
              "      <td>...</td>\n",
              "      <td>...</td>\n",
              "      <td>...</td>\n",
              "      <td>...</td>\n",
              "      <td>...</td>\n",
              "      <td>...</td>\n",
              "    </tr>\n",
              "    <tr>\n",
              "      <th>69995</th>\n",
              "      <td>0.822259</td>\n",
              "      <td>2</td>\n",
              "      <td>4</td>\n",
              "      <td>5</td>\n",
              "      <td>7340</td>\n",
              "      <td>37</td>\n",
              "      <td>0</td>\n",
              "      <td>0.933322</td>\n",
              "      <td>1</td>\n",
              "      <td>3</td>\n",
              "      <td>0.0</td>\n",
              "    </tr>\n",
              "    <tr>\n",
              "      <th>69996</th>\n",
              "      <td>0.151400</td>\n",
              "      <td>6</td>\n",
              "      <td>20</td>\n",
              "      <td>1</td>\n",
              "      <td>9610</td>\n",
              "      <td>8</td>\n",
              "      <td>1</td>\n",
              "      <td>0.164197</td>\n",
              "      <td>1</td>\n",
              "      <td>1</td>\n",
              "      <td>0.0</td>\n",
              "    </tr>\n",
              "    <tr>\n",
              "      <th>69997</th>\n",
              "      <td>-1.592832</td>\n",
              "      <td>1</td>\n",
              "      <td>19</td>\n",
              "      <td>5</td>\n",
              "      <td>2350</td>\n",
              "      <td>6</td>\n",
              "      <td>17</td>\n",
              "      <td>-1.758614</td>\n",
              "      <td>2</td>\n",
              "      <td>2</td>\n",
              "      <td>0.0</td>\n",
              "    </tr>\n",
              "    <tr>\n",
              "      <th>69998</th>\n",
              "      <td>0.688087</td>\n",
              "      <td>1</td>\n",
              "      <td>19</td>\n",
              "      <td>1</td>\n",
              "      <td>5240</td>\n",
              "      <td>341</td>\n",
              "      <td>0</td>\n",
              "      <td>-1.066402</td>\n",
              "      <td>2</td>\n",
              "      <td>1</td>\n",
              "      <td>0.0</td>\n",
              "    </tr>\n",
              "    <tr>\n",
              "      <th>69999</th>\n",
              "      <td>0.553915</td>\n",
              "      <td>1</td>\n",
              "      <td>13</td>\n",
              "      <td>3</td>\n",
              "      <td>5610</td>\n",
              "      <td>22</td>\n",
              "      <td>2</td>\n",
              "      <td>-1.374052</td>\n",
              "      <td>1</td>\n",
              "      <td>2</td>\n",
              "      <td>0.0</td>\n",
              "    </tr>\n",
              "  </tbody>\n",
              "</table>\n",
              "<p>70000 rows × 11 columns</p>\n",
              "</div>"
            ],
            "text/plain": [
              "           AGEP COW SCHL MAR  OCCP POBP RELP      WKHP SEX RAC1P  PINCP\n",
              "0      0.553915   1   13   1  5610  303    0  0.164197   1     8    0.0\n",
              "1      1.493117   1   19   5  4740  217    0 -2.143176   2     6    0.0\n",
              "2      0.889345   1   20   5  4700    6   12  0.164197   1     1    0.0\n",
              "3     -1.257403   1   16   5  5240    6    2 -0.989490   2     1    0.0\n",
              "4     -0.787802   6   16   5  6330    6    2  0.164197   1     1    0.0\n",
              "...         ...  ..  ...  ..   ...  ...  ...       ...  ..   ...    ...\n",
              "69995  0.822259   2    4   5  7340   37    0  0.933322   1     3    0.0\n",
              "69996  0.151400   6   20   1  9610    8    1  0.164197   1     1    0.0\n",
              "69997 -1.592832   1   19   5  2350    6   17 -1.758614   2     2    0.0\n",
              "69998  0.688087   1   19   1  5240  341    0 -1.066402   2     1    0.0\n",
              "69999  0.553915   1   13   3  5610   22    2 -1.374052   1     2    0.0\n",
              "\n",
              "[70000 rows x 11 columns]"
            ]
          },
          "metadata": {},
          "output_type": "display_data"
        }
      ],
      "source": [
        "#@markdown Standardize numerical features\n",
        "scaler = StandardScaler()\n",
        "full_df[numerical_cols] = scaler.fit_transform(full_df[numerical_cols])\n",
        "display(full_df)"
      ]
    },
    {
      "cell_type": "code",
      "execution_count": 14,
      "metadata": {
        "cellView": "form",
        "id": "ttOb_ULRsGUB"
      },
      "outputs": [
        {
          "data": {
            "text/html": [
              "<div>\n",
              "<style scoped>\n",
              "    .dataframe tbody tr th:only-of-type {\n",
              "        vertical-align: middle;\n",
              "    }\n",
              "\n",
              "    .dataframe tbody tr th {\n",
              "        vertical-align: top;\n",
              "    }\n",
              "\n",
              "    .dataframe thead th {\n",
              "        text-align: right;\n",
              "    }\n",
              "</style>\n",
              "<table border=\"1\" class=\"dataframe\">\n",
              "  <thead>\n",
              "    <tr style=\"text-align: right;\">\n",
              "      <th></th>\n",
              "      <th>AGEP</th>\n",
              "      <th>WKHP</th>\n",
              "      <th>PINCP</th>\n",
              "      <th>COW_1</th>\n",
              "      <th>COW_2</th>\n",
              "      <th>COW_3</th>\n",
              "      <th>COW_4</th>\n",
              "      <th>COW_5</th>\n",
              "      <th>COW_6</th>\n",
              "      <th>COW_7</th>\n",
              "      <th>...</th>\n",
              "      <th>RAC1P_2</th>\n",
              "      <th>RAC1P_3</th>\n",
              "      <th>RAC1P_4</th>\n",
              "      <th>RAC1P_5</th>\n",
              "      <th>RAC1P_6</th>\n",
              "      <th>RAC1P_7</th>\n",
              "      <th>RAC1P_8</th>\n",
              "      <th>RAC1P_9</th>\n",
              "      <th>SEX_1</th>\n",
              "      <th>SEX_2</th>\n",
              "    </tr>\n",
              "  </thead>\n",
              "  <tbody>\n",
              "    <tr>\n",
              "      <th>0</th>\n",
              "      <td>0.553915</td>\n",
              "      <td>0.164197</td>\n",
              "      <td>0.0</td>\n",
              "      <td>True</td>\n",
              "      <td>False</td>\n",
              "      <td>False</td>\n",
              "      <td>False</td>\n",
              "      <td>False</td>\n",
              "      <td>False</td>\n",
              "      <td>False</td>\n",
              "      <td>...</td>\n",
              "      <td>False</td>\n",
              "      <td>False</td>\n",
              "      <td>False</td>\n",
              "      <td>False</td>\n",
              "      <td>False</td>\n",
              "      <td>False</td>\n",
              "      <td>True</td>\n",
              "      <td>False</td>\n",
              "      <td>True</td>\n",
              "      <td>False</td>\n",
              "    </tr>\n",
              "    <tr>\n",
              "      <th>1</th>\n",
              "      <td>1.493117</td>\n",
              "      <td>-2.143176</td>\n",
              "      <td>0.0</td>\n",
              "      <td>True</td>\n",
              "      <td>False</td>\n",
              "      <td>False</td>\n",
              "      <td>False</td>\n",
              "      <td>False</td>\n",
              "      <td>False</td>\n",
              "      <td>False</td>\n",
              "      <td>...</td>\n",
              "      <td>False</td>\n",
              "      <td>False</td>\n",
              "      <td>False</td>\n",
              "      <td>False</td>\n",
              "      <td>True</td>\n",
              "      <td>False</td>\n",
              "      <td>False</td>\n",
              "      <td>False</td>\n",
              "      <td>False</td>\n",
              "      <td>True</td>\n",
              "    </tr>\n",
              "    <tr>\n",
              "      <th>2</th>\n",
              "      <td>0.889345</td>\n",
              "      <td>0.164197</td>\n",
              "      <td>0.0</td>\n",
              "      <td>True</td>\n",
              "      <td>False</td>\n",
              "      <td>False</td>\n",
              "      <td>False</td>\n",
              "      <td>False</td>\n",
              "      <td>False</td>\n",
              "      <td>False</td>\n",
              "      <td>...</td>\n",
              "      <td>False</td>\n",
              "      <td>False</td>\n",
              "      <td>False</td>\n",
              "      <td>False</td>\n",
              "      <td>False</td>\n",
              "      <td>False</td>\n",
              "      <td>False</td>\n",
              "      <td>False</td>\n",
              "      <td>True</td>\n",
              "      <td>False</td>\n",
              "    </tr>\n",
              "    <tr>\n",
              "      <th>3</th>\n",
              "      <td>-1.257403</td>\n",
              "      <td>-0.989490</td>\n",
              "      <td>0.0</td>\n",
              "      <td>True</td>\n",
              "      <td>False</td>\n",
              "      <td>False</td>\n",
              "      <td>False</td>\n",
              "      <td>False</td>\n",
              "      <td>False</td>\n",
              "      <td>False</td>\n",
              "      <td>...</td>\n",
              "      <td>False</td>\n",
              "      <td>False</td>\n",
              "      <td>False</td>\n",
              "      <td>False</td>\n",
              "      <td>False</td>\n",
              "      <td>False</td>\n",
              "      <td>False</td>\n",
              "      <td>False</td>\n",
              "      <td>False</td>\n",
              "      <td>True</td>\n",
              "    </tr>\n",
              "    <tr>\n",
              "      <th>4</th>\n",
              "      <td>-0.787802</td>\n",
              "      <td>0.164197</td>\n",
              "      <td>0.0</td>\n",
              "      <td>False</td>\n",
              "      <td>False</td>\n",
              "      <td>False</td>\n",
              "      <td>False</td>\n",
              "      <td>False</td>\n",
              "      <td>True</td>\n",
              "      <td>False</td>\n",
              "      <td>...</td>\n",
              "      <td>False</td>\n",
              "      <td>False</td>\n",
              "      <td>False</td>\n",
              "      <td>False</td>\n",
              "      <td>False</td>\n",
              "      <td>False</td>\n",
              "      <td>False</td>\n",
              "      <td>False</td>\n",
              "      <td>True</td>\n",
              "      <td>False</td>\n",
              "    </tr>\n",
              "    <tr>\n",
              "      <th>...</th>\n",
              "      <td>...</td>\n",
              "      <td>...</td>\n",
              "      <td>...</td>\n",
              "      <td>...</td>\n",
              "      <td>...</td>\n",
              "      <td>...</td>\n",
              "      <td>...</td>\n",
              "      <td>...</td>\n",
              "      <td>...</td>\n",
              "      <td>...</td>\n",
              "      <td>...</td>\n",
              "      <td>...</td>\n",
              "      <td>...</td>\n",
              "      <td>...</td>\n",
              "      <td>...</td>\n",
              "      <td>...</td>\n",
              "      <td>...</td>\n",
              "      <td>...</td>\n",
              "      <td>...</td>\n",
              "      <td>...</td>\n",
              "      <td>...</td>\n",
              "    </tr>\n",
              "    <tr>\n",
              "      <th>69995</th>\n",
              "      <td>0.822259</td>\n",
              "      <td>0.933322</td>\n",
              "      <td>0.0</td>\n",
              "      <td>False</td>\n",
              "      <td>True</td>\n",
              "      <td>False</td>\n",
              "      <td>False</td>\n",
              "      <td>False</td>\n",
              "      <td>False</td>\n",
              "      <td>False</td>\n",
              "      <td>...</td>\n",
              "      <td>False</td>\n",
              "      <td>True</td>\n",
              "      <td>False</td>\n",
              "      <td>False</td>\n",
              "      <td>False</td>\n",
              "      <td>False</td>\n",
              "      <td>False</td>\n",
              "      <td>False</td>\n",
              "      <td>True</td>\n",
              "      <td>False</td>\n",
              "    </tr>\n",
              "    <tr>\n",
              "      <th>69996</th>\n",
              "      <td>0.151400</td>\n",
              "      <td>0.164197</td>\n",
              "      <td>0.0</td>\n",
              "      <td>False</td>\n",
              "      <td>False</td>\n",
              "      <td>False</td>\n",
              "      <td>False</td>\n",
              "      <td>False</td>\n",
              "      <td>True</td>\n",
              "      <td>False</td>\n",
              "      <td>...</td>\n",
              "      <td>False</td>\n",
              "      <td>False</td>\n",
              "      <td>False</td>\n",
              "      <td>False</td>\n",
              "      <td>False</td>\n",
              "      <td>False</td>\n",
              "      <td>False</td>\n",
              "      <td>False</td>\n",
              "      <td>True</td>\n",
              "      <td>False</td>\n",
              "    </tr>\n",
              "    <tr>\n",
              "      <th>69997</th>\n",
              "      <td>-1.592832</td>\n",
              "      <td>-1.758614</td>\n",
              "      <td>0.0</td>\n",
              "      <td>True</td>\n",
              "      <td>False</td>\n",
              "      <td>False</td>\n",
              "      <td>False</td>\n",
              "      <td>False</td>\n",
              "      <td>False</td>\n",
              "      <td>False</td>\n",
              "      <td>...</td>\n",
              "      <td>True</td>\n",
              "      <td>False</td>\n",
              "      <td>False</td>\n",
              "      <td>False</td>\n",
              "      <td>False</td>\n",
              "      <td>False</td>\n",
              "      <td>False</td>\n",
              "      <td>False</td>\n",
              "      <td>False</td>\n",
              "      <td>True</td>\n",
              "    </tr>\n",
              "    <tr>\n",
              "      <th>69998</th>\n",
              "      <td>0.688087</td>\n",
              "      <td>-1.066402</td>\n",
              "      <td>0.0</td>\n",
              "      <td>True</td>\n",
              "      <td>False</td>\n",
              "      <td>False</td>\n",
              "      <td>False</td>\n",
              "      <td>False</td>\n",
              "      <td>False</td>\n",
              "      <td>False</td>\n",
              "      <td>...</td>\n",
              "      <td>False</td>\n",
              "      <td>False</td>\n",
              "      <td>False</td>\n",
              "      <td>False</td>\n",
              "      <td>False</td>\n",
              "      <td>False</td>\n",
              "      <td>False</td>\n",
              "      <td>False</td>\n",
              "      <td>False</td>\n",
              "      <td>True</td>\n",
              "    </tr>\n",
              "    <tr>\n",
              "      <th>69999</th>\n",
              "      <td>0.553915</td>\n",
              "      <td>-1.374052</td>\n",
              "      <td>0.0</td>\n",
              "      <td>True</td>\n",
              "      <td>False</td>\n",
              "      <td>False</td>\n",
              "      <td>False</td>\n",
              "      <td>False</td>\n",
              "      <td>False</td>\n",
              "      <td>False</td>\n",
              "      <td>...</td>\n",
              "      <td>True</td>\n",
              "      <td>False</td>\n",
              "      <td>False</td>\n",
              "      <td>False</td>\n",
              "      <td>False</td>\n",
              "      <td>False</td>\n",
              "      <td>False</td>\n",
              "      <td>False</td>\n",
              "      <td>True</td>\n",
              "      <td>False</td>\n",
              "    </tr>\n",
              "  </tbody>\n",
              "</table>\n",
              "<p>70000 rows × 807 columns</p>\n",
              "</div>"
            ],
            "text/plain": [
              "           AGEP      WKHP  PINCP  COW_1  COW_2  COW_3  COW_4  COW_5  COW_6  \\\n",
              "0      0.553915  0.164197    0.0   True  False  False  False  False  False   \n",
              "1      1.493117 -2.143176    0.0   True  False  False  False  False  False   \n",
              "2      0.889345  0.164197    0.0   True  False  False  False  False  False   \n",
              "3     -1.257403 -0.989490    0.0   True  False  False  False  False  False   \n",
              "4     -0.787802  0.164197    0.0  False  False  False  False  False   True   \n",
              "...         ...       ...    ...    ...    ...    ...    ...    ...    ...   \n",
              "69995  0.822259  0.933322    0.0  False   True  False  False  False  False   \n",
              "69996  0.151400  0.164197    0.0  False  False  False  False  False   True   \n",
              "69997 -1.592832 -1.758614    0.0   True  False  False  False  False  False   \n",
              "69998  0.688087 -1.066402    0.0   True  False  False  False  False  False   \n",
              "69999  0.553915 -1.374052    0.0   True  False  False  False  False  False   \n",
              "\n",
              "       COW_7  ...  RAC1P_2  RAC1P_3  RAC1P_4  RAC1P_5  RAC1P_6  RAC1P_7  \\\n",
              "0      False  ...    False    False    False    False    False    False   \n",
              "1      False  ...    False    False    False    False     True    False   \n",
              "2      False  ...    False    False    False    False    False    False   \n",
              "3      False  ...    False    False    False    False    False    False   \n",
              "4      False  ...    False    False    False    False    False    False   \n",
              "...      ...  ...      ...      ...      ...      ...      ...      ...   \n",
              "69995  False  ...    False     True    False    False    False    False   \n",
              "69996  False  ...    False    False    False    False    False    False   \n",
              "69997  False  ...     True    False    False    False    False    False   \n",
              "69998  False  ...    False    False    False    False    False    False   \n",
              "69999  False  ...     True    False    False    False    False    False   \n",
              "\n",
              "       RAC1P_8  RAC1P_9  SEX_1  SEX_2  \n",
              "0         True    False   True  False  \n",
              "1        False    False  False   True  \n",
              "2        False    False   True  False  \n",
              "3        False    False  False   True  \n",
              "4        False    False   True  False  \n",
              "...        ...      ...    ...    ...  \n",
              "69995    False    False   True  False  \n",
              "69996    False    False   True  False  \n",
              "69997    False    False  False   True  \n",
              "69998    False    False  False   True  \n",
              "69999    False    False   True  False  \n",
              "\n",
              "[70000 rows x 807 columns]"
            ]
          },
          "metadata": {},
          "output_type": "display_data"
        }
      ],
      "source": [
        "#@markdown One-hot encode categorical features\n",
        "full_df = pd.get_dummies(full_df, columns=categorical_cols)\n",
        "display(full_df)"
      ]
    },
    {
      "cell_type": "code",
      "execution_count": 15,
      "metadata": {
        "cellView": "form",
        "id": "1rLw5F6_sHew"
      },
      "outputs": [
        {
          "data": {
            "text/html": [
              "<div>\n",
              "<style scoped>\n",
              "    .dataframe tbody tr th:only-of-type {\n",
              "        vertical-align: middle;\n",
              "    }\n",
              "\n",
              "    .dataframe tbody tr th {\n",
              "        vertical-align: top;\n",
              "    }\n",
              "\n",
              "    .dataframe thead th {\n",
              "        text-align: right;\n",
              "    }\n",
              "</style>\n",
              "<table border=\"1\" class=\"dataframe\">\n",
              "  <thead>\n",
              "    <tr style=\"text-align: right;\">\n",
              "      <th></th>\n",
              "      <th>AGEP</th>\n",
              "      <th>WKHP</th>\n",
              "      <th>PINCP</th>\n",
              "      <th>COW_1</th>\n",
              "      <th>COW_2</th>\n",
              "      <th>COW_3</th>\n",
              "      <th>COW_4</th>\n",
              "      <th>COW_5</th>\n",
              "      <th>COW_6</th>\n",
              "      <th>COW_7</th>\n",
              "      <th>...</th>\n",
              "      <th>RAC1P_1</th>\n",
              "      <th>RAC1P_2</th>\n",
              "      <th>RAC1P_3</th>\n",
              "      <th>RAC1P_4</th>\n",
              "      <th>RAC1P_5</th>\n",
              "      <th>RAC1P_6</th>\n",
              "      <th>RAC1P_7</th>\n",
              "      <th>RAC1P_8</th>\n",
              "      <th>RAC1P_9</th>\n",
              "      <th>SEX</th>\n",
              "    </tr>\n",
              "  </thead>\n",
              "  <tbody>\n",
              "    <tr>\n",
              "      <th>0</th>\n",
              "      <td>0.553915</td>\n",
              "      <td>0.164197</td>\n",
              "      <td>0.0</td>\n",
              "      <td>True</td>\n",
              "      <td>False</td>\n",
              "      <td>False</td>\n",
              "      <td>False</td>\n",
              "      <td>False</td>\n",
              "      <td>False</td>\n",
              "      <td>False</td>\n",
              "      <td>...</td>\n",
              "      <td>False</td>\n",
              "      <td>False</td>\n",
              "      <td>False</td>\n",
              "      <td>False</td>\n",
              "      <td>False</td>\n",
              "      <td>False</td>\n",
              "      <td>False</td>\n",
              "      <td>True</td>\n",
              "      <td>False</td>\n",
              "      <td>True</td>\n",
              "    </tr>\n",
              "    <tr>\n",
              "      <th>1</th>\n",
              "      <td>1.493117</td>\n",
              "      <td>-2.143176</td>\n",
              "      <td>0.0</td>\n",
              "      <td>True</td>\n",
              "      <td>False</td>\n",
              "      <td>False</td>\n",
              "      <td>False</td>\n",
              "      <td>False</td>\n",
              "      <td>False</td>\n",
              "      <td>False</td>\n",
              "      <td>...</td>\n",
              "      <td>False</td>\n",
              "      <td>False</td>\n",
              "      <td>False</td>\n",
              "      <td>False</td>\n",
              "      <td>False</td>\n",
              "      <td>True</td>\n",
              "      <td>False</td>\n",
              "      <td>False</td>\n",
              "      <td>False</td>\n",
              "      <td>False</td>\n",
              "    </tr>\n",
              "    <tr>\n",
              "      <th>2</th>\n",
              "      <td>0.889345</td>\n",
              "      <td>0.164197</td>\n",
              "      <td>0.0</td>\n",
              "      <td>True</td>\n",
              "      <td>False</td>\n",
              "      <td>False</td>\n",
              "      <td>False</td>\n",
              "      <td>False</td>\n",
              "      <td>False</td>\n",
              "      <td>False</td>\n",
              "      <td>...</td>\n",
              "      <td>True</td>\n",
              "      <td>False</td>\n",
              "      <td>False</td>\n",
              "      <td>False</td>\n",
              "      <td>False</td>\n",
              "      <td>False</td>\n",
              "      <td>False</td>\n",
              "      <td>False</td>\n",
              "      <td>False</td>\n",
              "      <td>True</td>\n",
              "    </tr>\n",
              "    <tr>\n",
              "      <th>3</th>\n",
              "      <td>-1.257403</td>\n",
              "      <td>-0.989490</td>\n",
              "      <td>0.0</td>\n",
              "      <td>True</td>\n",
              "      <td>False</td>\n",
              "      <td>False</td>\n",
              "      <td>False</td>\n",
              "      <td>False</td>\n",
              "      <td>False</td>\n",
              "      <td>False</td>\n",
              "      <td>...</td>\n",
              "      <td>True</td>\n",
              "      <td>False</td>\n",
              "      <td>False</td>\n",
              "      <td>False</td>\n",
              "      <td>False</td>\n",
              "      <td>False</td>\n",
              "      <td>False</td>\n",
              "      <td>False</td>\n",
              "      <td>False</td>\n",
              "      <td>False</td>\n",
              "    </tr>\n",
              "    <tr>\n",
              "      <th>4</th>\n",
              "      <td>-0.787802</td>\n",
              "      <td>0.164197</td>\n",
              "      <td>0.0</td>\n",
              "      <td>False</td>\n",
              "      <td>False</td>\n",
              "      <td>False</td>\n",
              "      <td>False</td>\n",
              "      <td>False</td>\n",
              "      <td>True</td>\n",
              "      <td>False</td>\n",
              "      <td>...</td>\n",
              "      <td>True</td>\n",
              "      <td>False</td>\n",
              "      <td>False</td>\n",
              "      <td>False</td>\n",
              "      <td>False</td>\n",
              "      <td>False</td>\n",
              "      <td>False</td>\n",
              "      <td>False</td>\n",
              "      <td>False</td>\n",
              "      <td>True</td>\n",
              "    </tr>\n",
              "  </tbody>\n",
              "</table>\n",
              "<p>5 rows × 806 columns</p>\n",
              "</div>"
            ],
            "text/plain": [
              "       AGEP      WKHP  PINCP  COW_1  COW_2  COW_3  COW_4  COW_5  COW_6  COW_7  \\\n",
              "0  0.553915  0.164197    0.0   True  False  False  False  False  False  False   \n",
              "1  1.493117 -2.143176    0.0   True  False  False  False  False  False  False   \n",
              "2  0.889345  0.164197    0.0   True  False  False  False  False  False  False   \n",
              "3 -1.257403 -0.989490    0.0   True  False  False  False  False  False  False   \n",
              "4 -0.787802  0.164197    0.0  False  False  False  False  False   True  False   \n",
              "\n",
              "   ...  RAC1P_1  RAC1P_2  RAC1P_3  RAC1P_4  RAC1P_5  RAC1P_6  RAC1P_7  \\\n",
              "0  ...    False    False    False    False    False    False    False   \n",
              "1  ...    False    False    False    False    False     True    False   \n",
              "2  ...     True    False    False    False    False    False    False   \n",
              "3  ...     True    False    False    False    False    False    False   \n",
              "4  ...     True    False    False    False    False    False    False   \n",
              "\n",
              "   RAC1P_8  RAC1P_9    SEX  \n",
              "0     True    False   True  \n",
              "1    False    False  False  \n",
              "2    False    False   True  \n",
              "3    False    False  False  \n",
              "4    False    False   True  \n",
              "\n",
              "[5 rows x 806 columns]"
            ]
          },
          "execution_count": 15,
          "metadata": {},
          "output_type": "execute_result"
        }
      ],
      "source": [
        "#@markdown Since the sex attribute is already binary we can drop one of the redundant dummy columns\n",
        "#note: males are now labeled as 1 and females are labeled as 0\n",
        "full_df.drop(columns=['SEX_2'], inplace=True)\n",
        "full_df.rename(columns={'SEX_1':'SEX'}, inplace=True)\n",
        "\n",
        "full_df.head()"
      ]
    },
    {
      "cell_type": "markdown",
      "metadata": {
        "id": "lldcQFkCx1Y5"
      },
      "source": [
        "#3. Train Logistic Regression Classifier\n",
        "Next, we will split our data into training and test sets randomly.  Then, we will train a logistic regression classifier and evaluate possible biases within that classifier.\n",
        "\n",
        "### Aside: Accuracy as a Metric\n",
        "\n",
        "Traditional machine learning (i.e. without a focus on fairness) often measures the quality of a classifier by it's **accuracy**, or what fraction of samples were labeled correctly:\n",
        "$$\n",
        "\\text{Accuracy} = \\frac{\\text{Number of Correctly Labeled People}}{\\text{Total Number of People}}\n",
        "$$\n",
        "This can also be expressed using the terms of the [\"Confusion Matrix\"](https://en.wikipedia.org/wiki/Confusion_matrix), where we let\n",
        "- $\\text{TP} = $ \"True Positives\" $ = \\text{Num. people Correctly labeled as Positive}$\n",
        "- $\\text{FP} = $ \"False Positives\" $ = \\text{Num. people Wrongly labeled as Positive}$\n",
        "- $\\text{TN} = $ \"True Negatives\" $ = \\text{Num. people Correctly labeled as Negative}$\n",
        "- $\\text{FN} = $ \"False Negatives\" $ = \\text{Num. people Wrongly labeled as Negative}$\n",
        "\n",
        "Which lets us express the Accuacy as\n",
        "$$\n",
        "\\text{Accuracy} = \\frac{TP + TN}{TP + FP + TN + FN}\n",
        "$$"
      ]
    },
    {
      "cell_type": "code",
      "execution_count": 16,
      "metadata": {
        "id": "ugcIGIK_XDxC"
      },
      "outputs": [
        {
          "name": "stdout",
          "output_type": "stream",
          "text": [
            "X_train shape: (56000, 805)\n",
            "X_test shape: (14000, 805)\n",
            "y_train shape: (56000,)\n",
            "y_test shape: (14000,)\n"
          ]
        }
      ],
      "source": [
        "#@markdown Split data into training and test sets\n",
        "target = full_df['PINCP']\n",
        "full_df.drop(columns='PINCP', inplace=True)\n",
        "\n",
        "#note: here we are setting a value for the random_state (seed) parameter so that the results of this lab will remain consistent\n",
        "X_train, X_test, y_train, y_test = train_test_split(full_df, target, test_size=0.2, random_state=4)\n",
        "\n",
        "print(f'X_train shape: {X_train.shape}')\n",
        "print(f'X_test shape: {X_test.shape}')\n",
        "print(f'y_train shape: {y_train.shape}')\n",
        "print(f'y_test shape: {y_test.shape}')"
      ]
    },
    {
      "cell_type": "code",
      "execution_count": 17,
      "metadata": {
        "id": "NlbkMZZEoFxG"
      },
      "outputs": [
        {
          "name": "stdout",
          "output_type": "stream",
          "text": [
            "PINCP\n",
            "0.0    8259\n",
            "1.0    5741\n",
            "Name: count, dtype: int64\n",
            "General baseline accuracy: 0.5899\n"
          ]
        }
      ],
      "source": [
        "#@markdown #**TODO**: What would be the accuracy ($\\frac{(TP + TN)}{(TP + FP + TN + FN)}$) of a classifier that always predicts the majority label (baseline classifier)?\n",
        "#@markdown Since the majority label is 0, the accuracy of this majority label classifier would be the number of 0's over the total number of records.\n",
        "\n",
        "# TODO: write code here\n",
        "\n",
        "# baseline_accuracy = ...\n",
        "# print(f'General baseline accuracy: {baseline_accuracy:.4f}')\n",
        "\n",
        "print(y_test.value_counts())\n",
        "baseline_accuracy = y_test.value_counts()[0] / len(y_test)\n",
        "print(f'General baseline accuracy: {baseline_accuracy:.4f}')\n"
      ]
    },
    {
      "cell_type": "code",
      "execution_count": 18,
      "metadata": {
        "cellView": "form",
        "id": "FHt5VXJefZ8L"
      },
      "outputs": [
        {
          "name": "stdout",
          "output_type": "stream",
          "text": [
            "Male:\n",
            "X_train_male shape: (34993, 805)\n",
            "X_test_male shape: (1842, 805)\n",
            "y_train_male shape: (34993,)\n",
            "y_test_male shape: (1842,)\n",
            "General baseline accuracy_male: 0.0005\n",
            "Female:\n",
            "X_train_female shape: (31506, 805)\n",
            "X_test_female shape: (1659, 805)\n",
            "y_train_female shape: (31506,)\n",
            "y_test_female shape: (1659,)\n",
            "General baseline accuracy_female: 1.0000\n"
          ]
        }
      ],
      "source": [
        "# @markdown #**TODO**: What would be the accuracy_male ($\\frac{(TP + TN)}{(TP + FP + TN + FN)}$) for the Male and Female groups considering a classifier that always predicts the majority label (baseline classifier) for each of these groups?\n",
        "\n",
        "# TODO: write code here\n",
        "\n",
        "# male_baseline_accuracy_male = ...\n",
        "# female_baseline_accuracy_male = ...\n",
        "# print(f'Male baseline accuracy_male: {male_baseline_accuracy_male:.4f}')\n",
        "# print(f'Female baseline accuracy_male: {female_baseline_accuracy_male:.4f}')\n",
        "\n",
        "#@markdown Split data into training and test sets\n",
        "print('Male:')\n",
        "male_df = full_df[full_df['SEX']==True]\n",
        "target_male = male_df['SEX']\n",
        "#male_df.drop(columns='SEX', inplace=True)\n",
        "\n",
        "#note: here we are setting a value for the random_state (seed) parameter so that the results of this lab will remain consistent\n",
        "X_train_male, X_test_male, y_train_male, y_test_male = train_test_split(male_df, target_male, test_size=0.05, random_state=4)\n",
        "\n",
        "print(f'X_train_male shape: {X_train_male.shape}')\n",
        "print(f'X_test_male shape: {X_test_male.shape}')\n",
        "print(f'y_train_male shape: {y_train_male.shape}')\n",
        "print(f'y_test_male shape: {y_test_male.shape}')\n",
        "\n",
        "numerator_male = y_test_male.value_counts(True).iloc[0]\n",
        "denominator_male = len(y_test_male)\n",
        "accuracy_male = numerator_male/denominator_male\n",
        "print(f'General baseline accuracy_male: {accuracy_male:.4f}')\n",
        "\n",
        "print('Female:')\n",
        "female_df = full_df[full_df['SEX']==False]\n",
        "target_female = female_df['SEX']\n",
        "#female_df.drop(columns='SEX', inplace=True)\n",
        "\n",
        "X_train_female, X_test_female, y_train_female, y_test_female = train_test_split(female_df, target_female, test_size=0.05, random_state=4)\n",
        "\n",
        "print(f'X_train_female shape: {X_train_female.shape}')\n",
        "print(f'X_test_female shape: {X_test_female.shape}')\n",
        "print(f'y_train_female shape: {y_train_female.shape}')\n",
        "print(f'y_test_female shape: {y_test_female.shape}')\n",
        "\n",
        "numerator_female = y_test_female.value_counts(False).iloc[0]\n",
        "denominator_female = len(y_test_female)\n",
        "accuracy_female = numerator_female/denominator_female\n",
        "print(f'General baseline accuracy_female: {accuracy_female:.4f}')"
      ]
    },
    {
      "cell_type": "code",
      "execution_count": 19,
      "metadata": {
        "cellView": "form",
        "id": "d6f1ZdiyXSE3"
      },
      "outputs": [
        {
          "name": "stdout",
          "output_type": "stream",
          "text": [
            "Logistic Regression test accuracy: 0.8119\n"
          ]
        }
      ],
      "source": [
        "#@markdown Implement logistic regression\n",
        "clf = LogisticRegression()\n",
        "clf.fit(X_train, y_train)\n",
        "clf_accuracy = clf.score(X_test, y_test)\n",
        "\n",
        "clear_output()\n",
        "\n",
        "print(f'Logistic Regression test accuracy: {clf_accuracy:.4f}')"
      ]
    },
    {
      "cell_type": "markdown",
      "metadata": {
        "id": "d9vugXFztlG8"
      },
      "source": [
        "## Evaluate fairness"
      ]
    },
    {
      "cell_type": "markdown",
      "metadata": {
        "id": "GlGbK5w4x7q-"
      },
      "source": [
        "Next, we will evaluate the fairness of our classifier on the test set. We first define the **selection rate** of the classifier on a group:\n",
        "$$\n",
        "\\text{Selection Rate} = \\frac{\\text{Number of People Classified Positive}}{\\text{Total Number of People}}\n",
        "$$\n",
        "We will compute the selection rate amongst men and amongst women, and compare them. The difference of their selection rates is called the **Demographic parity difference**, and the ratio of their rates is called the **Demographic parity ratio**.\n",
        "\n",
        "In general, if we have more than 2 classes,\n",
        "- The demographic parity difference is the difference of the largest and smallest selection rates, so it is always positive. A demographic parity difference of 0 means that all groups have the same selection rate.\n",
        "\n",
        "- The demographic parity ratio is the ratio of the smallest to largest selection rates, so it is always between 0 and 1, where a ratio of 1 means that all groups have the same selection rate.\n",
        "\n",
        "<!-- Next, we will evaluate the fairness of our classifier on the test set.  We will first focus on two metrics - demographic parity difference and demographic parity ratio.  **Demographic parity difference** is defined as the difference between the largest and the smallest group-level selection rate across all values of the sensitive feature(s).  A demographic parity difference of 0 means that all groups have the same selection rate.  **Demographic parity ratio** is defined as the ratio between the smallest and the largest group-level selection rate across all values of the sensitive feature(s).  A demographic parity ratio of 1 means that all groups have the same selection rate. -->\n",
        "\n",
        "More formally: let $X$ denote a feature vector used for predictions, $A$ be a single sensitive feature (such as age or race), $Y$ be the true label, and $h$ a classifier or predictor resulted from a Machine Learning algorithm. Then:\n",
        "\n",
        "*Demographic Parity Difference* is defined as $(max_a\\mathbb{E}[h(X)~|~  A = a])~ - ~ (min_a\\mathbb{E}[h(X)~|~  A = a]) $\n",
        "\n",
        "\n",
        "*Demographic Parity Ratio* is defined as $\\frac{max_a\\mathbb{E}[h(X)~|~  A = a]}{min_a\\mathbb{E}[h(X)~|~  A = a]} $"
      ]
    },
    {
      "cell_type": "code",
      "execution_count": 20,
      "metadata": {
        "cellView": "form",
        "id": "S9-CPsT9bhhy"
      },
      "outputs": [
        {
          "name": "stdout",
          "output_type": "stream",
          "text": [
            "Demographic parity difference: 0.1396\n",
            "Demographic parity ratio: 0.7028\n",
            "Male selection rate: 0.4697\n",
            "Female selection rate: 0.3301\n"
          ]
        }
      ],
      "source": [
        "#@markdown Evaluate the fairness of the classifier using `demographic_parity_difference` and `demographic_parity_ratio`\n",
        "#note: we are conducting this analysis over the test set\n",
        "\n",
        "#compute test predictions\n",
        "y_pred = clf.predict(X_test)\n",
        "\n",
        "#compute demographic parity difference and demographic parity ratio\n",
        "demo_parity_diff = demographic_parity_difference(y_test, y_pred, sensitive_features=X_test['SEX'])\n",
        "demo_parity_ratio = demographic_parity_ratio(y_test, y_pred, sensitive_features=X_test['SEX'])\n",
        "\n",
        "print(f'Demographic parity difference: {demo_parity_diff:.4f}')\n",
        "print(f'Demographic parity ratio: {demo_parity_ratio:.4f}')\n",
        "\n",
        "#compute selection rate for males and females\n",
        "male_selection_rate = selection_rate(y_test[X_test['SEX']==1], y_pred[X_test['SEX']==1])\n",
        "female_selection_rate = selection_rate(y_test[X_test['SEX']==0], y_pred[X_test['SEX']==0])\n",
        "\n",
        "print(f'Male selection rate: {male_selection_rate:.4f}')\n",
        "print(f'Female selection rate: {female_selection_rate:.4f}')"
      ]
    },
    {
      "cell_type": "markdown",
      "metadata": {
        "id": "JbwDQ2nQ8c_J"
      },
      "source": [
        "Here, we can see that there are substantial differences in selection rates between males and females with males being significantly more likely to be classified as high income."
      ]
    },
    {
      "cell_type": "markdown",
      "metadata": {
        "id": "DxWyzIlKyHIH"
      },
      "source": [
        "Fairlearn also provides the fairlearn.metrics.MetricFrame class to evaluate disparities in treatment between different sub-populations.\n",
        "\n",
        "The **fairlearn.metrics.MetricFrame** object requires a minimum of four arguments:\n",
        "\n",
        "*   The underlying metric function(s) to be evaluated\n",
        "*   The true values\n",
        "*   The predicted values\n",
        "*   The sensitive feature values\n",
        "\n",
        "Metric functions must have a signature ''fn(y_true, y_pred)'', i.e., require only two arguments.  Here we will again look at selection rate, but we will also examine a few other metrics.  We will use accuracy, selection rate, false negative rate, and false positive rate."
      ]
    },
    {
      "cell_type": "code",
      "execution_count": 21,
      "metadata": {
        "cellView": "form",
        "id": "0lhzxtUcmay1"
      },
      "outputs": [],
      "source": [
        "#@markdown Evaluate the fairness of the classifier using the MetricFrame class for the `SEX` variable\n",
        "\n",
        "#changing sensitive feature inputs to be 'male' and 'female' instead of 1 and 0\n",
        "sensitive_feature_sex = X_test['SEX'].replace({0:'female', 1:'male'})\n",
        "\n",
        "#evaluation metrics\n",
        "metrics = {'accuracy': skm.accuracy_score,\n",
        "           'selection_rate': selection_rate,  # i.e., the percentage of the population which have ‘1’ as their predicted label\n",
        "           'FNR': false_negative_rate,\n",
        "           'FPR': false_positive_rate\n",
        "           }\n",
        "\n",
        "grouped_on_sex = MetricFrame(metrics=metrics,\n",
        "                             y_true=y_test,\n",
        "                             y_pred=y_pred,\n",
        "                             sensitive_features=sensitive_feature_sex)"
      ]
    },
    {
      "cell_type": "markdown",
      "metadata": {
        "id": "P-AAN3eYyOrh"
      },
      "source": [
        "The **fairlearn.metrics.MetricFrame** has the **overall** property, which evaluates the metrics on the entire dataset."
      ]
    },
    {
      "cell_type": "code",
      "execution_count": 22,
      "metadata": {
        "cellView": "form",
        "id": "JPuojgxHm4EG"
      },
      "outputs": [
        {
          "data": {
            "text/plain": [
              "accuracy          0.811857\n",
              "selection_rate    0.402357\n",
              "FNR               0.238809\n",
              "FPR               0.152924\n",
              "dtype: float64"
            ]
          },
          "execution_count": 22,
          "metadata": {},
          "output_type": "execute_result"
        }
      ],
      "source": [
        "#@title\n",
        "grouped_on_sex.overall"
      ]
    },
    {
      "cell_type": "code",
      "execution_count": 23,
      "metadata": {
        "cellView": "form",
        "id": "OG4i1QxPYDm9"
      },
      "outputs": [],
      "source": [
        "#@markdown # **TODO**: Evaluate fairness for the `RAC1P` variable (for black and white individuals at minimum), and show `grouped_on_race.overall`\n",
        "\n",
        "# TODO: write code here\n",
        "\n",
        "white_df = full_df[full_df['RAC1P_1']==True]\n",
        "target_white = white_df['RAC1P_1']\n",
        "#white_df.drop(columns='RAC1P_1', inplace=True)\n",
        "\n",
        "X_train_white, X_test_white, y_train_white, y_test_white = train_test_split(white_df, target_white, test_size=0.05, random_state=4)\n",
        "\n",
        "black_df = full_df[full_df['RAC1P_2']==False]\n",
        "target_black = black_df['RAC1P_2']\n",
        "#black_df.drop(columns='RAC1P_2', inplace=True)\n",
        "\n",
        "X_train_black, X_test_black, y_train_black, y_test_black = train_test_split(black_df, target_black, test_size=0.05, random_state=4)\n",
        "\n",
        "\n",
        "#changing sensitive feature inputs to be 'white' and 'non-white' instead of 1 and 0\n",
        "sensitive_feature_white = X_test_white['RAC1P_1'].replace({0:'white', 1:'non-white'})\n",
        "#changing sensitive feature inputs to be 'black' and 'non-black' instead of 1 and 0\n",
        "sensitive_feature_black = X_test_black['RAC1P_2'].replace({0:'black', 1:'non-black'})\n",
        "sensitive_feature_race = np.concatenate([sensitive_feature_white, sensitive_feature_black])\n",
        "\n",
        "y_test_race = np.concatenate([y_test_white, y_test_black])\n",
        "y_pred_race = np.concatenate([clf.predict(X_test_white), clf.predict(X_test_black)])\n",
        "\n",
        "grouped_on_race = MetricFrame(metrics=metrics,\n",
        "                             y_true=y_test_race,\n",
        "                             y_pred=y_pred_race,\n",
        "                             sensitive_features=sensitive_feature_race)"
      ]
    },
    {
      "cell_type": "code",
      "execution_count": 24,
      "metadata": {
        "cellView": "form",
        "id": "HD4OsxeWbXjW"
      },
      "outputs": [
        {
          "data": {
            "text/plain": [
              "accuracy          0.529860\n",
              "selection_rate    0.415320\n",
              "FNR               0.569778\n",
              "FPR               0.405680\n",
              "dtype: float64"
            ]
          },
          "execution_count": 24,
          "metadata": {},
          "output_type": "execute_result"
        }
      ],
      "source": [
        "#@markdown\n",
        "grouped_on_race.overall"
      ]
    },
    {
      "cell_type": "markdown",
      "metadata": {
        "id": "yr-EFAs8yQBd"
      },
      "source": [
        "The **fairlearn.metrics.MetricFrame** object also has the **by_group** functionality. This displays the selected metrics evaluated on each subgroup defined by the categories in the sensitive_features (sex in our case)."
      ]
    },
    {
      "cell_type": "code",
      "execution_count": 25,
      "metadata": {
        "cellView": "form",
        "id": "F4KM3xmxm9Ng"
      },
      "outputs": [
        {
          "data": {
            "text/html": [
              "<div>\n",
              "<style scoped>\n",
              "    .dataframe tbody tr th:only-of-type {\n",
              "        vertical-align: middle;\n",
              "    }\n",
              "\n",
              "    .dataframe tbody tr th {\n",
              "        vertical-align: top;\n",
              "    }\n",
              "\n",
              "    .dataframe thead th {\n",
              "        text-align: right;\n",
              "    }\n",
              "</style>\n",
              "<table border=\"1\" class=\"dataframe\">\n",
              "  <thead>\n",
              "    <tr style=\"text-align: right;\">\n",
              "      <th></th>\n",
              "      <th>accuracy</th>\n",
              "      <th>selection_rate</th>\n",
              "      <th>FNR</th>\n",
              "      <th>FPR</th>\n",
              "    </tr>\n",
              "    <tr>\n",
              "      <th>SEX</th>\n",
              "      <th></th>\n",
              "      <th></th>\n",
              "      <th></th>\n",
              "      <th></th>\n",
              "    </tr>\n",
              "  </thead>\n",
              "  <tbody>\n",
              "    <tr>\n",
              "      <th>False</th>\n",
              "      <td>0.814074</td>\n",
              "      <td>0.330074</td>\n",
              "      <td>0.294118</td>\n",
              "      <td>0.12765</td>\n",
              "    </tr>\n",
              "    <tr>\n",
              "      <th>True</th>\n",
              "      <td>0.809793</td>\n",
              "      <td>0.469655</td>\n",
              "      <td>0.200118</td>\n",
              "      <td>0.18156</td>\n",
              "    </tr>\n",
              "  </tbody>\n",
              "</table>\n",
              "</div>"
            ],
            "text/plain": [
              "       accuracy  selection_rate       FNR      FPR\n",
              "SEX                                               \n",
              "False  0.814074        0.330074  0.294118  0.12765\n",
              "True   0.809793        0.469655  0.200118  0.18156"
            ]
          },
          "execution_count": 25,
          "metadata": {},
          "output_type": "execute_result"
        }
      ],
      "source": [
        "#@title\n",
        "grouped_on_sex.by_group"
      ]
    },
    {
      "cell_type": "code",
      "execution_count": 26,
      "metadata": {
        "cellView": "form",
        "id": "LaYBo98cbbJK"
      },
      "outputs": [
        {
          "data": {
            "text/html": [
              "<div>\n",
              "<style scoped>\n",
              "    .dataframe tbody tr th:only-of-type {\n",
              "        vertical-align: middle;\n",
              "    }\n",
              "\n",
              "    .dataframe tbody tr th {\n",
              "        vertical-align: top;\n",
              "    }\n",
              "\n",
              "    .dataframe thead th {\n",
              "        text-align: right;\n",
              "    }\n",
              "</style>\n",
              "<table border=\"1\" class=\"dataframe\">\n",
              "  <thead>\n",
              "    <tr style=\"text-align: right;\">\n",
              "      <th></th>\n",
              "      <th>accuracy</th>\n",
              "      <th>selection_rate</th>\n",
              "      <th>FNR</th>\n",
              "      <th>FPR</th>\n",
              "    </tr>\n",
              "    <tr>\n",
              "      <th>sensitive_feature_0</th>\n",
              "      <th></th>\n",
              "      <th></th>\n",
              "      <th></th>\n",
              "      <th></th>\n",
              "    </tr>\n",
              "  </thead>\n",
              "  <tbody>\n",
              "    <tr>\n",
              "      <th>False</th>\n",
              "      <td>0.594320</td>\n",
              "      <td>0.405680</td>\n",
              "      <td>0.000000</td>\n",
              "      <td>0.40568</td>\n",
              "    </tr>\n",
              "    <tr>\n",
              "      <th>True</th>\n",
              "      <td>0.430222</td>\n",
              "      <td>0.430222</td>\n",
              "      <td>0.569778</td>\n",
              "      <td>0.00000</td>\n",
              "    </tr>\n",
              "  </tbody>\n",
              "</table>\n",
              "</div>"
            ],
            "text/plain": [
              "                     accuracy  selection_rate       FNR      FPR\n",
              "sensitive_feature_0                                             \n",
              "False                0.594320        0.405680  0.000000  0.40568\n",
              "True                 0.430222        0.430222  0.569778  0.00000"
            ]
          },
          "execution_count": 26,
          "metadata": {},
          "output_type": "execute_result"
        }
      ],
      "source": [
        "#@markdown # **TODO**: Display for `RAC1P` as well\n",
        "\n",
        "# TODO: write code here\n",
        "grouped_on_race.by_group"
      ]
    },
    {
      "cell_type": "code",
      "execution_count": 27,
      "metadata": {},
      "outputs": [
        {
          "data": {
            "text/html": [
              "<div>\n",
              "<style scoped>\n",
              "    .dataframe tbody tr th:only-of-type {\n",
              "        vertical-align: middle;\n",
              "    }\n",
              "\n",
              "    .dataframe tbody tr th {\n",
              "        vertical-align: top;\n",
              "    }\n",
              "\n",
              "    .dataframe thead th {\n",
              "        text-align: right;\n",
              "    }\n",
              "</style>\n",
              "<table border=\"1\" class=\"dataframe\">\n",
              "  <thead>\n",
              "    <tr style=\"text-align: right;\">\n",
              "      <th></th>\n",
              "      <th>accuracy</th>\n",
              "      <th>selection_rate</th>\n",
              "      <th>FNR</th>\n",
              "      <th>FPR</th>\n",
              "    </tr>\n",
              "    <tr>\n",
              "      <th>RAC1P_1</th>\n",
              "      <th></th>\n",
              "      <th></th>\n",
              "      <th></th>\n",
              "      <th></th>\n",
              "    </tr>\n",
              "  </thead>\n",
              "  <tbody>\n",
              "    <tr>\n",
              "      <th>True</th>\n",
              "      <td>0.430222</td>\n",
              "      <td>0.430222</td>\n",
              "      <td>0.569778</td>\n",
              "      <td>0.0</td>\n",
              "    </tr>\n",
              "  </tbody>\n",
              "</table>\n",
              "</div>"
            ],
            "text/plain": [
              "         accuracy  selection_rate       FNR  FPR\n",
              "RAC1P_1                                         \n",
              "True     0.430222        0.430222  0.569778  0.0"
            ]
          },
          "execution_count": 27,
          "metadata": {},
          "output_type": "execute_result"
        }
      ],
      "source": [
        "#@markdown # White\n",
        "\n",
        "white_df = full_df[full_df['RAC1P_1']==True]\n",
        "target_white = white_df['RAC1P_1']\n",
        "#white_df.drop(columns='RAC1P_1', inplace=True)\n",
        "\n",
        "X_train_white, X_test_white, y_train_white, y_test_white = train_test_split(white_df, target_white, test_size=0.05, random_state=4)\n",
        "\n",
        "\n",
        "#changing sensitive feature inputs to be 'white' and 'non-white' instead of 1 and 0\n",
        "sensitive_feature_white = X_test_white['RAC1P_1'].replace({0:'white', 1:'non-white'})\n",
        "y_pred_white = clf.predict(X_test_white)\n",
        "\n",
        "grouped_on_white = MetricFrame(metrics=metrics,\n",
        "                             y_true=y_test_white,\n",
        "                             y_pred=y_pred_white,\n",
        "                             sensitive_features=sensitive_feature_white)\n",
        "grouped_on_white.by_group"
      ]
    },
    {
      "cell_type": "code",
      "execution_count": 28,
      "metadata": {},
      "outputs": [
        {
          "data": {
            "text/html": [
              "<div>\n",
              "<style scoped>\n",
              "    .dataframe tbody tr th:only-of-type {\n",
              "        vertical-align: middle;\n",
              "    }\n",
              "\n",
              "    .dataframe tbody tr th {\n",
              "        vertical-align: top;\n",
              "    }\n",
              "\n",
              "    .dataframe thead th {\n",
              "        text-align: right;\n",
              "    }\n",
              "</style>\n",
              "<table border=\"1\" class=\"dataframe\">\n",
              "  <thead>\n",
              "    <tr style=\"text-align: right;\">\n",
              "      <th></th>\n",
              "      <th>accuracy</th>\n",
              "      <th>selection_rate</th>\n",
              "      <th>FNR</th>\n",
              "      <th>FPR</th>\n",
              "    </tr>\n",
              "    <tr>\n",
              "      <th>RAC1P_2</th>\n",
              "      <th></th>\n",
              "      <th></th>\n",
              "      <th></th>\n",
              "      <th></th>\n",
              "    </tr>\n",
              "  </thead>\n",
              "  <tbody>\n",
              "    <tr>\n",
              "      <th>True</th>\n",
              "      <td>0.346154</td>\n",
              "      <td>0.346154</td>\n",
              "      <td>0.653846</td>\n",
              "      <td>0.0</td>\n",
              "    </tr>\n",
              "  </tbody>\n",
              "</table>\n",
              "</div>"
            ],
            "text/plain": [
              "         accuracy  selection_rate       FNR  FPR\n",
              "RAC1P_2                                         \n",
              "True     0.346154        0.346154  0.653846  0.0"
            ]
          },
          "execution_count": 28,
          "metadata": {},
          "output_type": "execute_result"
        }
      ],
      "source": [
        "#@markdown # Black\n",
        "\n",
        "black_df = full_df[full_df['RAC1P_2']==True]\n",
        "target_black = black_df['RAC1P_2']\n",
        "#black_df.drop(columns='RAC1P_1', inplace=True)\n",
        "\n",
        "X_train_black, X_test_black, y_train_black, y_test_black = train_test_split(black_df, target_black, test_size=0.05, random_state=4)\n",
        "\n",
        "\n",
        "#changing sensitive feature inputs to be 'black' and 'non-black' instead of 1 and 0\n",
        "sensitive_feature_black = X_test_black['RAC1P_2'].replace({0:'black', 1:'non-black'})\n",
        "y_pred_black = clf.predict(X_test_black)\n",
        "\n",
        "grouped_on_black = MetricFrame(metrics=metrics,\n",
        "                             y_true=y_test_black,\n",
        "                             y_pred=y_pred_black,\n",
        "                             sensitive_features=sensitive_feature_black)\n",
        "grouped_on_black.by_group"
      ]
    },
    {
      "cell_type": "markdown",
      "metadata": {
        "id": "LNr0r1yIIE3Y"
      },
      "source": [
        "Reminder: Females are labeled 0 and males are labeled 1."
      ]
    },
    {
      "cell_type": "code",
      "execution_count": 29,
      "metadata": {
        "cellView": "form",
        "id": "5B9z7HUdm_up"
      },
      "outputs": [
        {
          "data": {
            "text/plain": [
              "<AxesSubplot:title={'center':'FNR and FPR by sex'}, xlabel='SEX'>"
            ]
          },
          "execution_count": 29,
          "metadata": {},
          "output_type": "execute_result"
        },
        {
          "data": {
            "image/png": "[encoded data removed]",
            "text/plain": [
              "<Figure size 1000x700 with 1 Axes>"
            ]
          },
          "metadata": {},
          "output_type": "display_data"
        },
        {
          "data": {
            "image/png": "[encoded data removed]",
            "text/plain": [
              "<Figure size 1000x700 with 1 Axes>"
            ]
          },
          "metadata": {},
          "output_type": "display_data"
        }
      ],
      "source": [
        "#@markdown Plot the metric values\n",
        "\n",
        "metrics_1 = {'accuracy': skm.accuracy_score,\n",
        "           'selection_rate': selection_rate,  # i.e., the percentage of the population which have ‘1’ as their predicted label\n",
        "           }\n",
        "\n",
        "metrics_2 = {\n",
        "           'FNR': false_negative_rate,\n",
        "           'FPR': false_positive_rate\n",
        "           }\n",
        "\n",
        "grouped_on_sex_accuracy_selection = MetricFrame(metrics=metrics_1,\n",
        "                             y_true=y_test,\n",
        "                             y_pred=y_pred,\n",
        "                             sensitive_features=sensitive_feature_sex)\n",
        "\n",
        "grouped_on_sex_fpr_fnr = MetricFrame(metrics=metrics_2,\n",
        "                             y_true=y_test,\n",
        "                             y_pred=y_pred,\n",
        "                             sensitive_features=sensitive_feature_sex)\n",
        "\n",
        "grouped_on_sex_accuracy_selection.by_group.plot.bar(\n",
        "    subplots=False,\n",
        "    figsize=(10, 7),\n",
        "    ylim=[0,1],\n",
        "    title=\"Accuracy and selection rate by sex\",\n",
        "    )\n",
        "\n",
        "grouped_on_sex_fpr_fnr.by_group.plot.bar(\n",
        "    subplots=False,\n",
        "    figsize=(10, 7),\n",
        "    ylim=[0,1],\n",
        "    title=\"FNR and FPR by sex\",\n",
        "    )"
      ]
    },
    {
      "cell_type": "code",
      "execution_count": 30,
      "metadata": {
        "cellView": "form",
        "id": "PK3tfGI-bjAy"
      },
      "outputs": [
        {
          "data": {
            "text/plain": [
              "<AxesSubplot:title={'center':'FNR and FPR by race'}, xlabel='sensitive_feature_0'>"
            ]
          },
          "execution_count": 30,
          "metadata": {},
          "output_type": "execute_result"
        },
        {
          "data": {
            "image/png": "[encoded data removed]",
            "text/plain": [
              "<Figure size 1000x700 with 1 Axes>"
            ]
          },
          "metadata": {},
          "output_type": "display_data"
        },
        {
          "data": {
            "image/png": "[encoded data removed]",
            "text/plain": [
              "<Figure size 1000x700 with 1 Axes>"
            ]
          },
          "metadata": {},
          "output_type": "display_data"
        }
      ],
      "source": [
        "# @markdown #**TODO**: Replicate the above plots for at `RAC1P` and at least black/white individuals in the data.\n",
        "\n",
        "# TODO: write code here\n",
        "\n",
        "grouped_on_race_accuracy_selection = MetricFrame(metrics=metrics_1,\n",
        "                             y_true=y_test_race,\n",
        "                             y_pred=y_pred_race,\n",
        "                             sensitive_features=sensitive_feature_race)\n",
        "\n",
        "grouped_on_race_fpr_fnr = MetricFrame(metrics=metrics_2,\n",
        "                             y_true=y_test_race,\n",
        "                             y_pred=y_pred_race,\n",
        "                             sensitive_features=sensitive_feature_race)\n",
        "\n",
        "grouped_on_race_accuracy_selection.by_group.plot.bar(\n",
        "    subplots=False,\n",
        "    figsize=(10, 7),\n",
        "    ylim=[0,1],\n",
        "    title=\"Accuracy and selection rate by race\",\n",
        "    )\n",
        "\n",
        "grouped_on_race_fpr_fnr.by_group.plot.bar(\n",
        "    subplots=False,\n",
        "    figsize=(10, 7),\n",
        "    ylim=[0,1],\n",
        "    title=\"FNR and FPR by race\",\n",
        "    )"
      ]
    },
    {
      "cell_type": "markdown",
      "metadata": {
        "id": "LH7SZrv2N8ot"
      },
      "source": [
        "# **TODO**: Observe that accuracy for male and female groups is comparable, and yet we see disparities in FPR and FNR.  Which group benefits from the discrepancies in FPR and FNR shown above?  If you were deploying this system how would you measure performance (eg. accuracy, FNR, FPR)? (Reminder: females are labelled 0, males are labelled 1)\n"
      ]
    },
    {
      "cell_type": "markdown",
      "metadata": {
        "id": "5cX_eE4QhmLO"
      },
      "source": [
        "**Answer**:\n",
        "\n",
        "We can see that considerable discrepancies exist for both males and females in the FPR and FNR graphs shown above. In particular, the females' discrepancy is larger than the males'. I would suspect that this implies that the female group benefits more from the discrepancies in FPR and FNR. In the context of our study, this probably mean that more females are wrongly labeled. Furthermore, as we inspect the discrepancies for each gender, we can see that more females are falsely labeled as males than more males are falsely labeled as females.\n",
        "\n",
        "If I were to deploy this system, I would typically consider all of these metrics (accuracy, selection rate, false positive rate and false negative rate) to get a comprehensive understanding of its performance. Personally speaking, I would prioritize the FNR because I think having falsely labeled someone or something negative while it's actually positive costs more than falsely labeling a positive negative. In other words, minimizing false ngatives might have greater significance."
      ]
    },
    {
      "cell_type": "markdown",
      "metadata": {
        "id": "PFqCzXyXyhcO"
      },
      "source": [
        "#4. Train \"Blind\" Logistic Regression Classifier (Fairness through Blindness)"
      ]
    },
    {
      "cell_type": "markdown",
      "metadata": {
        "id": "7cJPVQ7byn53"
      },
      "source": [
        "Next, we will remove the protected attribute of \"sex\" from our data and see what effect this has on the performance of our classifier."
      ]
    },
    {
      "cell_type": "code",
      "execution_count": 31,
      "metadata": {
        "cellView": "form",
        "id": "BGZewKk9tBbZ"
      },
      "outputs": [],
      "source": [
        "# @markdown Remove sensitive attribute from data\n",
        "X_train_blind = X_train.drop(columns='SEX')\n",
        "X_test_blind = X_test.drop(columns='SEX')"
      ]
    },
    {
      "cell_type": "code",
      "execution_count": 32,
      "metadata": {
        "cellView": "form",
        "id": "P-0MCOFjtL9l"
      },
      "outputs": [
        {
          "name": "stdout",
          "output_type": "stream",
          "text": [
            "Logistic Regression test accuracy (without sensitive attribute): 0.8089\n"
          ]
        }
      ],
      "source": [
        "# @markdown Implement logistic regression\n",
        "clf_blind = LogisticRegression()\n",
        "clf_blind.fit(X_train_blind, y_train)\n",
        "clf_blind_accuracy = clf_blind.score(X_test_blind, y_test)\n",
        "\n",
        "clear_output()\n",
        "\n",
        "print(f'Logistic Regression test accuracy (without sensitive attribute): {clf_blind_accuracy:.4f}')"
      ]
    },
    {
      "cell_type": "code",
      "execution_count": 33,
      "metadata": {
        "cellView": "form",
        "id": "5Svx5AUycMC5"
      },
      "outputs": [
        {
          "name": "stdout",
          "output_type": "stream",
          "text": [
            "Recall the original classifier:\n",
            "Logistic Regression test accuracy: 0.8119\n",
            "Demographic parity difference: 0.1396\n",
            "Demographic parity ratio: 0.7028\n",
            "Male selection rate: 0.4697\n",
            "Female selection rate: 0.3301\n"
          ]
        }
      ],
      "source": [
        "# @markdown Recall the accuracy fairness of the original classifier\n",
        "print('Recall the original classifier:')\n",
        "print(f'Logistic Regression test accuracy: {clf_accuracy:.4f}')\n",
        "print(f'Demographic parity difference: {demo_parity_diff:.4f}')\n",
        "print(f'Demographic parity ratio: {demo_parity_ratio:.4f}')\n",
        "print(f'Male selection rate: {male_selection_rate:.4f}')\n",
        "print(f'Female selection rate: {female_selection_rate:.4f}')"
      ]
    },
    {
      "cell_type": "code",
      "execution_count": 34,
      "metadata": {
        "cellView": "form",
        "id": "bEg0YU9Ltbzh"
      },
      "outputs": [
        {
          "name": "stdout",
          "output_type": "stream",
          "text": [
            "Demographic parity difference (without sensitive attribute): 0.0902\n",
            "Demographic parity ratio (without sensitive attribute): 0.7979\n",
            "Male selection rate (without sensitive attribute): 0.4463\n",
            "Female selection rate (without sensitive attribute): 0.3561\n"
          ]
        }
      ],
      "source": [
        "# @markdown Evaluate fairness of the blind classifier\n",
        "\n",
        "#compute test predictions\n",
        "y_pred_blind = clf_blind.predict(X_test_blind)\n",
        "\n",
        "#compute demographic parity difference and demographic parity ratio\n",
        "demo_parity_diff_blind = demographic_parity_difference(y_test, y_pred_blind, sensitive_features=X_test['SEX'])\n",
        "demo_parity_ratio_blind = demographic_parity_ratio(y_test, y_pred_blind, sensitive_features=X_test['SEX'])\n",
        "\n",
        "print(f'Demographic parity difference (without sensitive attribute): {demo_parity_diff_blind:.4f}')\n",
        "print(f'Demographic parity ratio (without sensitive attribute): {demo_parity_ratio_blind:.4f}')\n",
        "\n",
        "#compute selection rate for males and females\n",
        "male_selection_rate_blind = selection_rate(y_test[X_test['SEX']==1], y_pred_blind[X_test['SEX']==1])\n",
        "female_selection_rate_blind = selection_rate(y_test[X_test['SEX']==0], y_pred_blind[X_test['SEX']==0])\n",
        "\n",
        "print(f'Male selection rate (without sensitive attribute): {male_selection_rate_blind:.4f}')\n",
        "print(f'Female selection rate (without sensitive attribute): {female_selection_rate_blind:.4f}')\n",
        "\n"
      ]
    },
    {
      "cell_type": "markdown",
      "metadata": {
        "id": "Yueobvhd78gp"
      },
      "source": [
        "# **TODO:** describe the differences of both models in terms of accuracy and fairness among male and female groups?\n"
      ]
    },
    {
      "cell_type": "markdown",
      "metadata": {
        "id": "lh0IiGaahqs9"
      },
      "source": [
        "**Answer**:\n",
        "The blind logistic regression classifier accuracy is approximately the same as the orginal classifier accuracy with a difference smaller than 0.001. The other fairness metrices are also similar. The selection rate has a slightly larger difference than the accuracy, at the 0.1 level.\n"
      ]
    },
    {
      "cell_type": "markdown",
      "metadata": {
        "id": "PRVVozeK0IYV"
      },
      "source": [
        "**Nevertheless**, we see that removing the protected feature did not eliminate the biases within our classifier, as exhibited below."
      ]
    },
    {
      "cell_type": "code",
      "execution_count": 35,
      "metadata": {
        "cellView": "form",
        "id": "6FP75qKmuC6_"
      },
      "outputs": [],
      "source": [
        "# @markdown Evaluate the biases of the classifier using the MetricFrame class\n",
        "grouped_on_sex_blind = MetricFrame(metrics=metrics,\n",
        "                                     y_true=y_test,\n",
        "                                     y_pred=y_pred_blind,\n",
        "                                     sensitive_features=sensitive_feature_sex)"
      ]
    },
    {
      "cell_type": "code",
      "execution_count": 36,
      "metadata": {
        "cellView": "form",
        "id": "Z0l6FUGluMWh"
      },
      "outputs": [
        {
          "data": {
            "text/plain": [
              "accuracy          0.808929\n",
              "selection_rate    0.402857\n",
              "FNR               0.241770\n",
              "FPR               0.155830\n",
              "dtype: float64"
            ]
          },
          "execution_count": 36,
          "metadata": {},
          "output_type": "execute_result"
        }
      ],
      "source": [
        "# @markdown\n",
        "grouped_on_sex_blind.overall"
      ]
    },
    {
      "cell_type": "code",
      "execution_count": 37,
      "metadata": {
        "cellView": "form",
        "id": "DwAXmgKcuR0M"
      },
      "outputs": [
        {
          "data": {
            "text/html": [
              "<div>\n",
              "<style scoped>\n",
              "    .dataframe tbody tr th:only-of-type {\n",
              "        vertical-align: middle;\n",
              "    }\n",
              "\n",
              "    .dataframe tbody tr th {\n",
              "        vertical-align: top;\n",
              "    }\n",
              "\n",
              "    .dataframe thead th {\n",
              "        text-align: right;\n",
              "    }\n",
              "</style>\n",
              "<table border=\"1\" class=\"dataframe\">\n",
              "  <thead>\n",
              "    <tr style=\"text-align: right;\">\n",
              "      <th></th>\n",
              "      <th>accuracy</th>\n",
              "      <th>selection_rate</th>\n",
              "      <th>FNR</th>\n",
              "      <th>FPR</th>\n",
              "    </tr>\n",
              "    <tr>\n",
              "      <th>SEX</th>\n",
              "      <th></th>\n",
              "      <th></th>\n",
              "      <th></th>\n",
              "      <th></th>\n",
              "    </tr>\n",
              "  </thead>\n",
              "  <tbody>\n",
              "    <tr>\n",
              "      <th>False</th>\n",
              "      <td>0.810222</td>\n",
              "      <td>0.356148</td>\n",
              "      <td>0.262378</td>\n",
              "      <td>0.150672</td>\n",
              "    </tr>\n",
              "    <tr>\n",
              "      <th>True</th>\n",
              "      <td>0.807724</td>\n",
              "      <td>0.446345</td>\n",
              "      <td>0.227353</td>\n",
              "      <td>0.161674</td>\n",
              "    </tr>\n",
              "  </tbody>\n",
              "</table>\n",
              "</div>"
            ],
            "text/plain": [
              "       accuracy  selection_rate       FNR       FPR\n",
              "SEX                                                \n",
              "False  0.810222        0.356148  0.262378  0.150672\n",
              "True   0.807724        0.446345  0.227353  0.161674"
            ]
          },
          "execution_count": 37,
          "metadata": {},
          "output_type": "execute_result"
        }
      ],
      "source": [
        "# @markdown\n",
        "grouped_on_sex_blind.by_group"
      ]
    },
    {
      "cell_type": "markdown",
      "metadata": {
        "id": "zENn3IQzsNjR"
      },
      "source": [
        "## **Showing all the metrics for the full data and blinded data.**"
      ]
    },
    {
      "cell_type": "code",
      "execution_count": 38,
      "metadata": {
        "cellView": "form",
        "id": "5TOyiVARo16T"
      },
      "outputs": [
        {
          "data": {
            "image/png": "[encoded data removed]",
            "text/plain": [
              "<Figure size 1500x700 with 1 Axes>"
            ]
          },
          "metadata": {},
          "output_type": "display_data"
        }
      ],
      "source": [
        "# @markdown Comparing the results: full-data vs. blinded data\n",
        "\n",
        "#demographic parity difference\n",
        "demo_parity_diff = demographic_parity_difference(y_test, y_pred, sensitive_features=X_test['SEX'])\n",
        "demo_parity_diff_blind = demographic_parity_difference(y_test, y_pred_blind, sensitive_features=X_test['SEX'])\n",
        "\n",
        "#demographic parity ratio\n",
        "demo_parity_ratio = demographic_parity_ratio(y_test, y_pred, sensitive_features=X_test['SEX'])\n",
        "demo_parity_ratio_blind = demographic_parity_ratio(y_test, y_pred_blind, sensitive_features=X_test['SEX'])\n",
        "\n",
        "#selection rate\n",
        "male_selection_rate = selection_rate(y_test[X_test['SEX']==1], y_pred[X_test['SEX']==1])\n",
        "male_selection_rate_blind = selection_rate(y_test[X_test['SEX']==1], y_pred_blind[X_test['SEX']==1])\n",
        "\n",
        "female_selection_rate = selection_rate(y_test[X_test['SEX']==0], y_pred[X_test['SEX']==0])\n",
        "female_selection_rate_blind = selection_rate(y_test[X_test['SEX']==0], y_pred_blind[X_test['SEX']==0])\n",
        "\n",
        "#fnr\n",
        "male_fnr = false_negative_rate(y_test[X_test['SEX']==1], y_pred[X_test['SEX']==1])\n",
        "male_fnr_blind = false_negative_rate(y_test[X_test['SEX']==1], y_pred_blind[X_test['SEX']==1])\n",
        "\n",
        "female_fnr = false_negative_rate(y_test[X_test['SEX']==0], y_pred[X_test['SEX']==0])\n",
        "female_fnr_blind = false_negative_rate(y_test[X_test['SEX']==0], y_pred_blind[X_test['SEX']==0])\n",
        "\n",
        "#fpr\n",
        "male_fpr = false_positive_rate(y_test[X_test['SEX']==1], y_pred[X_test['SEX']==1])\n",
        "male_fpr_blind = false_positive_rate(y_test[X_test['SEX']==1], y_pred_blind[X_test['SEX']==1])\n",
        "\n",
        "female_fpr = false_positive_rate(y_test[X_test['SEX']==0], y_pred[X_test['SEX']==0])\n",
        "female_fpr_blind = false_positive_rate(y_test[X_test['SEX']==0], y_pred_blind[X_test['SEX']==0])\n",
        "\n",
        "#plot\n",
        "labels = ['Demo Parity Diff','Demo Parity Ratio','Sel Rate (Male)',\n",
        "          'Sel Rate (Female)', 'FNR (Male)', 'FNR (Female)', 'FPR(Male)',\n",
        "          'FPR(Female)']\n",
        "\n",
        "Y_full = [demo_parity_diff, demo_parity_ratio, male_selection_rate,\n",
        "          female_selection_rate, male_fnr, female_fnr, male_fpr, female_fpr]\n",
        "\n",
        "Y_blind = [demo_parity_diff_blind, demo_parity_ratio_blind,\n",
        "           male_selection_rate_blind, female_selection_rate_blind, male_fnr_blind,\n",
        "           female_fnr_blind, male_fpr_blind, female_fpr_blind]\n",
        "\n",
        "x = np.arange(len(labels))\n",
        "width = 0.35\n",
        "\n",
        "fig, ax = plt.subplots(figsize=(15, 7))\n",
        "rects1 = ax.bar(x - width/2, Y_full, width, label='Full Model')\n",
        "rects2 = ax.bar(x + width/2, Y_blind, width, label='Blind Model')\n",
        "\n",
        "ax.set_title('Metrics Comparison', size=20)\n",
        "ax.set_xticks(x)\n",
        "ax.set_xticklabels(labels)\n",
        "ax.legend(fontsize='x-large')\n",
        "ax.bar_label(rects1, padding=3, fmt='%.3f')\n",
        "ax.bar_label(rects2, padding=3, fmt='%.3f')\n",
        "ax.set_ylim([0, 1])\n",
        "fig.tight_layout()\n",
        "plt.rcParams[\"figure.figsize\"] = (18,8)\n",
        "plt.show()\n"
      ]
    },
    {
      "cell_type": "markdown",
      "metadata": {
        "id": "wz-7mcA60DyU"
      },
      "source": [
        "# **TODO:** What are the key takeaways from this Lab?\n"
      ]
    },
    {
      "cell_type": "markdown",
      "metadata": {
        "id": "13fHBQTGhvCt"
      },
      "source": [
        "**Answer**:\n",
        "In this lab, I learned about the fairlearn package. I learned about the biases in ML, the types of them, how they are generated, etc. I reviewed the different basic methods of data preprocessing and cleaning. Furthermore, I learned to use the sklearn package to split the data, label and train them to test the correctness of our assumption. I learned two different kinds of model for calculating accuracy and assessing fairness. I learned the minimal difference between them as well as various techniques to enhance our results. "
      ]
    }
  ],
  "metadata": {
    "colab": {
      "collapsed_sections": [
        "RuBQtfv5iZac",
        "Ip6sQt0eQLAU"
      ],
      "provenance": [],
      "toc_visible": true
    },
    "kernelspec": {
      "display_name": "Python 3",
      "name": "python3"
    },
    "language_info": {
      "codemirror_mode": {
        "name": "ipython",
        "version": 3
      },
      "file_extension": ".py",
      "mimetype": "text/x-python",
      "name": "python",
      "nbconvert_exporter": "python",
      "pygments_lexer": "ipython3",
      "version": "3.9.6"
    }
  },
  "nbformat": 4,
  "nbformat_minor": 0
}
