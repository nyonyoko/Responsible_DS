{
  "nbformat": 4,
  "nbformat_minor": 0,
  "metadata": {
    "kernelspec": {
      "name": "python3",
      "display_name": "Python 3"
    },
    "colab": {
      "provenance": []
    }
  },
  "cells": [
    {
      "cell_type": "markdown",
      "metadata": {
        "id": "clfRTaEBUoCb"
      },
      "source": [
        "# RDS Lab 7 and 8: DataSynthesizer\n",
        "\n",
        "Today we will be talking about a privacy-preserving way to create synthetic data that (optionally) retains some useful characteristics of the original dataset. You can read about the DataSynthesizer in [Ping, Stoyanovich, and Howe (2017)](https://faculty.washington.edu/billhowe/publications/pdfs/ping17datasynthesizer.pdf). From the abstract:\n",
        "\n",
        "> To facilitate collaboration over sensitive data, we present DataSynthesizer, a tool that takes a sensitive dataset as input and generates a structurally and statistically similar synthetic dataset with strong privacy guarantees. The data owners need not release their data, while potential collaborators can begin developing models and methods with some confidence that their results will work similarly on the real dataset.\n",
        "\n",
        "We will cover three modes for generating synthetic data:\n",
        "  1. random mode\n",
        "  2. independent attribute mode\n",
        "  3. correlated attribute mode\n",
        "\n",
        "These modes are described in Ping, Stoyanovich, and Howe (2017, p.2):\n",
        "\n",
        "> DataSynthesizer can operate in one of three modes: In correlated attribute mode, we learn a differentially private Bayesian network capturing the correlation structure between attributes, then draw samples from this model to construct the result dataset. In cases where the correlated attribute mode is too computationally expensive or when there is insufficient data to derive a reasonable model, one can use independent attribute mode. In this mode, a histogram is derived for each attribute, noise is added to the histogram to achieve differential privacy, and then samples are drawn for each attribute. Finally, for cases of extremely sensitive data, one can use random mode that simply generates type-consistent random values for each attribute.\n",
        "\n",
        "\n"
      ]
    },
    {
      "cell_type": "code",
      "metadata": {
        "id": "mPFNHTWOUoCh",
        "colab": {
          "base_uri": "https://localhost:8080/"
        },
        "outputId": "e68131ed-97fd-450e-f600-b9c9baeda19c"
      },
      "source": [
        "# Install DataSynthesizer\n",
        "!pip install DataSynthesizer"
      ],
      "execution_count": null,
      "outputs": [
        {
          "output_type": "stream",
          "name": "stdout",
          "text": [
            "Collecting DataSynthesizer\n",
            "  Downloading DataSynthesizer-0.1.13-py2.py3-none-any.whl (24 kB)\n",
            "Requirement already satisfied: numpy>=1.18.5 in /usr/local/lib/python3.10/dist-packages (from DataSynthesizer) (1.25.2)\n",
            "Requirement already satisfied: pandas>=1.0.5 in /usr/local/lib/python3.10/dist-packages (from DataSynthesizer) (2.0.3)\n",
            "Requirement already satisfied: scikit-learn>=0.23.1 in /usr/local/lib/python3.10/dist-packages (from DataSynthesizer) (1.2.2)\n",
            "Requirement already satisfied: matplotlib>=3.2.2 in /usr/local/lib/python3.10/dist-packages (from DataSynthesizer) (3.7.1)\n",
            "Requirement already satisfied: seaborn>=0.10.1 in /usr/local/lib/python3.10/dist-packages (from DataSynthesizer) (0.13.1)\n",
            "Requirement already satisfied: python-dateutil>=2.8.1 in /usr/local/lib/python3.10/dist-packages (from DataSynthesizer) (2.8.2)\n",
            "Requirement already satisfied: contourpy>=1.0.1 in /usr/local/lib/python3.10/dist-packages (from matplotlib>=3.2.2->DataSynthesizer) (1.2.1)\n",
            "Requirement already satisfied: cycler>=0.10 in /usr/local/lib/python3.10/dist-packages (from matplotlib>=3.2.2->DataSynthesizer) (0.12.1)\n",
            "Requirement already satisfied: fonttools>=4.22.0 in /usr/local/lib/python3.10/dist-packages (from matplotlib>=3.2.2->DataSynthesizer) (4.51.0)\n",
            "Requirement already satisfied: kiwisolver>=1.0.1 in /usr/local/lib/python3.10/dist-packages (from matplotlib>=3.2.2->DataSynthesizer) (1.4.5)\n",
            "Requirement already satisfied: packaging>=20.0 in /usr/local/lib/python3.10/dist-packages (from matplotlib>=3.2.2->DataSynthesizer) (24.0)\n",
            "Requirement already satisfied: pillow>=6.2.0 in /usr/local/lib/python3.10/dist-packages (from matplotlib>=3.2.2->DataSynthesizer) (9.4.0)\n",
            "Requirement already satisfied: pyparsing>=2.3.1 in /usr/local/lib/python3.10/dist-packages (from matplotlib>=3.2.2->DataSynthesizer) (3.1.2)\n",
            "Requirement already satisfied: pytz>=2020.1 in /usr/local/lib/python3.10/dist-packages (from pandas>=1.0.5->DataSynthesizer) (2023.4)\n",
            "Requirement already satisfied: tzdata>=2022.1 in /usr/local/lib/python3.10/dist-packages (from pandas>=1.0.5->DataSynthesizer) (2024.1)\n",
            "Requirement already satisfied: six>=1.5 in /usr/local/lib/python3.10/dist-packages (from python-dateutil>=2.8.1->DataSynthesizer) (1.16.0)\n",
            "Requirement already satisfied: scipy>=1.3.2 in /usr/local/lib/python3.10/dist-packages (from scikit-learn>=0.23.1->DataSynthesizer) (1.11.4)\n",
            "Requirement already satisfied: joblib>=1.1.1 in /usr/local/lib/python3.10/dist-packages (from scikit-learn>=0.23.1->DataSynthesizer) (1.4.0)\n",
            "Requirement already satisfied: threadpoolctl>=2.0.0 in /usr/local/lib/python3.10/dist-packages (from scikit-learn>=0.23.1->DataSynthesizer) (3.4.0)\n",
            "Installing collected packages: DataSynthesizer\n",
            "Successfully installed DataSynthesizer-0.1.13\n"
          ]
        }
      ]
    },
    {
      "cell_type": "code",
      "metadata": {
        "id": "l0QcZb4pUoCi"
      },
      "source": [
        "# Import packages\n",
        "import json\n",
        "import pandas as pd\n",
        "import matplotlib.pyplot as plt\n",
        "%matplotlib inline\n",
        "from IPython.display import Image\n",
        "\n",
        "from DataSynthesizer.DataDescriber import DataDescriber\n",
        "from DataSynthesizer.DataGenerator import DataGenerator\n",
        "from DataSynthesizer.ModelInspector import ModelInspector\n",
        "from DataSynthesizer.lib.utils import read_json_file, display_bayesian_network"
      ],
      "execution_count": null,
      "outputs": []
    },
    {
      "cell_type": "code",
      "metadata": {
        "id": "lwi1-t0EUoCj"
      },
      "source": [
        "# Intialize a describer and a generator from `DataSynthesizer`\n",
        "describer = DataDescriber()\n",
        "generator = DataGenerator()"
      ],
      "execution_count": null,
      "outputs": []
    },
    {
      "cell_type": "markdown",
      "metadata": {
        "id": "3slyik8nUoCj"
      },
      "source": [
        "## Preparation\n"
      ]
    },
    {
      "cell_type": "code",
      "metadata": {
        "id": "uUk_ukGuBQVW",
        "colab": {
          "base_uri": "https://localhost:8080/"
        },
        "outputId": "0a5a49f9-d8eb-4e82-e73c-939762eb89c2"
      },
      "source": [
        "# Packages for reading csv file into Colaboratory:\n",
        "!pip install -U -q PyDrive==1.3.1\n",
        "\n",
        "from pydrive.auth import GoogleAuth\n",
        "from pydrive.drive import GoogleDrive\n",
        "from google.colab import auth\n",
        "from oauth2client.client import GoogleCredentials\n",
        "\n",
        "# Authenticate and create the PyDrive client.\n",
        "# Please follow the steps as instructed when you run the following commands.\n",
        "\n",
        "auth.authenticate_user()\n",
        "gauth = GoogleAuth()\n",
        "gauth.credentials = GoogleCredentials.get_application_default()\n",
        "drive = GoogleDrive(gauth)"
      ],
      "execution_count": null,
      "outputs": [
        {
          "output_type": "stream",
          "name": "stderr",
          "text": [
            "WARNING:root:pydrive is deprecated and no longer maintained. We recommend that you migrate your projects to pydrive2, the maintained fork of pydrive\n"
          ]
        }
      ]
    },
    {
      "cell_type": "code",
      "metadata": {
        "id": "HAm_FkQjBV_a"
      },
      "source": [
        "# Download a file locally\n",
        "\n",
        "fileid_compas = '1TDNwGAEwzqODunv-MkQvKNU2b_JgjzB2'\n",
        "sensitive_data_file = 'adult_reduced.csv'\n",
        "\n",
        "downloaded = drive.CreateFile({'id':fileid_compas})\n",
        "downloaded.GetContentFile(sensitive_data_file)"
      ],
      "execution_count": null,
      "outputs": []
    },
    {
      "cell_type": "code",
      "metadata": {
        "colab": {
          "base_uri": "https://localhost:8080/",
          "height": 206
        },
        "id": "MYpK70FUUoCk",
        "outputId": "535fad84-3c72-4f21-e89d-f28b12ffc09c"
      },
      "source": [
        "# Read the downloaded file\n",
        "real_data = pd.read_csv(sensitive_data_file)\n",
        "real_data.head()"
      ],
      "execution_count": null,
      "outputs": [
        {
          "output_type": "execute_result",
          "data": {
            "text/plain": [
              "   age  education     sex   relationship      marital-status income\n",
              "0   39  Bachelors    Male  Not-in-family       Never-married  <=50K\n",
              "1   50  Bachelors    Male        Husband  Married-civ-spouse  <=50K\n",
              "2   38    HS-grad    Male  Not-in-family            Divorced  <=50K\n",
              "3   53       11th    Male        Husband  Married-civ-spouse  <=50K\n",
              "4   28  Bachelors  Female           Wife  Married-civ-spouse  <=50K"
            ],
            "text/html": [
              "\n",
              "  <div id=\"df-64cd4ea5-a65b-4e23-8818-d93e46b0450b\" class=\"colab-df-container\">\n",
              "    <div>\n",
              "<style scoped>\n",
              "    .dataframe tbody tr th:only-of-type {\n",
              "        vertical-align: middle;\n",
              "    }\n",
              "\n",
              "    .dataframe tbody tr th {\n",
              "        vertical-align: top;\n",
              "    }\n",
              "\n",
              "    .dataframe thead th {\n",
              "        text-align: right;\n",
              "    }\n",
              "</style>\n",
              "<table border=\"1\" class=\"dataframe\">\n",
              "  <thead>\n",
              "    <tr style=\"text-align: right;\">\n",
              "      <th></th>\n",
              "      <th>age</th>\n",
              "      <th>education</th>\n",
              "      <th>sex</th>\n",
              "      <th>relationship</th>\n",
              "      <th>marital-status</th>\n",
              "      <th>income</th>\n",
              "    </tr>\n",
              "  </thead>\n",
              "  <tbody>\n",
              "    <tr>\n",
              "      <th>0</th>\n",
              "      <td>39</td>\n",
              "      <td>Bachelors</td>\n",
              "      <td>Male</td>\n",
              "      <td>Not-in-family</td>\n",
              "      <td>Never-married</td>\n",
              "      <td>&lt;=50K</td>\n",
              "    </tr>\n",
              "    <tr>\n",
              "      <th>1</th>\n",
              "      <td>50</td>\n",
              "      <td>Bachelors</td>\n",
              "      <td>Male</td>\n",
              "      <td>Husband</td>\n",
              "      <td>Married-civ-spouse</td>\n",
              "      <td>&lt;=50K</td>\n",
              "    </tr>\n",
              "    <tr>\n",
              "      <th>2</th>\n",
              "      <td>38</td>\n",
              "      <td>HS-grad</td>\n",
              "      <td>Male</td>\n",
              "      <td>Not-in-family</td>\n",
              "      <td>Divorced</td>\n",
              "      <td>&lt;=50K</td>\n",
              "    </tr>\n",
              "    <tr>\n",
              "      <th>3</th>\n",
              "      <td>53</td>\n",
              "      <td>11th</td>\n",
              "      <td>Male</td>\n",
              "      <td>Husband</td>\n",
              "      <td>Married-civ-spouse</td>\n",
              "      <td>&lt;=50K</td>\n",
              "    </tr>\n",
              "    <tr>\n",
              "      <th>4</th>\n",
              "      <td>28</td>\n",
              "      <td>Bachelors</td>\n",
              "      <td>Female</td>\n",
              "      <td>Wife</td>\n",
              "      <td>Married-civ-spouse</td>\n",
              "      <td>&lt;=50K</td>\n",
              "    </tr>\n",
              "  </tbody>\n",
              "</table>\n",
              "</div>\n",
              "    <div class=\"colab-df-buttons\">\n",
              "\n",
              "  <div class=\"colab-df-container\">\n",
              "    <button class=\"colab-df-convert\" onclick=\"convertToInteractive('df-64cd4ea5-a65b-4e23-8818-d93e46b0450b')\"\n",
              "            title=\"Convert this dataframe to an interactive table.\"\n",
              "            style=\"display:none;\">\n",
              "\n",
              "  <svg xmlns=\"http://www.w3.org/2000/svg\" height=\"24px\" viewBox=\"0 -960 960 960\">\n",
              "    <path d=\"M120-120v-720h720v720H120Zm60-500h600v-160H180v160Zm220 220h160v-160H400v160Zm0 220h160v-160H400v160ZM180-400h160v-160H180v160Zm440 0h160v-160H620v160ZM180-180h160v-160H180v160Zm440 0h160v-160H620v160Z\"/>\n",
              "  </svg>\n",
              "    </button>\n",
              "\n",
              "  <style>\n",
              "    .colab-df-container {\n",
              "      display:flex;\n",
              "      gap: 12px;\n",
              "    }\n",
              "\n",
              "    .colab-df-convert {\n",
              "      background-color: #E8F0FE;\n",
              "      border: none;\n",
              "      border-radius: 50%;\n",
              "      cursor: pointer;\n",
              "      display: none;\n",
              "      fill: #1967D2;\n",
              "      height: 32px;\n",
              "      padding: 0 0 0 0;\n",
              "      width: 32px;\n",
              "    }\n",
              "\n",
              "    .colab-df-convert:hover {\n",
              "      background-color: #E2EBFA;\n",
              "      box-shadow: 0px 1px 2px rgba(60, 64, 67, 0.3), 0px 1px 3px 1px rgba(60, 64, 67, 0.15);\n",
              "      fill: #174EA6;\n",
              "    }\n",
              "\n",
              "    .colab-df-buttons div {\n",
              "      margin-bottom: 4px;\n",
              "    }\n",
              "\n",
              "    [theme=dark] .colab-df-convert {\n",
              "      background-color: #3B4455;\n",
              "      fill: #D2E3FC;\n",
              "    }\n",
              "\n",
              "    [theme=dark] .colab-df-convert:hover {\n",
              "      background-color: #434B5C;\n",
              "      box-shadow: 0px 1px 3px 1px rgba(0, 0, 0, 0.15);\n",
              "      filter: drop-shadow(0px 1px 2px rgba(0, 0, 0, 0.3));\n",
              "      fill: #FFFFFF;\n",
              "    }\n",
              "  </style>\n",
              "\n",
              "    <script>\n",
              "      const buttonEl =\n",
              "        document.querySelector('#df-64cd4ea5-a65b-4e23-8818-d93e46b0450b button.colab-df-convert');\n",
              "      buttonEl.style.display =\n",
              "        google.colab.kernel.accessAllowed ? 'block' : 'none';\n",
              "\n",
              "      async function convertToInteractive(key) {\n",
              "        const element = document.querySelector('#df-64cd4ea5-a65b-4e23-8818-d93e46b0450b');\n",
              "        const dataTable =\n",
              "          await google.colab.kernel.invokeFunction('convertToInteractive',\n",
              "                                                    [key], {});\n",
              "        if (!dataTable) return;\n",
              "\n",
              "        const docLinkHtml = 'Like what you see? Visit the ' +\n",
              "          '<a target=\"_blank\" href=https://colab.research.google.com/notebooks/data_table.ipynb>data table notebook</a>'\n",
              "          + ' to learn more about interactive tables.';\n",
              "        element.innerHTML = '';\n",
              "        dataTable['output_type'] = 'display_data';\n",
              "        await google.colab.output.renderOutput(dataTable, element);\n",
              "        const docLink = document.createElement('div');\n",
              "        docLink.innerHTML = docLinkHtml;\n",
              "        element.appendChild(docLink);\n",
              "      }\n",
              "    </script>\n",
              "  </div>\n",
              "\n",
              "\n",
              "<div id=\"df-5b0d428f-c520-44f3-8675-0301ba5d3418\">\n",
              "  <button class=\"colab-df-quickchart\" onclick=\"quickchart('df-5b0d428f-c520-44f3-8675-0301ba5d3418')\"\n",
              "            title=\"Suggest charts\"\n",
              "            style=\"display:none;\">\n",
              "\n",
              "<svg xmlns=\"http://www.w3.org/2000/svg\" height=\"24px\"viewBox=\"0 0 24 24\"\n",
              "     width=\"24px\">\n",
              "    <g>\n",
              "        <path d=\"M19 3H5c-1.1 0-2 .9-2 2v14c0 1.1.9 2 2 2h14c1.1 0 2-.9 2-2V5c0-1.1-.9-2-2-2zM9 17H7v-7h2v7zm4 0h-2V7h2v10zm4 0h-2v-4h2v4z\"/>\n",
              "    </g>\n",
              "</svg>\n",
              "  </button>\n",
              "\n",
              "<style>\n",
              "  .colab-df-quickchart {\n",
              "      --bg-color: #E8F0FE;\n",
              "      --fill-color: #1967D2;\n",
              "      --hover-bg-color: #E2EBFA;\n",
              "      --hover-fill-color: #174EA6;\n",
              "      --disabled-fill-color: #AAA;\n",
              "      --disabled-bg-color: #DDD;\n",
              "  }\n",
              "\n",
              "  [theme=dark] .colab-df-quickchart {\n",
              "      --bg-color: #3B4455;\n",
              "      --fill-color: #D2E3FC;\n",
              "      --hover-bg-color: #434B5C;\n",
              "      --hover-fill-color: #FFFFFF;\n",
              "      --disabled-bg-color: #3B4455;\n",
              "      --disabled-fill-color: #666;\n",
              "  }\n",
              "\n",
              "  .colab-df-quickchart {\n",
              "    background-color: var(--bg-color);\n",
              "    border: none;\n",
              "    border-radius: 50%;\n",
              "    cursor: pointer;\n",
              "    display: none;\n",
              "    fill: var(--fill-color);\n",
              "    height: 32px;\n",
              "    padding: 0;\n",
              "    width: 32px;\n",
              "  }\n",
              "\n",
              "  .colab-df-quickchart:hover {\n",
              "    background-color: var(--hover-bg-color);\n",
              "    box-shadow: 0 1px 2px rgba(60, 64, 67, 0.3), 0 1px 3px 1px rgba(60, 64, 67, 0.15);\n",
              "    fill: var(--button-hover-fill-color);\n",
              "  }\n",
              "\n",
              "  .colab-df-quickchart-complete:disabled,\n",
              "  .colab-df-quickchart-complete:disabled:hover {\n",
              "    background-color: var(--disabled-bg-color);\n",
              "    fill: var(--disabled-fill-color);\n",
              "    box-shadow: none;\n",
              "  }\n",
              "\n",
              "  .colab-df-spinner {\n",
              "    border: 2px solid var(--fill-color);\n",
              "    border-color: transparent;\n",
              "    border-bottom-color: var(--fill-color);\n",
              "    animation:\n",
              "      spin 1s steps(1) infinite;\n",
              "  }\n",
              "\n",
              "  @keyframes spin {\n",
              "    0% {\n",
              "      border-color: transparent;\n",
              "      border-bottom-color: var(--fill-color);\n",
              "      border-left-color: var(--fill-color);\n",
              "    }\n",
              "    20% {\n",
              "      border-color: transparent;\n",
              "      border-left-color: var(--fill-color);\n",
              "      border-top-color: var(--fill-color);\n",
              "    }\n",
              "    30% {\n",
              "      border-color: transparent;\n",
              "      border-left-color: var(--fill-color);\n",
              "      border-top-color: var(--fill-color);\n",
              "      border-right-color: var(--fill-color);\n",
              "    }\n",
              "    40% {\n",
              "      border-color: transparent;\n",
              "      border-right-color: var(--fill-color);\n",
              "      border-top-color: var(--fill-color);\n",
              "    }\n",
              "    60% {\n",
              "      border-color: transparent;\n",
              "      border-right-color: var(--fill-color);\n",
              "    }\n",
              "    80% {\n",
              "      border-color: transparent;\n",
              "      border-right-color: var(--fill-color);\n",
              "      border-bottom-color: var(--fill-color);\n",
              "    }\n",
              "    90% {\n",
              "      border-color: transparent;\n",
              "      border-bottom-color: var(--fill-color);\n",
              "    }\n",
              "  }\n",
              "</style>\n",
              "\n",
              "  <script>\n",
              "    async function quickchart(key) {\n",
              "      const quickchartButtonEl =\n",
              "        document.querySelector('#' + key + ' button');\n",
              "      quickchartButtonEl.disabled = true;  // To prevent multiple clicks.\n",
              "      quickchartButtonEl.classList.add('colab-df-spinner');\n",
              "      try {\n",
              "        const charts = await google.colab.kernel.invokeFunction(\n",
              "            'suggestCharts', [key], {});\n",
              "      } catch (error) {\n",
              "        console.error('Error during call to suggestCharts:', error);\n",
              "      }\n",
              "      quickchartButtonEl.classList.remove('colab-df-spinner');\n",
              "      quickchartButtonEl.classList.add('colab-df-quickchart-complete');\n",
              "    }\n",
              "    (() => {\n",
              "      let quickchartButtonEl =\n",
              "        document.querySelector('#df-5b0d428f-c520-44f3-8675-0301ba5d3418 button');\n",
              "      quickchartButtonEl.style.display =\n",
              "        google.colab.kernel.accessAllowed ? 'block' : 'none';\n",
              "    })();\n",
              "  </script>\n",
              "</div>\n",
              "    </div>\n",
              "  </div>\n"
            ],
            "application/vnd.google.colaboratory.intrinsic+json": {
              "type": "dataframe",
              "variable_name": "real_data",
              "summary": "{\n  \"name\": \"real_data\",\n  \"rows\": 32561,\n  \"fields\": [\n    {\n      \"column\": \"age\",\n      \"properties\": {\n        \"dtype\": \"number\",\n        \"std\": 13,\n        \"min\": 17,\n        \"max\": 90,\n        \"num_unique_values\": 73,\n        \"samples\": [\n          28,\n          73,\n          35\n        ],\n        \"semantic_type\": \"\",\n        \"description\": \"\"\n      }\n    },\n    {\n      \"column\": \"education\",\n      \"properties\": {\n        \"dtype\": \"category\",\n        \"num_unique_values\": 16,\n        \"samples\": [\n          \"Bachelors\",\n          \"HS-grad\",\n          \"Some-college\"\n        ],\n        \"semantic_type\": \"\",\n        \"description\": \"\"\n      }\n    },\n    {\n      \"column\": \"sex\",\n      \"properties\": {\n        \"dtype\": \"category\",\n        \"num_unique_values\": 2,\n        \"samples\": [\n          \"Female\",\n          \"Male\"\n        ],\n        \"semantic_type\": \"\",\n        \"description\": \"\"\n      }\n    },\n    {\n      \"column\": \"relationship\",\n      \"properties\": {\n        \"dtype\": \"category\",\n        \"num_unique_values\": 6,\n        \"samples\": [\n          \"Not-in-family\",\n          \"Husband\"\n        ],\n        \"semantic_type\": \"\",\n        \"description\": \"\"\n      }\n    },\n    {\n      \"column\": \"marital-status\",\n      \"properties\": {\n        \"dtype\": \"category\",\n        \"num_unique_values\": 7,\n        \"samples\": [\n          \"Never-married\",\n          \"Married-civ-spouse\"\n        ],\n        \"semantic_type\": \"\",\n        \"description\": \"\"\n      }\n    },\n    {\n      \"column\": \"income\",\n      \"properties\": {\n        \"dtype\": \"category\",\n        \"num_unique_values\": 2,\n        \"samples\": [\n          \">50K\",\n          \"<=50K\"\n        ],\n        \"semantic_type\": \"\",\n        \"description\": \"\"\n      }\n    }\n  ]\n}"
            }
          },
          "metadata": {},
          "execution_count": 6
        }
      ]
    },
    {
      "cell_type": "markdown",
      "metadata": {
        "id": "s66z6S0Bhp1z"
      },
      "source": [
        "Take a moment to familiarize yourself with the above data."
      ]
    },
    {
      "cell_type": "code",
      "metadata": {
        "id": "ddP04yrzUoCk"
      },
      "source": [
        "# Set up some local filepaths that we'll write to\n",
        "description_files = {'random mode':                   'description(random).json',\n",
        "                     'independent attribute mode':    'description(independent).json',\n",
        "                     'correlated attribute mode':     'description(correlated).json'}\n",
        "synthetic_data_files = {'random mode':                'synthetic data(random).csv',\n",
        "                        'independent attribute mode': 'synthetic data(independent).csv',\n",
        "                        'correlated attribute mode':  'synthetic data(correlated).csv'}\n",
        "\n",
        "# Number of samples to generate?\n",
        "output_data_size = 1000"
      ],
      "execution_count": null,
      "outputs": []
    },
    {
      "cell_type": "markdown",
      "metadata": {
        "id": "qQqbrN5LUoCk"
      },
      "source": [
        "# Random mode\n",
        "\n",
        "In random mode, we replace the feature(s) that we want to protect with random values drawn from a uniform distribution:"
      ]
    },
    {
      "cell_type": "code",
      "metadata": {
        "id": "IUtKY-t3UoCl"
      },
      "source": [
        "# Learn from the data\n",
        "describer.describe_dataset_in_random_mode(sensitive_data_file)"
      ],
      "execution_count": null,
      "outputs": []
    },
    {
      "cell_type": "code",
      "metadata": {
        "id": "B__i_IeuUoCl"
      },
      "source": [
        "# Write the learned description into a file\n",
        "describer.save_dataset_description_to_file(description_files['random mode'])"
      ],
      "execution_count": null,
      "outputs": []
    },
    {
      "cell_type": "markdown",
      "metadata": {
        "id": "BzsnFv6uUoCl"
      },
      "source": [
        "In the file browser on the left, we can open up `description(random).json` and see what kind of information was collected.\n",
        "\n",
        "#### Important parameters when using random mode:\n",
        "\n",
        "- __seed__: initializes the random number generator for both `random` and `np.random`\n",
        "- __mininum__, __maximum__: determines the min and max of the random distribution from which we will draw the new values\n",
        "\n",
        "## **TODO 1**: Set `minimum` and `maximum` to match the learned information about `age`, as seen in `description(random)`"
      ]
    },
    {
      "cell_type": "code",
      "metadata": {
        "id": "bOUP3RS5UoCl"
      },
      "source": [
        "generator.generate_dataset_in_random_mode(n=output_data_size,\n",
        "                                          description_file=description_files['random mode'],\n",
        "                                          seed=0,\n",
        "                                          minimum=0,\n",
        "                                          maximum=100)"
      ],
      "execution_count": 18,
      "outputs": []
    },
    {
      "cell_type": "markdown",
      "source": [
        "Now let's save the synthetic data, read it as a pandas dataframe, and look at the data:"
      ],
      "metadata": {
        "id": "d3oSOHOZihOs"
      }
    },
    {
      "cell_type": "code",
      "metadata": {
        "id": "YVbIBDFOUoCm",
        "colab": {
          "base_uri": "https://localhost:8080/",
          "height": 206
        },
        "outputId": "3c5ce9fc-5a30-43bd-dd3c-e1996b4bbe26"
      },
      "source": [
        "# Write synthetic data to a file\n",
        "generator.save_synthetic_data(synthetic_data_files['random mode'])\n",
        "# Read that file\n",
        "synthetic_random = pd.read_csv(synthetic_data_files['random mode'])\n",
        "synthetic_random.head()"
      ],
      "execution_count": 19,
      "outputs": [
        {
          "output_type": "execute_result",
          "data": {
            "text/plain": [
              "   age     education     sex    relationship      marital-status income\n",
              "0   44     Preschool    Male         Husband  Married-civ-spouse  <=50K\n",
              "1   47  Some-college  Female         Husband           Separated   >50K\n",
              "2   64    Assoc-acdm  Female   Not-in-family           Separated  <=50K\n",
              "3   67       Masters    Male  Other-relative  Married-civ-spouse  <=50K\n",
              "4   67          12th    Male       Own-child       Never-married   >50K"
            ],
            "text/html": [
              "\n",
              "  <div id=\"df-aa092d1e-1f22-4914-8b5c-71bc0a29d99b\" class=\"colab-df-container\">\n",
              "    <div>\n",
              "<style scoped>\n",
              "    .dataframe tbody tr th:only-of-type {\n",
              "        vertical-align: middle;\n",
              "    }\n",
              "\n",
              "    .dataframe tbody tr th {\n",
              "        vertical-align: top;\n",
              "    }\n",
              "\n",
              "    .dataframe thead th {\n",
              "        text-align: right;\n",
              "    }\n",
              "</style>\n",
              "<table border=\"1\" class=\"dataframe\">\n",
              "  <thead>\n",
              "    <tr style=\"text-align: right;\">\n",
              "      <th></th>\n",
              "      <th>age</th>\n",
              "      <th>education</th>\n",
              "      <th>sex</th>\n",
              "      <th>relationship</th>\n",
              "      <th>marital-status</th>\n",
              "      <th>income</th>\n",
              "    </tr>\n",
              "  </thead>\n",
              "  <tbody>\n",
              "    <tr>\n",
              "      <th>0</th>\n",
              "      <td>44</td>\n",
              "      <td>Preschool</td>\n",
              "      <td>Male</td>\n",
              "      <td>Husband</td>\n",
              "      <td>Married-civ-spouse</td>\n",
              "      <td>&lt;=50K</td>\n",
              "    </tr>\n",
              "    <tr>\n",
              "      <th>1</th>\n",
              "      <td>47</td>\n",
              "      <td>Some-college</td>\n",
              "      <td>Female</td>\n",
              "      <td>Husband</td>\n",
              "      <td>Separated</td>\n",
              "      <td>&gt;50K</td>\n",
              "    </tr>\n",
              "    <tr>\n",
              "      <th>2</th>\n",
              "      <td>64</td>\n",
              "      <td>Assoc-acdm</td>\n",
              "      <td>Female</td>\n",
              "      <td>Not-in-family</td>\n",
              "      <td>Separated</td>\n",
              "      <td>&lt;=50K</td>\n",
              "    </tr>\n",
              "    <tr>\n",
              "      <th>3</th>\n",
              "      <td>67</td>\n",
              "      <td>Masters</td>\n",
              "      <td>Male</td>\n",
              "      <td>Other-relative</td>\n",
              "      <td>Married-civ-spouse</td>\n",
              "      <td>&lt;=50K</td>\n",
              "    </tr>\n",
              "    <tr>\n",
              "      <th>4</th>\n",
              "      <td>67</td>\n",
              "      <td>12th</td>\n",
              "      <td>Male</td>\n",
              "      <td>Own-child</td>\n",
              "      <td>Never-married</td>\n",
              "      <td>&gt;50K</td>\n",
              "    </tr>\n",
              "  </tbody>\n",
              "</table>\n",
              "</div>\n",
              "    <div class=\"colab-df-buttons\">\n",
              "\n",
              "  <div class=\"colab-df-container\">\n",
              "    <button class=\"colab-df-convert\" onclick=\"convertToInteractive('df-aa092d1e-1f22-4914-8b5c-71bc0a29d99b')\"\n",
              "            title=\"Convert this dataframe to an interactive table.\"\n",
              "            style=\"display:none;\">\n",
              "\n",
              "  <svg xmlns=\"http://www.w3.org/2000/svg\" height=\"24px\" viewBox=\"0 -960 960 960\">\n",
              "    <path d=\"M120-120v-720h720v720H120Zm60-500h600v-160H180v160Zm220 220h160v-160H400v160Zm0 220h160v-160H400v160ZM180-400h160v-160H180v160Zm440 0h160v-160H620v160ZM180-180h160v-160H180v160Zm440 0h160v-160H620v160Z\"/>\n",
              "  </svg>\n",
              "    </button>\n",
              "\n",
              "  <style>\n",
              "    .colab-df-container {\n",
              "      display:flex;\n",
              "      gap: 12px;\n",
              "    }\n",
              "\n",
              "    .colab-df-convert {\n",
              "      background-color: #E8F0FE;\n",
              "      border: none;\n",
              "      border-radius: 50%;\n",
              "      cursor: pointer;\n",
              "      display: none;\n",
              "      fill: #1967D2;\n",
              "      height: 32px;\n",
              "      padding: 0 0 0 0;\n",
              "      width: 32px;\n",
              "    }\n",
              "\n",
              "    .colab-df-convert:hover {\n",
              "      background-color: #E2EBFA;\n",
              "      box-shadow: 0px 1px 2px rgba(60, 64, 67, 0.3), 0px 1px 3px 1px rgba(60, 64, 67, 0.15);\n",
              "      fill: #174EA6;\n",
              "    }\n",
              "\n",
              "    .colab-df-buttons div {\n",
              "      margin-bottom: 4px;\n",
              "    }\n",
              "\n",
              "    [theme=dark] .colab-df-convert {\n",
              "      background-color: #3B4455;\n",
              "      fill: #D2E3FC;\n",
              "    }\n",
              "\n",
              "    [theme=dark] .colab-df-convert:hover {\n",
              "      background-color: #434B5C;\n",
              "      box-shadow: 0px 1px 3px 1px rgba(0, 0, 0, 0.15);\n",
              "      filter: drop-shadow(0px 1px 2px rgba(0, 0, 0, 0.3));\n",
              "      fill: #FFFFFF;\n",
              "    }\n",
              "  </style>\n",
              "\n",
              "    <script>\n",
              "      const buttonEl =\n",
              "        document.querySelector('#df-aa092d1e-1f22-4914-8b5c-71bc0a29d99b button.colab-df-convert');\n",
              "      buttonEl.style.display =\n",
              "        google.colab.kernel.accessAllowed ? 'block' : 'none';\n",
              "\n",
              "      async function convertToInteractive(key) {\n",
              "        const element = document.querySelector('#df-aa092d1e-1f22-4914-8b5c-71bc0a29d99b');\n",
              "        const dataTable =\n",
              "          await google.colab.kernel.invokeFunction('convertToInteractive',\n",
              "                                                    [key], {});\n",
              "        if (!dataTable) return;\n",
              "\n",
              "        const docLinkHtml = 'Like what you see? Visit the ' +\n",
              "          '<a target=\"_blank\" href=https://colab.research.google.com/notebooks/data_table.ipynb>data table notebook</a>'\n",
              "          + ' to learn more about interactive tables.';\n",
              "        element.innerHTML = '';\n",
              "        dataTable['output_type'] = 'display_data';\n",
              "        await google.colab.output.renderOutput(dataTable, element);\n",
              "        const docLink = document.createElement('div');\n",
              "        docLink.innerHTML = docLinkHtml;\n",
              "        element.appendChild(docLink);\n",
              "      }\n",
              "    </script>\n",
              "  </div>\n",
              "\n",
              "\n",
              "<div id=\"df-40b8a8d3-c54b-407b-ac41-5a69c1ad7655\">\n",
              "  <button class=\"colab-df-quickchart\" onclick=\"quickchart('df-40b8a8d3-c54b-407b-ac41-5a69c1ad7655')\"\n",
              "            title=\"Suggest charts\"\n",
              "            style=\"display:none;\">\n",
              "\n",
              "<svg xmlns=\"http://www.w3.org/2000/svg\" height=\"24px\"viewBox=\"0 0 24 24\"\n",
              "     width=\"24px\">\n",
              "    <g>\n",
              "        <path d=\"M19 3H5c-1.1 0-2 .9-2 2v14c0 1.1.9 2 2 2h14c1.1 0 2-.9 2-2V5c0-1.1-.9-2-2-2zM9 17H7v-7h2v7zm4 0h-2V7h2v10zm4 0h-2v-4h2v4z\"/>\n",
              "    </g>\n",
              "</svg>\n",
              "  </button>\n",
              "\n",
              "<style>\n",
              "  .colab-df-quickchart {\n",
              "      --bg-color: #E8F0FE;\n",
              "      --fill-color: #1967D2;\n",
              "      --hover-bg-color: #E2EBFA;\n",
              "      --hover-fill-color: #174EA6;\n",
              "      --disabled-fill-color: #AAA;\n",
              "      --disabled-bg-color: #DDD;\n",
              "  }\n",
              "\n",
              "  [theme=dark] .colab-df-quickchart {\n",
              "      --bg-color: #3B4455;\n",
              "      --fill-color: #D2E3FC;\n",
              "      --hover-bg-color: #434B5C;\n",
              "      --hover-fill-color: #FFFFFF;\n",
              "      --disabled-bg-color: #3B4455;\n",
              "      --disabled-fill-color: #666;\n",
              "  }\n",
              "\n",
              "  .colab-df-quickchart {\n",
              "    background-color: var(--bg-color);\n",
              "    border: none;\n",
              "    border-radius: 50%;\n",
              "    cursor: pointer;\n",
              "    display: none;\n",
              "    fill: var(--fill-color);\n",
              "    height: 32px;\n",
              "    padding: 0;\n",
              "    width: 32px;\n",
              "  }\n",
              "\n",
              "  .colab-df-quickchart:hover {\n",
              "    background-color: var(--hover-bg-color);\n",
              "    box-shadow: 0 1px 2px rgba(60, 64, 67, 0.3), 0 1px 3px 1px rgba(60, 64, 67, 0.15);\n",
              "    fill: var(--button-hover-fill-color);\n",
              "  }\n",
              "\n",
              "  .colab-df-quickchart-complete:disabled,\n",
              "  .colab-df-quickchart-complete:disabled:hover {\n",
              "    background-color: var(--disabled-bg-color);\n",
              "    fill: var(--disabled-fill-color);\n",
              "    box-shadow: none;\n",
              "  }\n",
              "\n",
              "  .colab-df-spinner {\n",
              "    border: 2px solid var(--fill-color);\n",
              "    border-color: transparent;\n",
              "    border-bottom-color: var(--fill-color);\n",
              "    animation:\n",
              "      spin 1s steps(1) infinite;\n",
              "  }\n",
              "\n",
              "  @keyframes spin {\n",
              "    0% {\n",
              "      border-color: transparent;\n",
              "      border-bottom-color: var(--fill-color);\n",
              "      border-left-color: var(--fill-color);\n",
              "    }\n",
              "    20% {\n",
              "      border-color: transparent;\n",
              "      border-left-color: var(--fill-color);\n",
              "      border-top-color: var(--fill-color);\n",
              "    }\n",
              "    30% {\n",
              "      border-color: transparent;\n",
              "      border-left-color: var(--fill-color);\n",
              "      border-top-color: var(--fill-color);\n",
              "      border-right-color: var(--fill-color);\n",
              "    }\n",
              "    40% {\n",
              "      border-color: transparent;\n",
              "      border-right-color: var(--fill-color);\n",
              "      border-top-color: var(--fill-color);\n",
              "    }\n",
              "    60% {\n",
              "      border-color: transparent;\n",
              "      border-right-color: var(--fill-color);\n",
              "    }\n",
              "    80% {\n",
              "      border-color: transparent;\n",
              "      border-right-color: var(--fill-color);\n",
              "      border-bottom-color: var(--fill-color);\n",
              "    }\n",
              "    90% {\n",
              "      border-color: transparent;\n",
              "      border-bottom-color: var(--fill-color);\n",
              "    }\n",
              "  }\n",
              "</style>\n",
              "\n",
              "  <script>\n",
              "    async function quickchart(key) {\n",
              "      const quickchartButtonEl =\n",
              "        document.querySelector('#' + key + ' button');\n",
              "      quickchartButtonEl.disabled = true;  // To prevent multiple clicks.\n",
              "      quickchartButtonEl.classList.add('colab-df-spinner');\n",
              "      try {\n",
              "        const charts = await google.colab.kernel.invokeFunction(\n",
              "            'suggestCharts', [key], {});\n",
              "      } catch (error) {\n",
              "        console.error('Error during call to suggestCharts:', error);\n",
              "      }\n",
              "      quickchartButtonEl.classList.remove('colab-df-spinner');\n",
              "      quickchartButtonEl.classList.add('colab-df-quickchart-complete');\n",
              "    }\n",
              "    (() => {\n",
              "      let quickchartButtonEl =\n",
              "        document.querySelector('#df-40b8a8d3-c54b-407b-ac41-5a69c1ad7655 button');\n",
              "      quickchartButtonEl.style.display =\n",
              "        google.colab.kernel.accessAllowed ? 'block' : 'none';\n",
              "    })();\n",
              "  </script>\n",
              "</div>\n",
              "    </div>\n",
              "  </div>\n"
            ],
            "application/vnd.google.colaboratory.intrinsic+json": {
              "type": "dataframe",
              "variable_name": "synthetic_random",
              "summary": "{\n  \"name\": \"synthetic_random\",\n  \"rows\": 1000,\n  \"fields\": [\n    {\n      \"column\": \"age\",\n      \"properties\": {\n        \"dtype\": \"number\",\n        \"std\": 29,\n        \"min\": 0,\n        \"max\": 100,\n        \"num_unique_values\": 101,\n        \"samples\": [\n          26,\n          3,\n          50\n        ],\n        \"semantic_type\": \"\",\n        \"description\": \"\"\n      }\n    },\n    {\n      \"column\": \"education\",\n      \"properties\": {\n        \"dtype\": \"category\",\n        \"num_unique_values\": 16,\n        \"samples\": [\n          \"Preschool\",\n          \"Some-college\",\n          \"1st-4th\"\n        ],\n        \"semantic_type\": \"\",\n        \"description\": \"\"\n      }\n    },\n    {\n      \"column\": \"sex\",\n      \"properties\": {\n        \"dtype\": \"category\",\n        \"num_unique_values\": 2,\n        \"samples\": [\n          \"Female\",\n          \"Male\"\n        ],\n        \"semantic_type\": \"\",\n        \"description\": \"\"\n      }\n    },\n    {\n      \"column\": \"relationship\",\n      \"properties\": {\n        \"dtype\": \"category\",\n        \"num_unique_values\": 6,\n        \"samples\": [\n          \"Husband\",\n          \"Not-in-family\"\n        ],\n        \"semantic_type\": \"\",\n        \"description\": \"\"\n      }\n    },\n    {\n      \"column\": \"marital-status\",\n      \"properties\": {\n        \"dtype\": \"category\",\n        \"num_unique_values\": 7,\n        \"samples\": [\n          \"Married-civ-spouse\",\n          \"Separated\"\n        ],\n        \"semantic_type\": \"\",\n        \"description\": \"\"\n      }\n    },\n    {\n      \"column\": \"income\",\n      \"properties\": {\n        \"dtype\": \"category\",\n        \"num_unique_values\": 2,\n        \"samples\": [\n          \">50K\",\n          \"<=50K\"\n        ],\n        \"semantic_type\": \"\",\n        \"description\": \"\"\n      }\n    }\n  ]\n}"
            }
          },
          "metadata": {},
          "execution_count": 19
        }
      ]
    },
    {
      "cell_type": "code",
      "metadata": {
        "colab": {
          "base_uri": "https://localhost:8080/",
          "height": 206
        },
        "id": "BtXKVWt-UoCm",
        "outputId": "364a2280-c0b8-4bc3-ee30-cdf5eb0ff6b8"
      },
      "source": [
        "real_data.head()"
      ],
      "execution_count": 20,
      "outputs": [
        {
          "output_type": "execute_result",
          "data": {
            "text/plain": [
              "   age  education     sex   relationship      marital-status income\n",
              "0   39  Bachelors    Male  Not-in-family       Never-married  <=50K\n",
              "1   50  Bachelors    Male        Husband  Married-civ-spouse  <=50K\n",
              "2   38    HS-grad    Male  Not-in-family            Divorced  <=50K\n",
              "3   53       11th    Male        Husband  Married-civ-spouse  <=50K\n",
              "4   28  Bachelors  Female           Wife  Married-civ-spouse  <=50K"
            ],
            "text/html": [
              "\n",
              "  <div id=\"df-9ef45b2a-72fd-4241-b884-fa0e9637b2e3\" class=\"colab-df-container\">\n",
              "    <div>\n",
              "<style scoped>\n",
              "    .dataframe tbody tr th:only-of-type {\n",
              "        vertical-align: middle;\n",
              "    }\n",
              "\n",
              "    .dataframe tbody tr th {\n",
              "        vertical-align: top;\n",
              "    }\n",
              "\n",
              "    .dataframe thead th {\n",
              "        text-align: right;\n",
              "    }\n",
              "</style>\n",
              "<table border=\"1\" class=\"dataframe\">\n",
              "  <thead>\n",
              "    <tr style=\"text-align: right;\">\n",
              "      <th></th>\n",
              "      <th>age</th>\n",
              "      <th>education</th>\n",
              "      <th>sex</th>\n",
              "      <th>relationship</th>\n",
              "      <th>marital-status</th>\n",
              "      <th>income</th>\n",
              "    </tr>\n",
              "  </thead>\n",
              "  <tbody>\n",
              "    <tr>\n",
              "      <th>0</th>\n",
              "      <td>39</td>\n",
              "      <td>Bachelors</td>\n",
              "      <td>Male</td>\n",
              "      <td>Not-in-family</td>\n",
              "      <td>Never-married</td>\n",
              "      <td>&lt;=50K</td>\n",
              "    </tr>\n",
              "    <tr>\n",
              "      <th>1</th>\n",
              "      <td>50</td>\n",
              "      <td>Bachelors</td>\n",
              "      <td>Male</td>\n",
              "      <td>Husband</td>\n",
              "      <td>Married-civ-spouse</td>\n",
              "      <td>&lt;=50K</td>\n",
              "    </tr>\n",
              "    <tr>\n",
              "      <th>2</th>\n",
              "      <td>38</td>\n",
              "      <td>HS-grad</td>\n",
              "      <td>Male</td>\n",
              "      <td>Not-in-family</td>\n",
              "      <td>Divorced</td>\n",
              "      <td>&lt;=50K</td>\n",
              "    </tr>\n",
              "    <tr>\n",
              "      <th>3</th>\n",
              "      <td>53</td>\n",
              "      <td>11th</td>\n",
              "      <td>Male</td>\n",
              "      <td>Husband</td>\n",
              "      <td>Married-civ-spouse</td>\n",
              "      <td>&lt;=50K</td>\n",
              "    </tr>\n",
              "    <tr>\n",
              "      <th>4</th>\n",
              "      <td>28</td>\n",
              "      <td>Bachelors</td>\n",
              "      <td>Female</td>\n",
              "      <td>Wife</td>\n",
              "      <td>Married-civ-spouse</td>\n",
              "      <td>&lt;=50K</td>\n",
              "    </tr>\n",
              "  </tbody>\n",
              "</table>\n",
              "</div>\n",
              "    <div class=\"colab-df-buttons\">\n",
              "\n",
              "  <div class=\"colab-df-container\">\n",
              "    <button class=\"colab-df-convert\" onclick=\"convertToInteractive('df-9ef45b2a-72fd-4241-b884-fa0e9637b2e3')\"\n",
              "            title=\"Convert this dataframe to an interactive table.\"\n",
              "            style=\"display:none;\">\n",
              "\n",
              "  <svg xmlns=\"http://www.w3.org/2000/svg\" height=\"24px\" viewBox=\"0 -960 960 960\">\n",
              "    <path d=\"M120-120v-720h720v720H120Zm60-500h600v-160H180v160Zm220 220h160v-160H400v160Zm0 220h160v-160H400v160ZM180-400h160v-160H180v160Zm440 0h160v-160H620v160ZM180-180h160v-160H180v160Zm440 0h160v-160H620v160Z\"/>\n",
              "  </svg>\n",
              "    </button>\n",
              "\n",
              "  <style>\n",
              "    .colab-df-container {\n",
              "      display:flex;\n",
              "      gap: 12px;\n",
              "    }\n",
              "\n",
              "    .colab-df-convert {\n",
              "      background-color: #E8F0FE;\n",
              "      border: none;\n",
              "      border-radius: 50%;\n",
              "      cursor: pointer;\n",
              "      display: none;\n",
              "      fill: #1967D2;\n",
              "      height: 32px;\n",
              "      padding: 0 0 0 0;\n",
              "      width: 32px;\n",
              "    }\n",
              "\n",
              "    .colab-df-convert:hover {\n",
              "      background-color: #E2EBFA;\n",
              "      box-shadow: 0px 1px 2px rgba(60, 64, 67, 0.3), 0px 1px 3px 1px rgba(60, 64, 67, 0.15);\n",
              "      fill: #174EA6;\n",
              "    }\n",
              "\n",
              "    .colab-df-buttons div {\n",
              "      margin-bottom: 4px;\n",
              "    }\n",
              "\n",
              "    [theme=dark] .colab-df-convert {\n",
              "      background-color: #3B4455;\n",
              "      fill: #D2E3FC;\n",
              "    }\n",
              "\n",
              "    [theme=dark] .colab-df-convert:hover {\n",
              "      background-color: #434B5C;\n",
              "      box-shadow: 0px 1px 3px 1px rgba(0, 0, 0, 0.15);\n",
              "      filter: drop-shadow(0px 1px 2px rgba(0, 0, 0, 0.3));\n",
              "      fill: #FFFFFF;\n",
              "    }\n",
              "  </style>\n",
              "\n",
              "    <script>\n",
              "      const buttonEl =\n",
              "        document.querySelector('#df-9ef45b2a-72fd-4241-b884-fa0e9637b2e3 button.colab-df-convert');\n",
              "      buttonEl.style.display =\n",
              "        google.colab.kernel.accessAllowed ? 'block' : 'none';\n",
              "\n",
              "      async function convertToInteractive(key) {\n",
              "        const element = document.querySelector('#df-9ef45b2a-72fd-4241-b884-fa0e9637b2e3');\n",
              "        const dataTable =\n",
              "          await google.colab.kernel.invokeFunction('convertToInteractive',\n",
              "                                                    [key], {});\n",
              "        if (!dataTable) return;\n",
              "\n",
              "        const docLinkHtml = 'Like what you see? Visit the ' +\n",
              "          '<a target=\"_blank\" href=https://colab.research.google.com/notebooks/data_table.ipynb>data table notebook</a>'\n",
              "          + ' to learn more about interactive tables.';\n",
              "        element.innerHTML = '';\n",
              "        dataTable['output_type'] = 'display_data';\n",
              "        await google.colab.output.renderOutput(dataTable, element);\n",
              "        const docLink = document.createElement('div');\n",
              "        docLink.innerHTML = docLinkHtml;\n",
              "        element.appendChild(docLink);\n",
              "      }\n",
              "    </script>\n",
              "  </div>\n",
              "\n",
              "\n",
              "<div id=\"df-cd7a65e9-3203-43b1-985f-c9c3e6c0951c\">\n",
              "  <button class=\"colab-df-quickchart\" onclick=\"quickchart('df-cd7a65e9-3203-43b1-985f-c9c3e6c0951c')\"\n",
              "            title=\"Suggest charts\"\n",
              "            style=\"display:none;\">\n",
              "\n",
              "<svg xmlns=\"http://www.w3.org/2000/svg\" height=\"24px\"viewBox=\"0 0 24 24\"\n",
              "     width=\"24px\">\n",
              "    <g>\n",
              "        <path d=\"M19 3H5c-1.1 0-2 .9-2 2v14c0 1.1.9 2 2 2h14c1.1 0 2-.9 2-2V5c0-1.1-.9-2-2-2zM9 17H7v-7h2v7zm4 0h-2V7h2v10zm4 0h-2v-4h2v4z\"/>\n",
              "    </g>\n",
              "</svg>\n",
              "  </button>\n",
              "\n",
              "<style>\n",
              "  .colab-df-quickchart {\n",
              "      --bg-color: #E8F0FE;\n",
              "      --fill-color: #1967D2;\n",
              "      --hover-bg-color: #E2EBFA;\n",
              "      --hover-fill-color: #174EA6;\n",
              "      --disabled-fill-color: #AAA;\n",
              "      --disabled-bg-color: #DDD;\n",
              "  }\n",
              "\n",
              "  [theme=dark] .colab-df-quickchart {\n",
              "      --bg-color: #3B4455;\n",
              "      --fill-color: #D2E3FC;\n",
              "      --hover-bg-color: #434B5C;\n",
              "      --hover-fill-color: #FFFFFF;\n",
              "      --disabled-bg-color: #3B4455;\n",
              "      --disabled-fill-color: #666;\n",
              "  }\n",
              "\n",
              "  .colab-df-quickchart {\n",
              "    background-color: var(--bg-color);\n",
              "    border: none;\n",
              "    border-radius: 50%;\n",
              "    cursor: pointer;\n",
              "    display: none;\n",
              "    fill: var(--fill-color);\n",
              "    height: 32px;\n",
              "    padding: 0;\n",
              "    width: 32px;\n",
              "  }\n",
              "\n",
              "  .colab-df-quickchart:hover {\n",
              "    background-color: var(--hover-bg-color);\n",
              "    box-shadow: 0 1px 2px rgba(60, 64, 67, 0.3), 0 1px 3px 1px rgba(60, 64, 67, 0.15);\n",
              "    fill: var(--button-hover-fill-color);\n",
              "  }\n",
              "\n",
              "  .colab-df-quickchart-complete:disabled,\n",
              "  .colab-df-quickchart-complete:disabled:hover {\n",
              "    background-color: var(--disabled-bg-color);\n",
              "    fill: var(--disabled-fill-color);\n",
              "    box-shadow: none;\n",
              "  }\n",
              "\n",
              "  .colab-df-spinner {\n",
              "    border: 2px solid var(--fill-color);\n",
              "    border-color: transparent;\n",
              "    border-bottom-color: var(--fill-color);\n",
              "    animation:\n",
              "      spin 1s steps(1) infinite;\n",
              "  }\n",
              "\n",
              "  @keyframes spin {\n",
              "    0% {\n",
              "      border-color: transparent;\n",
              "      border-bottom-color: var(--fill-color);\n",
              "      border-left-color: var(--fill-color);\n",
              "    }\n",
              "    20% {\n",
              "      border-color: transparent;\n",
              "      border-left-color: var(--fill-color);\n",
              "      border-top-color: var(--fill-color);\n",
              "    }\n",
              "    30% {\n",
              "      border-color: transparent;\n",
              "      border-left-color: var(--fill-color);\n",
              "      border-top-color: var(--fill-color);\n",
              "      border-right-color: var(--fill-color);\n",
              "    }\n",
              "    40% {\n",
              "      border-color: transparent;\n",
              "      border-right-color: var(--fill-color);\n",
              "      border-top-color: var(--fill-color);\n",
              "    }\n",
              "    60% {\n",
              "      border-color: transparent;\n",
              "      border-right-color: var(--fill-color);\n",
              "    }\n",
              "    80% {\n",
              "      border-color: transparent;\n",
              "      border-right-color: var(--fill-color);\n",
              "      border-bottom-color: var(--fill-color);\n",
              "    }\n",
              "    90% {\n",
              "      border-color: transparent;\n",
              "      border-bottom-color: var(--fill-color);\n",
              "    }\n",
              "  }\n",
              "</style>\n",
              "\n",
              "  <script>\n",
              "    async function quickchart(key) {\n",
              "      const quickchartButtonEl =\n",
              "        document.querySelector('#' + key + ' button');\n",
              "      quickchartButtonEl.disabled = true;  // To prevent multiple clicks.\n",
              "      quickchartButtonEl.classList.add('colab-df-spinner');\n",
              "      try {\n",
              "        const charts = await google.colab.kernel.invokeFunction(\n",
              "            'suggestCharts', [key], {});\n",
              "      } catch (error) {\n",
              "        console.error('Error during call to suggestCharts:', error);\n",
              "      }\n",
              "      quickchartButtonEl.classList.remove('colab-df-spinner');\n",
              "      quickchartButtonEl.classList.add('colab-df-quickchart-complete');\n",
              "    }\n",
              "    (() => {\n",
              "      let quickchartButtonEl =\n",
              "        document.querySelector('#df-cd7a65e9-3203-43b1-985f-c9c3e6c0951c button');\n",
              "      quickchartButtonEl.style.display =\n",
              "        google.colab.kernel.accessAllowed ? 'block' : 'none';\n",
              "    })();\n",
              "  </script>\n",
              "</div>\n",
              "    </div>\n",
              "  </div>\n"
            ],
            "application/vnd.google.colaboratory.intrinsic+json": {
              "type": "dataframe",
              "variable_name": "real_data",
              "summary": "{\n  \"name\": \"real_data\",\n  \"rows\": 32561,\n  \"fields\": [\n    {\n      \"column\": \"age\",\n      \"properties\": {\n        \"dtype\": \"number\",\n        \"std\": 13,\n        \"min\": 17,\n        \"max\": 90,\n        \"num_unique_values\": 73,\n        \"samples\": [\n          28,\n          73,\n          35\n        ],\n        \"semantic_type\": \"\",\n        \"description\": \"\"\n      }\n    },\n    {\n      \"column\": \"education\",\n      \"properties\": {\n        \"dtype\": \"category\",\n        \"num_unique_values\": 16,\n        \"samples\": [\n          \"Bachelors\",\n          \"HS-grad\",\n          \"Some-college\"\n        ],\n        \"semantic_type\": \"\",\n        \"description\": \"\"\n      }\n    },\n    {\n      \"column\": \"sex\",\n      \"properties\": {\n        \"dtype\": \"category\",\n        \"num_unique_values\": 2,\n        \"samples\": [\n          \"Female\",\n          \"Male\"\n        ],\n        \"semantic_type\": \"\",\n        \"description\": \"\"\n      }\n    },\n    {\n      \"column\": \"relationship\",\n      \"properties\": {\n        \"dtype\": \"category\",\n        \"num_unique_values\": 6,\n        \"samples\": [\n          \"Not-in-family\",\n          \"Husband\"\n        ],\n        \"semantic_type\": \"\",\n        \"description\": \"\"\n      }\n    },\n    {\n      \"column\": \"marital-status\",\n      \"properties\": {\n        \"dtype\": \"category\",\n        \"num_unique_values\": 7,\n        \"samples\": [\n          \"Never-married\",\n          \"Married-civ-spouse\"\n        ],\n        \"semantic_type\": \"\",\n        \"description\": \"\"\n      }\n    },\n    {\n      \"column\": \"income\",\n      \"properties\": {\n        \"dtype\": \"category\",\n        \"num_unique_values\": 2,\n        \"samples\": [\n          \">50K\",\n          \"<=50K\"\n        ],\n        \"semantic_type\": \"\",\n        \"description\": \"\"\n      }\n    }\n  ]\n}"
            }
          },
          "metadata": {},
          "execution_count": 20
        }
      ]
    },
    {
      "cell_type": "markdown",
      "metadata": {
        "id": "uUD2ZWzok6vh"
      },
      "source": [
        "## **TODO 2**: How do the values of the real and synthetic compare? Are there any obvious issues with the generated data? What kinds of information should we gather to avoid these issues?"
      ]
    },
    {
      "cell_type": "markdown",
      "source": [
        "**Answer:**\n",
        "\n",
        "The synthetic data is different from the real data. It appears to have more old people and females than in the real data. We should probably take a deeper look to avoid it."
      ],
      "metadata": {
        "id": "G8A55fCqVtF-"
      }
    },
    {
      "cell_type": "markdown",
      "source": [
        "## **TODO 3**: Make plots to compare the two dataframes above (the real data and synthetic data we just generated).\n",
        "Look at the rows. How do the values of the real data and synthetic data compare?\n",
        "- Make a histogram of the ages of people in the two dataframes.\n",
        "- Make a bar plot of the relationship statuses in the two dataframes."
      ],
      "metadata": {
        "id": "AZ1r6JzfiqKL"
      }
    },
    {
      "cell_type": "code",
      "metadata": {
        "colab": {
          "base_uri": "https://localhost:8080/",
          "height": 501
        },
        "id": "VpeqBitBUoCn",
        "outputId": "ee4bf397-8df8-4c45-ea5c-e0604fd2305c"
      },
      "source": [
        "# Age histogram\n",
        "plt.figure(figsize=(10, 5))\n",
        "plt.subplot(1, 2, 1)\n",
        "plt.hist(real_data['age'])\n",
        "plt.title('Real Data')\n",
        "plt.xlabel('Age')\n",
        "plt.ylabel('Frequency')\n",
        "\n",
        "plt.subplot(1, 2, 2)\n",
        "plt.hist(synthetic_random['age'])\n",
        "plt.title('Synthetic Random Data')\n",
        "plt.xlabel('Age')\n",
        "plt.ylabel('Frequency')\n",
        "\n",
        "plt.tight_layout()"
      ],
      "execution_count": 21,
      "outputs": [
        {
          "output_type": "display_data",
          "data": {
            "text/plain": [
              "<Figure size 1000x500 with 2 Axes>"
            ],
            "image/png": "[encoded data removed]"
          },
          "metadata": {}
        }
      ]
    },
    {
      "cell_type": "code",
      "metadata": {
        "colab": {
          "base_uri": "https://localhost:8080/",
          "height": 501
        },
        "id": "H6YrDHcRUoCn",
        "outputId": "daab2ea3-ac23-4820-f691-5aebb9da85d8"
      },
      "source": [
        "# Relationship bar plot\n",
        "plt.figure(figsize=(10, 5))\n",
        "plt.subplot(1, 2, 1)\n",
        "plt.bar(real_data['relationship'].value_counts().index, real_data['relationship'].value_counts().values)\n",
        "plt.title('Real Data')\n",
        "plt.xlabel('Relationship')\n",
        "plt.xticks(rotation=45)\n",
        "plt.ylabel('Frequency')\n",
        "\n",
        "plt.subplot(1, 2, 2)\n",
        "plt.bar(synthetic_random['relationship'].value_counts().index, synthetic_random['relationship'].value_counts().values)\n",
        "plt.title('Synthetic Random Data')\n",
        "plt.xlabel('Relationship')\n",
        "plt.xticks(rotation=45)\n",
        "plt.ylabel('Frequency')\n",
        "\n",
        "plt.tight_layout()"
      ],
      "execution_count": 27,
      "outputs": [
        {
          "output_type": "display_data",
          "data": {
            "text/plain": [
              "<Figure size 1000x500 with 2 Axes>"
            ],
            "image/png": "[encoded data removed]"
          },
          "metadata": {}
        }
      ]
    },
    {
      "cell_type": "markdown",
      "source": [
        "We can also pull more information on how the relationship feature is generated in random mode using the describer functions. This is the same content as the `json` file we opened a moment ago, but now printed inline:"
      ],
      "metadata": {
        "id": "GkU-hwHc9Af_"
      }
    },
    {
      "cell_type": "code",
      "metadata": {
        "id": "sfA1M0RUUoCn"
      },
      "source": [
        "with open(description_files['random mode']) as f:\n",
        "    description_json = json.load(f)"
      ],
      "execution_count": 28,
      "outputs": []
    },
    {
      "cell_type": "code",
      "metadata": {
        "colab": {
          "base_uri": "https://localhost:8080/"
        },
        "id": "mOGaHF2eUoCo",
        "outputId": "2fbc7cac-1020-4ebb-9b28-7ab4d364a1bd"
      },
      "source": [
        "description_json.keys()"
      ],
      "execution_count": 29,
      "outputs": [
        {
          "output_type": "execute_result",
          "data": {
            "text/plain": [
              "dict_keys(['meta', 'attribute_description'])"
            ]
          },
          "metadata": {},
          "execution_count": 29
        }
      ]
    },
    {
      "cell_type": "code",
      "metadata": {
        "colab": {
          "base_uri": "https://localhost:8080/"
        },
        "id": "wwKz55nmUoCo",
        "outputId": "27acfa1f-6e70-4143-ecec-ef94af1dc0a9"
      },
      "source": [
        "print(json.dumps(description_json['attribute_description']['relationship'], indent=4))"
      ],
      "execution_count": 30,
      "outputs": [
        {
          "output_type": "stream",
          "name": "stdout",
          "text": [
            "{\n",
            "    \"name\": \"relationship\",\n",
            "    \"data_type\": \"String\",\n",
            "    \"is_categorical\": true,\n",
            "    \"is_candidate_key\": false,\n",
            "    \"min\": 4,\n",
            "    \"max\": 14,\n",
            "    \"missing_rate\": 0.0,\n",
            "    \"distribution_bins\": [\n",
            "        \"Not-in-family\",\n",
            "        \"Husband\",\n",
            "        \"Wife\",\n",
            "        \"Own-child\",\n",
            "        \"Unmarried\",\n",
            "        \"Other-relative\"\n",
            "    ],\n",
            "    \"distribution_probabilities\": [\n",
            "        0.16666666666666666,\n",
            "        0.16666666666666666,\n",
            "        0.16666666666666666,\n",
            "        0.16666666666666666,\n",
            "        0.16666666666666666,\n",
            "        0.16666666666666666\n",
            "    ]\n",
            "}\n"
          ]
        }
      ]
    },
    {
      "cell_type": "markdown",
      "metadata": {
        "id": "T4gTInTFUoCo"
      },
      "source": [
        "# Independent attribute mode\n",
        "\n",
        "The histograms from the last section showed that we were generating data that was very much unlike the real data.\n",
        "To resolve this issue, we now look at **independent attribute mode**.\n",
        "In the last section, to generate data, we just generated data uniformly at random.\n",
        "Here, we instead learn the distribution of each feature, and generate data by sampling from that distribution.\n",
        "Vitally, in this section, we learn the distribution of each feature _independently_ of other features.\n",
        "To make that concrete, when generating a fake person for our synthetic dataset, we generate their age and education level independnetly, so their age and education level might make no sense when studied together."
      ]
    },
    {
      "cell_type": "code",
      "source": [
        "# Learn from the data\n",
        "describer.describe_dataset_in_independent_attribute_mode(sensitive_data_file, epsilon=0.1)\n",
        "# Write the learned description into a file\n",
        "describer.save_dataset_description_to_file(description_files['independent attribute mode'])"
      ],
      "metadata": {
        "id": "hlEnYEKquc6K"
      },
      "execution_count": 31,
      "outputs": []
    },
    {
      "cell_type": "markdown",
      "source": [
        "## **TODO 4:**  Use ``generator.generate_dataset_in_independent_mode`` to generate synthetic data using the independent attribute mode.\n",
        "Hint: Look at the ``generate_dataset_in_random_mode`` code above if you are unsure how to proceed. You should set a seed, but you do not need to set a minimum or maximum:"
      ],
      "metadata": {
        "id": "-l0RljBHiwq_"
      }
    },
    {
      "cell_type": "code",
      "metadata": {
        "id": "4LrdvAJDUoCp"
      },
      "source": [
        "# generate synthetic data in independent attribute mode\n",
        "# write your code here using: generator.generate_dataset_in_independent_mode\n",
        "generator.generate_dataset_in_independent_mode(n=output_data_size,\n",
        "                                               description_file=description_files['independent attribute mode'],\n",
        "                                               seed=0)"
      ],
      "execution_count": 32,
      "outputs": []
    },
    {
      "cell_type": "code",
      "metadata": {
        "id": "yEfbtaOnUoCp",
        "colab": {
          "base_uri": "https://localhost:8080/",
          "height": 206
        },
        "outputId": "58b3436d-3384-4760-91ea-c1ba873a1a41"
      },
      "source": [
        "# Write synthetic data to a file\n",
        "generator.save_synthetic_data(synthetic_data_files['independent attribute mode'])\n",
        "# Read that file\n",
        "synthetic_independent = pd.read_csv(synthetic_data_files['independent attribute mode'])\n",
        "synthetic_independent.head()"
      ],
      "execution_count": 33,
      "outputs": [
        {
          "output_type": "execute_result",
          "data": {
            "text/plain": [
              "    age education     sex   relationship      marital-status income\n",
              "0  42.0   HS-grad    Male  Not-in-family  Married-civ-spouse  <=50K\n",
              "1  45.0      10th    Male  Not-in-family  Married-civ-spouse  <=50K\n",
              "2  40.0   HS-grad    Male      Own-child            Divorced  <=50K\n",
              "3  36.0   HS-grad  Female      Unmarried  Married-civ-spouse  <=50K\n",
              "4  33.0      11th    Male      Own-child            Divorced  <=50K"
            ],
            "text/html": [
              "\n",
              "  <div id=\"df-6b0b1aca-e8e9-449c-a6bc-fa3c6e3461d9\" class=\"colab-df-container\">\n",
              "    <div>\n",
              "<style scoped>\n",
              "    .dataframe tbody tr th:only-of-type {\n",
              "        vertical-align: middle;\n",
              "    }\n",
              "\n",
              "    .dataframe tbody tr th {\n",
              "        vertical-align: top;\n",
              "    }\n",
              "\n",
              "    .dataframe thead th {\n",
              "        text-align: right;\n",
              "    }\n",
              "</style>\n",
              "<table border=\"1\" class=\"dataframe\">\n",
              "  <thead>\n",
              "    <tr style=\"text-align: right;\">\n",
              "      <th></th>\n",
              "      <th>age</th>\n",
              "      <th>education</th>\n",
              "      <th>sex</th>\n",
              "      <th>relationship</th>\n",
              "      <th>marital-status</th>\n",
              "      <th>income</th>\n",
              "    </tr>\n",
              "  </thead>\n",
              "  <tbody>\n",
              "    <tr>\n",
              "      <th>0</th>\n",
              "      <td>42.0</td>\n",
              "      <td>HS-grad</td>\n",
              "      <td>Male</td>\n",
              "      <td>Not-in-family</td>\n",
              "      <td>Married-civ-spouse</td>\n",
              "      <td>&lt;=50K</td>\n",
              "    </tr>\n",
              "    <tr>\n",
              "      <th>1</th>\n",
              "      <td>45.0</td>\n",
              "      <td>10th</td>\n",
              "      <td>Male</td>\n",
              "      <td>Not-in-family</td>\n",
              "      <td>Married-civ-spouse</td>\n",
              "      <td>&lt;=50K</td>\n",
              "    </tr>\n",
              "    <tr>\n",
              "      <th>2</th>\n",
              "      <td>40.0</td>\n",
              "      <td>HS-grad</td>\n",
              "      <td>Male</td>\n",
              "      <td>Own-child</td>\n",
              "      <td>Divorced</td>\n",
              "      <td>&lt;=50K</td>\n",
              "    </tr>\n",
              "    <tr>\n",
              "      <th>3</th>\n",
              "      <td>36.0</td>\n",
              "      <td>HS-grad</td>\n",
              "      <td>Female</td>\n",
              "      <td>Unmarried</td>\n",
              "      <td>Married-civ-spouse</td>\n",
              "      <td>&lt;=50K</td>\n",
              "    </tr>\n",
              "    <tr>\n",
              "      <th>4</th>\n",
              "      <td>33.0</td>\n",
              "      <td>11th</td>\n",
              "      <td>Male</td>\n",
              "      <td>Own-child</td>\n",
              "      <td>Divorced</td>\n",
              "      <td>&lt;=50K</td>\n",
              "    </tr>\n",
              "  </tbody>\n",
              "</table>\n",
              "</div>\n",
              "    <div class=\"colab-df-buttons\">\n",
              "\n",
              "  <div class=\"colab-df-container\">\n",
              "    <button class=\"colab-df-convert\" onclick=\"convertToInteractive('df-6b0b1aca-e8e9-449c-a6bc-fa3c6e3461d9')\"\n",
              "            title=\"Convert this dataframe to an interactive table.\"\n",
              "            style=\"display:none;\">\n",
              "\n",
              "  <svg xmlns=\"http://www.w3.org/2000/svg\" height=\"24px\" viewBox=\"0 -960 960 960\">\n",
              "    <path d=\"M120-120v-720h720v720H120Zm60-500h600v-160H180v160Zm220 220h160v-160H400v160Zm0 220h160v-160H400v160ZM180-400h160v-160H180v160Zm440 0h160v-160H620v160ZM180-180h160v-160H180v160Zm440 0h160v-160H620v160Z\"/>\n",
              "  </svg>\n",
              "    </button>\n",
              "\n",
              "  <style>\n",
              "    .colab-df-container {\n",
              "      display:flex;\n",
              "      gap: 12px;\n",
              "    }\n",
              "\n",
              "    .colab-df-convert {\n",
              "      background-color: #E8F0FE;\n",
              "      border: none;\n",
              "      border-radius: 50%;\n",
              "      cursor: pointer;\n",
              "      display: none;\n",
              "      fill: #1967D2;\n",
              "      height: 32px;\n",
              "      padding: 0 0 0 0;\n",
              "      width: 32px;\n",
              "    }\n",
              "\n",
              "    .colab-df-convert:hover {\n",
              "      background-color: #E2EBFA;\n",
              "      box-shadow: 0px 1px 2px rgba(60, 64, 67, 0.3), 0px 1px 3px 1px rgba(60, 64, 67, 0.15);\n",
              "      fill: #174EA6;\n",
              "    }\n",
              "\n",
              "    .colab-df-buttons div {\n",
              "      margin-bottom: 4px;\n",
              "    }\n",
              "\n",
              "    [theme=dark] .colab-df-convert {\n",
              "      background-color: #3B4455;\n",
              "      fill: #D2E3FC;\n",
              "    }\n",
              "\n",
              "    [theme=dark] .colab-df-convert:hover {\n",
              "      background-color: #434B5C;\n",
              "      box-shadow: 0px 1px 3px 1px rgba(0, 0, 0, 0.15);\n",
              "      filter: drop-shadow(0px 1px 2px rgba(0, 0, 0, 0.3));\n",
              "      fill: #FFFFFF;\n",
              "    }\n",
              "  </style>\n",
              "\n",
              "    <script>\n",
              "      const buttonEl =\n",
              "        document.querySelector('#df-6b0b1aca-e8e9-449c-a6bc-fa3c6e3461d9 button.colab-df-convert');\n",
              "      buttonEl.style.display =\n",
              "        google.colab.kernel.accessAllowed ? 'block' : 'none';\n",
              "\n",
              "      async function convertToInteractive(key) {\n",
              "        const element = document.querySelector('#df-6b0b1aca-e8e9-449c-a6bc-fa3c6e3461d9');\n",
              "        const dataTable =\n",
              "          await google.colab.kernel.invokeFunction('convertToInteractive',\n",
              "                                                    [key], {});\n",
              "        if (!dataTable) return;\n",
              "\n",
              "        const docLinkHtml = 'Like what you see? Visit the ' +\n",
              "          '<a target=\"_blank\" href=https://colab.research.google.com/notebooks/data_table.ipynb>data table notebook</a>'\n",
              "          + ' to learn more about interactive tables.';\n",
              "        element.innerHTML = '';\n",
              "        dataTable['output_type'] = 'display_data';\n",
              "        await google.colab.output.renderOutput(dataTable, element);\n",
              "        const docLink = document.createElement('div');\n",
              "        docLink.innerHTML = docLinkHtml;\n",
              "        element.appendChild(docLink);\n",
              "      }\n",
              "    </script>\n",
              "  </div>\n",
              "\n",
              "\n",
              "<div id=\"df-7aafd933-6023-4f91-9a28-d58d175dccfd\">\n",
              "  <button class=\"colab-df-quickchart\" onclick=\"quickchart('df-7aafd933-6023-4f91-9a28-d58d175dccfd')\"\n",
              "            title=\"Suggest charts\"\n",
              "            style=\"display:none;\">\n",
              "\n",
              "<svg xmlns=\"http://www.w3.org/2000/svg\" height=\"24px\"viewBox=\"0 0 24 24\"\n",
              "     width=\"24px\">\n",
              "    <g>\n",
              "        <path d=\"M19 3H5c-1.1 0-2 .9-2 2v14c0 1.1.9 2 2 2h14c1.1 0 2-.9 2-2V5c0-1.1-.9-2-2-2zM9 17H7v-7h2v7zm4 0h-2V7h2v10zm4 0h-2v-4h2v4z\"/>\n",
              "    </g>\n",
              "</svg>\n",
              "  </button>\n",
              "\n",
              "<style>\n",
              "  .colab-df-quickchart {\n",
              "      --bg-color: #E8F0FE;\n",
              "      --fill-color: #1967D2;\n",
              "      --hover-bg-color: #E2EBFA;\n",
              "      --hover-fill-color: #174EA6;\n",
              "      --disabled-fill-color: #AAA;\n",
              "      --disabled-bg-color: #DDD;\n",
              "  }\n",
              "\n",
              "  [theme=dark] .colab-df-quickchart {\n",
              "      --bg-color: #3B4455;\n",
              "      --fill-color: #D2E3FC;\n",
              "      --hover-bg-color: #434B5C;\n",
              "      --hover-fill-color: #FFFFFF;\n",
              "      --disabled-bg-color: #3B4455;\n",
              "      --disabled-fill-color: #666;\n",
              "  }\n",
              "\n",
              "  .colab-df-quickchart {\n",
              "    background-color: var(--bg-color);\n",
              "    border: none;\n",
              "    border-radius: 50%;\n",
              "    cursor: pointer;\n",
              "    display: none;\n",
              "    fill: var(--fill-color);\n",
              "    height: 32px;\n",
              "    padding: 0;\n",
              "    width: 32px;\n",
              "  }\n",
              "\n",
              "  .colab-df-quickchart:hover {\n",
              "    background-color: var(--hover-bg-color);\n",
              "    box-shadow: 0 1px 2px rgba(60, 64, 67, 0.3), 0 1px 3px 1px rgba(60, 64, 67, 0.15);\n",
              "    fill: var(--button-hover-fill-color);\n",
              "  }\n",
              "\n",
              "  .colab-df-quickchart-complete:disabled,\n",
              "  .colab-df-quickchart-complete:disabled:hover {\n",
              "    background-color: var(--disabled-bg-color);\n",
              "    fill: var(--disabled-fill-color);\n",
              "    box-shadow: none;\n",
              "  }\n",
              "\n",
              "  .colab-df-spinner {\n",
              "    border: 2px solid var(--fill-color);\n",
              "    border-color: transparent;\n",
              "    border-bottom-color: var(--fill-color);\n",
              "    animation:\n",
              "      spin 1s steps(1) infinite;\n",
              "  }\n",
              "\n",
              "  @keyframes spin {\n",
              "    0% {\n",
              "      border-color: transparent;\n",
              "      border-bottom-color: var(--fill-color);\n",
              "      border-left-color: var(--fill-color);\n",
              "    }\n",
              "    20% {\n",
              "      border-color: transparent;\n",
              "      border-left-color: var(--fill-color);\n",
              "      border-top-color: var(--fill-color);\n",
              "    }\n",
              "    30% {\n",
              "      border-color: transparent;\n",
              "      border-left-color: var(--fill-color);\n",
              "      border-top-color: var(--fill-color);\n",
              "      border-right-color: var(--fill-color);\n",
              "    }\n",
              "    40% {\n",
              "      border-color: transparent;\n",
              "      border-right-color: var(--fill-color);\n",
              "      border-top-color: var(--fill-color);\n",
              "    }\n",
              "    60% {\n",
              "      border-color: transparent;\n",
              "      border-right-color: var(--fill-color);\n",
              "    }\n",
              "    80% {\n",
              "      border-color: transparent;\n",
              "      border-right-color: var(--fill-color);\n",
              "      border-bottom-color: var(--fill-color);\n",
              "    }\n",
              "    90% {\n",
              "      border-color: transparent;\n",
              "      border-bottom-color: var(--fill-color);\n",
              "    }\n",
              "  }\n",
              "</style>\n",
              "\n",
              "  <script>\n",
              "    async function quickchart(key) {\n",
              "      const quickchartButtonEl =\n",
              "        document.querySelector('#' + key + ' button');\n",
              "      quickchartButtonEl.disabled = true;  // To prevent multiple clicks.\n",
              "      quickchartButtonEl.classList.add('colab-df-spinner');\n",
              "      try {\n",
              "        const charts = await google.colab.kernel.invokeFunction(\n",
              "            'suggestCharts', [key], {});\n",
              "      } catch (error) {\n",
              "        console.error('Error during call to suggestCharts:', error);\n",
              "      }\n",
              "      quickchartButtonEl.classList.remove('colab-df-spinner');\n",
              "      quickchartButtonEl.classList.add('colab-df-quickchart-complete');\n",
              "    }\n",
              "    (() => {\n",
              "      let quickchartButtonEl =\n",
              "        document.querySelector('#df-7aafd933-6023-4f91-9a28-d58d175dccfd button');\n",
              "      quickchartButtonEl.style.display =\n",
              "        google.colab.kernel.accessAllowed ? 'block' : 'none';\n",
              "    })();\n",
              "  </script>\n",
              "</div>\n",
              "    </div>\n",
              "  </div>\n"
            ],
            "application/vnd.google.colaboratory.intrinsic+json": {
              "type": "dataframe",
              "variable_name": "synthetic_independent",
              "summary": "{\n  \"name\": \"synthetic_independent\",\n  \"rows\": 1000,\n  \"fields\": [\n    {\n      \"column\": \"age\",\n      \"properties\": {\n        \"dtype\": \"number\",\n        \"std\": 13.867223618694945,\n        \"min\": 17.0,\n        \"max\": 86.0,\n        \"num_unique_values\": 65,\n        \"samples\": [\n          77.0,\n          78.0,\n          42.0\n        ],\n        \"semantic_type\": \"\",\n        \"description\": \"\"\n      }\n    },\n    {\n      \"column\": \"education\",\n      \"properties\": {\n        \"dtype\": \"category\",\n        \"num_unique_values\": 16,\n        \"samples\": [\n          \"HS-grad\",\n          \"10th\",\n          \"5th-6th\"\n        ],\n        \"semantic_type\": \"\",\n        \"description\": \"\"\n      }\n    },\n    {\n      \"column\": \"sex\",\n      \"properties\": {\n        \"dtype\": \"category\",\n        \"num_unique_values\": 2,\n        \"samples\": [\n          \"Female\",\n          \"Male\"\n        ],\n        \"semantic_type\": \"\",\n        \"description\": \"\"\n      }\n    },\n    {\n      \"column\": \"relationship\",\n      \"properties\": {\n        \"dtype\": \"category\",\n        \"num_unique_values\": 6,\n        \"samples\": [\n          \"Not-in-family\",\n          \"Own-child\"\n        ],\n        \"semantic_type\": \"\",\n        \"description\": \"\"\n      }\n    },\n    {\n      \"column\": \"marital-status\",\n      \"properties\": {\n        \"dtype\": \"category\",\n        \"num_unique_values\": 6,\n        \"samples\": [\n          \"Married-civ-spouse\",\n          \"Divorced\"\n        ],\n        \"semantic_type\": \"\",\n        \"description\": \"\"\n      }\n    },\n    {\n      \"column\": \"income\",\n      \"properties\": {\n        \"dtype\": \"category\",\n        \"num_unique_values\": 2,\n        \"samples\": [\n          \">50K\",\n          \"<=50K\"\n        ],\n        \"semantic_type\": \"\",\n        \"description\": \"\"\n      }\n    }\n  ]\n}"
            }
          },
          "metadata": {},
          "execution_count": 33
        }
      ]
    },
    {
      "cell_type": "markdown",
      "source": [
        "Let's look at the distribution of relationship values in the real data and in the synthetic data generated using the independent attribute mode:"
      ],
      "metadata": {
        "id": "3yMRahj1DPVT"
      }
    },
    {
      "cell_type": "code",
      "metadata": {
        "colab": {
          "base_uri": "https://localhost:8080/",
          "height": 405
        },
        "id": "grUTNDFqUoCq",
        "outputId": "24c7b79a-09de-45fb-998e-fcb1bcee0d45"
      },
      "source": [
        "# @markdown\n",
        "relationship_real = real_data['relationship'].value_counts()\n",
        "relationship_independent = synthetic_independent['relationship'].value_counts()\n",
        "relationship_both = pd.merge(relationship_real.to_frame(),\n",
        "                             relationship_independent.to_frame(),\n",
        "                             left_index=True,\n",
        "                             right_index=True,\n",
        "                             suffixes=('_real', '_independent_attribute_mode'))\n",
        "\n",
        "fig, axes = plt.subplots(1, 2, figsize=(6,3), dpi=120)\n",
        "axes[0].bar(relationship_both.index, relationship_both['count_real'])\n",
        "axes[1].bar(relationship_both.index, relationship_both['count_independent_attribute_mode'])\n",
        "axes[0].set_title('real data')\n",
        "axes[1].set_title('independent attribute mode')\n",
        "fig.autofmt_xdate()"
      ],
      "execution_count": 34,
      "outputs": [
        {
          "output_type": "display_data",
          "data": {
            "text/plain": [
              "<Figure size 720x360 with 2 Axes>"
            ],
            "image/png": "[encoded data removed]"
          },
          "metadata": {}
        }
      ]
    },
    {
      "cell_type": "markdown",
      "source": [
        "This seems a lot better now! We seem to have resolved the issue we saw from the uniformly random synthetic data.\n",
        "Let's check that this is also true for age.\n",
        "\n",
        "## **TODO 5:** Plot the distribution of age before and after being protected using independent attribute mode (i.e. in real_data and in synthetic_independent)"
      ],
      "metadata": {
        "id": "CyNw5AgR_kk_"
      }
    },
    {
      "cell_type": "code",
      "metadata": {
        "colab": {
          "base_uri": "https://localhost:8080/",
          "height": 501
        },
        "id": "nljwnU8zUoCp",
        "outputId": "3b970ebb-cf8d-4502-83ee-876e29a32a7a"
      },
      "source": [
        "# Plot age before and after being protected using independent attribute mode\n",
        "plt.figure(figsize=(10, 5))\n",
        "plt.subplot(1, 2, 1)\n",
        "plt.hist(real_data['age'])\n",
        "plt.title('Real Data')\n",
        "plt.xlabel('Age')\n",
        "\n",
        "plt.subplot(1, 2, 2)\n",
        "plt.hist(synthetic_independent['age'])\n",
        "plt.title('Synthetic Independent Attribute Mode Data')\n",
        "plt.xlabel('Age')\n",
        "\n",
        "plt.tight_layout()"
      ],
      "execution_count": 35,
      "outputs": [
        {
          "output_type": "display_data",
          "data": {
            "text/plain": [
              "<Figure size 1000x500 with 2 Axes>"
            ],
            "image/png": "[encoded data removed]"
          },
          "metadata": {}
        }
      ]
    },
    {
      "cell_type": "markdown",
      "source": [
        "Great, so we have better matched the histograms for real and synthetic data. Let's zoom into the data further.\n",
        "\n",
        "## **TODO 6:** Plot the distribution of age for both low-income and high-income people.\n",
        "That is, create 2 plots where one is for synthetic data and one is for real data. In each plot, draw two histograms, one for high-income people and one for low-income people.\n",
        "\n",
        "Hint: `pandas` provides a useful command `groupby`, which will let you group the dataframe by income level, so you can pull the age out and plot that easily.\n",
        "It's totally cool if you write a longer code; just mentioning a piece of code that can make this easier."
      ],
      "metadata": {
        "id": "8_vHYZuEBt69"
      }
    },
    {
      "cell_type": "code",
      "metadata": {
        "colab": {
          "base_uri": "https://localhost:8080/",
          "height": 501
        },
        "id": "mbMWBcUhUoCq",
        "outputId": "5c84bfdf-f50e-47b5-c799-30a58336255c"
      },
      "source": [
        "# Now plot the distribution of age by income group in the real data and in the synthetic data.\n",
        "# Each plot should contain a histogram of age for all rows where income >50K and a histogram for age where income <=50k.\n",
        "plt.figure(figsize=(10, 5))\n",
        "plt.subplot(1, 2, 1)\n",
        "plt.hist(real_data[real_data['income'] == '<=50K']['age'], label='<=50K')\n",
        "plt.hist(real_data[real_data['income'] == '>50K']['age'], label='>50K')\n",
        "plt.title('Real Data')\n",
        "plt.xlabel('Age')\n",
        "plt.ylabel('Frequency')\n",
        "plt.legend()\n",
        "\n",
        "plt.subplot(1, 2, 2)\n",
        "plt.hist(synthetic_independent[synthetic_independent['income'] == '<=50K']['age'], label='<=50K')\n",
        "plt.hist(synthetic_independent[synthetic_independent['income'] == '>50K']['age'], label='>50K')\n",
        "plt.title('Synthetic Independent Attribute Mode Data')\n",
        "plt.xlabel('Age')\n",
        "plt.ylabel('Frequency')\n",
        "plt.legend()\n",
        "\n",
        "plt.tight_layout()"
      ],
      "execution_count": 42,
      "outputs": [
        {
          "output_type": "display_data",
          "data": {
            "text/plain": [
              "<Figure size 1000x500 with 2 Axes>"
            ],
            "image/png": "[encoded data removed]"
          },
          "metadata": {}
        }
      ]
    },
    {
      "cell_type": "markdown",
      "metadata": {
        "id": "gdWHMTALp7Om"
      },
      "source": [
        "## **TODO 7:** How similar does our synthetic data look when compared to the real data? What does this reveal about the shortcomings of the independent random model? Most importantly, what sort of information should our model start taking into account to make our synthetic data's plot look more similar to the real data's plot?"
      ]
    },
    {
      "cell_type": "markdown",
      "source": [
        "**Answer:**\n",
        "\n",
        "Both the age distribution and the relationship distribution are similar in real data and in synthetic data. However, the distributions of age by income group differ. In the real data, it is a straight decline for the lower income group but synthetic data has a slgihtly skewed normal distribution. For the higher income group, the real data is a normal distribution whereas the synthetic data is somewhat a skewed normal distribution or somewhat a uniform distribution."
      ],
      "metadata": {
        "id": "F1dRRG5BvrMB"
      }
    },
    {
      "cell_type": "markdown",
      "metadata": {
        "id": "m-lvgns6UoCr"
      },
      "source": [
        "# Correlated attribute mode\n",
        "\n",
        "We're going to tackle this innaccuracy we just found in the independent attributed mode by generating data in an even more refined way: we're going to learn conditional probabilities.\n",
        "This is called the **Correlated Attribute Mode**.\n",
        "Unfortunately, this comes with some downsides:\n",
        "- It involves writing more code\n",
        "- Since it learns more fine-grained information about our data, we have to add more noise to our synthetic data to maintain differential privacy. We have to make sure that generating data with these correlations does not reveal information about any individual in the training data.\n",
        "- It's got a higher computational runtime.\n",
        "\n",
        "For people familiar with machine learning lingo, we train a _Bayesian network_ on our real data, and generate a bunch of synthetic people by sampling from this Bayesian net."
      ]
    },
    {
      "cell_type": "code",
      "metadata": {
        "colab": {
          "base_uri": "https://localhost:8080/"
        },
        "id": "MrnhKaCPUoCr",
        "outputId": "ba9b3241-43be-49be-bc24-26d18ccbbfc9"
      },
      "source": [
        "# This trains a model to learn the correlations in the data\n",
        "# We can already feel the slower runtime on our relatively small dataset\n",
        "# For those who know Bayesian nets, k is the max number of parents any node in the Bayesian net can have\n",
        "\n",
        "describer.describe_dataset_in_correlated_attribute_mode(sensitive_data_file,\n",
        "                                                        epsilon=0.1,\n",
        "                                                        k=2,\n",
        "                                                        seed=0)\n",
        "\n",
        "# Write this model/description to a file\n",
        "describer.save_dataset_description_to_file(description_files['correlated attribute mode'])"
      ],
      "execution_count": 43,
      "outputs": [
        {
          "output_type": "stream",
          "name": "stdout",
          "text": [
            "================ Constructing Bayesian Network (BN) ================\n",
            "Adding ROOT relationship\n",
            "Adding attribute marital-status\n",
            "Adding attribute sex\n",
            "Adding attribute education\n",
            "Adding attribute income\n",
            "Adding attribute age\n",
            "========================== BN constructed ==========================\n"
          ]
        }
      ]
    },
    {
      "cell_type": "markdown",
      "source": [
        "The model has now learned some correlations.\n",
        "In the code below, we can view the line\n",
        "> `sex has parents ['marital-status', 'relationship'].`\n",
        "\n",
        "as meaning that, in order to generate someone's `sex`, we will use their `marital-status` and their `relationship`.\n",
        "These are the correlations that the model has learned:"
      ],
      "metadata": {
        "id": "KxhFIyKrWK77"
      }
    },
    {
      "cell_type": "code",
      "metadata": {
        "colab": {
          "base_uri": "https://localhost:8080/"
        },
        "id": "d2Af3b2cUoCr",
        "outputId": "0cd549f2-a01f-4b43-ae1c-c68d022b07b5"
      },
      "source": [
        "# Display the correlations that our moded decided to learn\n",
        "display_bayesian_network(describer.bayesian_network)"
      ],
      "execution_count": 44,
      "outputs": [
        {
          "output_type": "stream",
          "name": "stdout",
          "text": [
            "Constructed Bayesian network:\n",
            "    marital-status has parents ['relationship'].\n",
            "    sex            has parents ['marital-status', 'relationship'].\n",
            "    education      has parents ['sex', 'marital-status'].\n",
            "    income         has parents ['marital-status', 'relationship'].\n",
            "    age            has parents ['income', 'relationship'].\n"
          ]
        }
      ]
    },
    {
      "cell_type": "code",
      "source": [
        "# @markdown We wrote (and hid) a bunch of code here that displays all the conditional probabilities we will use to generate someone's `education`. We can really see how many distinct numbers have to be learned to generate this synthetic dataset.\n",
        "\n",
        "def get_domain_values(attribute_meta: dict):\n",
        "    if attribute_meta['is_categorical']:\n",
        "        return attribute_meta['distribution_bins']\n",
        "    else:\n",
        "        lefts = attribute_meta['distribution_bins']\n",
        "        rights = attribute_meta['distribution_bins'][1:] + [attribute_meta['max']]\n",
        "        lefts = [round(x, ndigits=3) for x in lefts]\n",
        "        rights = [round(x, ndigits=3) for x in rights]\n",
        "        return list(zip(lefts, rights))\n",
        "\n",
        "def get_domain_entry(encoded_entry, attribute_meta):\n",
        "    if attribute_meta['is_categorical']:\n",
        "        return f\"{attribute_meta['name']}={attribute_meta['distribution_bins'][encoded_entry]}\"\n",
        "    else:\n",
        "        bins = attribute_meta['distribution_bins'] + [attribute_meta['max']]\n",
        "        left_val = round(attribute_meta['distribution_bins'][encoded_entry], ndigits=3)\n",
        "        right_val = round(attribute_meta['distribution_bins'][encoded_entry + 1], ndigits=3)\n",
        "        return f\"{attribute_meta['name']}=({left_val}, {right_val})\"\n",
        "\n",
        "def get_cpt(attribute: str, describer: DataDescriber):\n",
        "    meta_of_all_attributes = describer.data_description['attribute_description']\n",
        "    all_cpts = describer.data_description['conditional_probabilities']\n",
        "    bn = dict(describer.data_description['bayesian_network'])\n",
        "\n",
        "    attribute_meta = meta_of_all_attributes[attribute]\n",
        "    cpt = pd.DataFrame(all_cpts[attribute]).transpose()\n",
        "    cpt.columns = get_domain_values(attribute_meta)\n",
        "\n",
        "    if attribute in bn:\n",
        "        indices = []\n",
        "        for idx_val in cpt.index:\n",
        "            idx_val = eval(idx_val)\n",
        "            if len(idx_val) == 1:\n",
        "                conditions = get_domain_entry(idx_val[0], meta_of_all_attributes[bn[attribute][0]])\n",
        "                indices.append(f'Pr({attribute} | {conditions})')\n",
        "            else:\n",
        "                entries = [get_domain_entry(val, meta_of_all_attributes[att]) for att, val in zip(bn[attribute], idx_val)]\n",
        "                indices.append(f\"Pr({attribute} | {', '.join(entries)})\")\n",
        "\n",
        "        cpt.index = indices\n",
        "        return cpt\n",
        "    else:\n",
        "        cpt.index = [f'Pr({attribute})']\n",
        "        return cpt\n",
        "\n",
        "get_cpt('education', describer)"
      ],
      "metadata": {
        "id": "BWwZcdjmgAvd",
        "colab": {
          "base_uri": "https://localhost:8080/",
          "height": 1000
        },
        "outputId": "af27d298-8809-4b55-9a6a-3332c8aab9e4",
        "cellView": "form"
      },
      "execution_count": 45,
      "outputs": [
        {
          "output_type": "execute_result",
          "data": {
            "text/plain": [
              "                                                        10th      11th  \\\n",
              "Pr(education | sex=Female, marital-status=Divor...  0.076726  0.014741   \n",
              "Pr(education | sex=Female, marital-status=Marri...  0.016731  0.020599   \n",
              "Pr(education | sex=Female, marital-status=Marri...  0.019100  0.132031   \n",
              "Pr(education | sex=Female, marital-status=Marri...  0.027480  0.027288   \n",
              "Pr(education | sex=Female, marital-status=Never...  0.027949  0.025569   \n",
              "Pr(education | sex=Female, marital-status=Separ...  0.000000  0.034452   \n",
              "Pr(education | sex=Female, marital-status=Widowed)  0.052918  0.043568   \n",
              "Pr(education | sex=Male, marital-status=Divorced)   0.041922  0.012893   \n",
              "Pr(education | sex=Male, marital-status=Married...  0.000000  0.020032   \n",
              "Pr(education | sex=Male, marital-status=Married...  0.006186  0.019608   \n",
              "Pr(education | sex=Male, marital-status=Married...  0.006344  0.000000   \n",
              "Pr(education | sex=Male, marital-status=Never-m...  0.043465  0.042240   \n",
              "Pr(education | sex=Male, marital-status=Separated)  0.154189  0.056263   \n",
              "Pr(education | sex=Male, marital-status=Widowed)    0.120299  0.251303   \n",
              "\n",
              "                                                        12th   1st-4th  \\\n",
              "Pr(education | sex=Female, marital-status=Divor...  0.017034  0.000000   \n",
              "Pr(education | sex=Female, marital-status=Marri...  0.015803  0.000000   \n",
              "Pr(education | sex=Female, marital-status=Marri...  0.027128  0.000000   \n",
              "Pr(education | sex=Female, marital-status=Marri...  0.000000  0.097768   \n",
              "Pr(education | sex=Female, marital-status=Never...  0.033619  0.016557   \n",
              "Pr(education | sex=Female, marital-status=Separ...  0.000000  0.000000   \n",
              "Pr(education | sex=Female, marital-status=Widowed)  0.024341  0.068503   \n",
              "Pr(education | sex=Male, marital-status=Divorced)   0.000000  0.000000   \n",
              "Pr(education | sex=Male, marital-status=Married...  0.111830  0.030751   \n",
              "Pr(education | sex=Male, marital-status=Married...  0.007645  0.004086   \n",
              "Pr(education | sex=Male, marital-status=Married...  0.182175  0.072695   \n",
              "Pr(education | sex=Male, marital-status=Never-m...  0.023596  0.000000   \n",
              "Pr(education | sex=Male, marital-status=Separated)  0.000000  0.000000   \n",
              "Pr(education | sex=Male, marital-status=Widowed)    0.219906  0.144848   \n",
              "\n",
              "                                                     5th-6th   7th-8th  \\\n",
              "Pr(education | sex=Female, marital-status=Divor...  0.019000  0.000000   \n",
              "Pr(education | sex=Female, marital-status=Marri...  0.238863  0.000000   \n",
              "Pr(education | sex=Female, marital-status=Marri...  0.021359  0.000000   \n",
              "Pr(education | sex=Female, marital-status=Marri...  0.000000  0.000000   \n",
              "Pr(education | sex=Female, marital-status=Never...  0.007670  0.003296   \n",
              "Pr(education | sex=Female, marital-status=Separ...  0.000000  0.091855   \n",
              "Pr(education | sex=Female, marital-status=Widowed)  0.000000  0.034919   \n",
              "Pr(education | sex=Male, marital-status=Divorced)   0.000000  0.034094   \n",
              "Pr(education | sex=Male, marital-status=Married...  0.140965  0.000000   \n",
              "Pr(education | sex=Male, marital-status=Married...  0.011668  0.022786   \n",
              "Pr(education | sex=Male, marital-status=Married...  0.073232  0.146188   \n",
              "Pr(education | sex=Male, marital-status=Never-m...  0.008339  0.047296   \n",
              "Pr(education | sex=Male, marital-status=Separated)  0.000000  0.372993   \n",
              "Pr(education | sex=Male, marital-status=Widowed)    0.070778  0.000000   \n",
              "\n",
              "                                                         9th  Assoc-acdm  \\\n",
              "Pr(education | sex=Female, marital-status=Divor...  0.000000    0.051908   \n",
              "Pr(education | sex=Female, marital-status=Marri...  0.119507    0.054077   \n",
              "Pr(education | sex=Female, marital-status=Marri...  0.000000    0.062048   \n",
              "Pr(education | sex=Female, marital-status=Marri...  0.095118    0.063508   \n",
              "Pr(education | sex=Female, marital-status=Never...  0.000000    0.037730   \n",
              "Pr(education | sex=Female, marital-status=Separ...  0.000000    0.000000   \n",
              "Pr(education | sex=Female, marital-status=Widowed)  0.000000    0.000000   \n",
              "Pr(education | sex=Male, marital-status=Divorced)   0.009579    0.032978   \n",
              "Pr(education | sex=Male, marital-status=Married...  0.093440    0.000000   \n",
              "Pr(education | sex=Male, marital-status=Married...  0.017606    0.038412   \n",
              "Pr(education | sex=Male, marital-status=Married...  0.000000    0.013407   \n",
              "Pr(education | sex=Male, marital-status=Never-m...  0.031361    0.020926   \n",
              "Pr(education | sex=Male, marital-status=Separated)  0.016892    0.018409   \n",
              "Pr(education | sex=Male, marital-status=Widowed)    0.000000    0.000000   \n",
              "\n",
              "                                                    Assoc-voc  Bachelors  \\\n",
              "Pr(education | sex=Female, marital-status=Divor...   0.000000   0.130735   \n",
              "Pr(education | sex=Female, marital-status=Marri...   0.000000   0.102544   \n",
              "Pr(education | sex=Female, marital-status=Marri...   0.028434   0.191237   \n",
              "Pr(education | sex=Female, marital-status=Marri...   0.037815   0.000000   \n",
              "Pr(education | sex=Female, marital-status=Never...   0.031919   0.171784   \n",
              "Pr(education | sex=Female, marital-status=Separ...   0.201773   0.096491   \n",
              "Pr(education | sex=Female, marital-status=Widowed)   0.228598   0.123711   \n",
              "Pr(education | sex=Male, marital-status=Divorced)    0.093475   0.255747   \n",
              "Pr(education | sex=Male, marital-status=Married...   0.244535   0.051016   \n",
              "Pr(education | sex=Male, marital-status=Married...   0.037868   0.193990   \n",
              "Pr(education | sex=Male, marital-status=Married...   0.020712   0.253110   \n",
              "Pr(education | sex=Male, marital-status=Never-m...   0.056289   0.125006   \n",
              "Pr(education | sex=Male, marital-status=Separated)   0.053083   0.029284   \n",
              "Pr(education | sex=Male, marital-status=Widowed)     0.000000   0.000000   \n",
              "\n",
              "                                                    Doctorate   HS-grad  \\\n",
              "Pr(education | sex=Female, marital-status=Divor...   0.000000  0.333752   \n",
              "Pr(education | sex=Female, marital-status=Marri...   0.000000  0.155556   \n",
              "Pr(education | sex=Female, marital-status=Marri...   0.004431  0.246443   \n",
              "Pr(education | sex=Female, marital-status=Marri...   0.112961  0.081644   \n",
              "Pr(education | sex=Female, marital-status=Never...   0.026363  0.276877   \n",
              "Pr(education | sex=Female, marital-status=Separ...   0.000000  0.198521   \n",
              "Pr(education | sex=Female, marital-status=Widowed)   0.002618  0.299197   \n",
              "Pr(education | sex=Male, marital-status=Divorced)    0.000000  0.319314   \n",
              "Pr(education | sex=Male, marital-status=Married...   0.000000  0.238485   \n",
              "Pr(education | sex=Male, marital-status=Married...   0.012578  0.343646   \n",
              "Pr(education | sex=Male, marital-status=Married...   0.000000  0.000000   \n",
              "Pr(education | sex=Male, marital-status=Never-m...   0.031976  0.292895   \n",
              "Pr(education | sex=Male, marital-status=Separated)   0.000000  0.296404   \n",
              "Pr(education | sex=Male, marital-status=Widowed)     0.000000  0.125511   \n",
              "\n",
              "                                                     Masters  Preschool  \\\n",
              "Pr(education | sex=Female, marital-status=Divor...  0.035604   0.017457   \n",
              "Pr(education | sex=Female, marital-status=Marri...  0.017961   0.145971   \n",
              "Pr(education | sex=Female, marital-status=Marri...  0.041219   0.008660   \n",
              "Pr(education | sex=Female, marital-status=Marri...  0.374878   0.000000   \n",
              "Pr(education | sex=Female, marital-status=Never...  0.059165   0.000000   \n",
              "Pr(education | sex=Female, marital-status=Separ...  0.039743   0.015804   \n",
              "Pr(education | sex=Female, marital-status=Widowed)  0.000000   0.000000   \n",
              "Pr(education | sex=Male, marital-status=Divorced)   0.012952   0.000000   \n",
              "Pr(education | sex=Male, marital-status=Married...  0.063837   0.000000   \n",
              "Pr(education | sex=Male, marital-status=Married...  0.068718   0.002225   \n",
              "Pr(education | sex=Male, marital-status=Married...  0.000000   0.000000   \n",
              "Pr(education | sex=Male, marital-status=Never-m...  0.037740   0.005233   \n",
              "Pr(education | sex=Male, marital-status=Separated)  0.000000   0.002483   \n",
              "Pr(education | sex=Male, marital-status=Widowed)    0.000000   0.067355   \n",
              "\n",
              "                                                    Prof-school  Some-college  \n",
              "Pr(education | sex=Female, marital-status=Divor...     0.078124      0.224919  \n",
              "Pr(education | sex=Female, marital-status=Marri...     0.049232      0.063156  \n",
              "Pr(education | sex=Female, marital-status=Marri...     0.024755      0.193156  \n",
              "Pr(education | sex=Female, marital-status=Marri...     0.081541      0.000000  \n",
              "Pr(education | sex=Female, marital-status=Never...     0.002009      0.279493  \n",
              "Pr(education | sex=Female, marital-status=Separ...     0.000000      0.321362  \n",
              "Pr(education | sex=Female, marital-status=Widowed)     0.000000      0.121627  \n",
              "Pr(education | sex=Male, marital-status=Divorced)      0.041598      0.145447  \n",
              "Pr(education | sex=Male, marital-status=Married...     0.000000      0.005110  \n",
              "Pr(education | sex=Male, marital-status=Married...     0.024031      0.188947  \n",
              "Pr(education | sex=Male, marital-status=Married...     0.166022      0.066116  \n",
              "Pr(education | sex=Male, marital-status=Never-m...     0.024069      0.209569  \n",
              "Pr(education | sex=Male, marital-status=Separated)     0.000000      0.000000  \n",
              "Pr(education | sex=Male, marital-status=Widowed)       0.000000      0.000000  "
            ],
            "text/html": [
              "\n",
              "  <div id=\"df-5201684a-7d3e-4825-a89f-ca061748338d\" class=\"colab-df-container\">\n",
              "    <div>\n",
              "<style scoped>\n",
              "    .dataframe tbody tr th:only-of-type {\n",
              "        vertical-align: middle;\n",
              "    }\n",
              "\n",
              "    .dataframe tbody tr th {\n",
              "        vertical-align: top;\n",
              "    }\n",
              "\n",
              "    .dataframe thead th {\n",
              "        text-align: right;\n",
              "    }\n",
              "</style>\n",
              "<table border=\"1\" class=\"dataframe\">\n",
              "  <thead>\n",
              "    <tr style=\"text-align: right;\">\n",
              "      <th></th>\n",
              "      <th>10th</th>\n",
              "      <th>11th</th>\n",
              "      <th>12th</th>\n",
              "      <th>1st-4th</th>\n",
              "      <th>5th-6th</th>\n",
              "      <th>7th-8th</th>\n",
              "      <th>9th</th>\n",
              "      <th>Assoc-acdm</th>\n",
              "      <th>Assoc-voc</th>\n",
              "      <th>Bachelors</th>\n",
              "      <th>Doctorate</th>\n",
              "      <th>HS-grad</th>\n",
              "      <th>Masters</th>\n",
              "      <th>Preschool</th>\n",
              "      <th>Prof-school</th>\n",
              "      <th>Some-college</th>\n",
              "    </tr>\n",
              "  </thead>\n",
              "  <tbody>\n",
              "    <tr>\n",
              "      <th>Pr(education | sex=Female, marital-status=Divorced)</th>\n",
              "      <td>0.076726</td>\n",
              "      <td>0.014741</td>\n",
              "      <td>0.017034</td>\n",
              "      <td>0.000000</td>\n",
              "      <td>0.019000</td>\n",
              "      <td>0.000000</td>\n",
              "      <td>0.000000</td>\n",
              "      <td>0.051908</td>\n",
              "      <td>0.000000</td>\n",
              "      <td>0.130735</td>\n",
              "      <td>0.000000</td>\n",
              "      <td>0.333752</td>\n",
              "      <td>0.035604</td>\n",
              "      <td>0.017457</td>\n",
              "      <td>0.078124</td>\n",
              "      <td>0.224919</td>\n",
              "    </tr>\n",
              "    <tr>\n",
              "      <th>Pr(education | sex=Female, marital-status=Married-AF-spouse)</th>\n",
              "      <td>0.016731</td>\n",
              "      <td>0.020599</td>\n",
              "      <td>0.015803</td>\n",
              "      <td>0.000000</td>\n",
              "      <td>0.238863</td>\n",
              "      <td>0.000000</td>\n",
              "      <td>0.119507</td>\n",
              "      <td>0.054077</td>\n",
              "      <td>0.000000</td>\n",
              "      <td>0.102544</td>\n",
              "      <td>0.000000</td>\n",
              "      <td>0.155556</td>\n",
              "      <td>0.017961</td>\n",
              "      <td>0.145971</td>\n",
              "      <td>0.049232</td>\n",
              "      <td>0.063156</td>\n",
              "    </tr>\n",
              "    <tr>\n",
              "      <th>Pr(education | sex=Female, marital-status=Married-civ-spouse)</th>\n",
              "      <td>0.019100</td>\n",
              "      <td>0.132031</td>\n",
              "      <td>0.027128</td>\n",
              "      <td>0.000000</td>\n",
              "      <td>0.021359</td>\n",
              "      <td>0.000000</td>\n",
              "      <td>0.000000</td>\n",
              "      <td>0.062048</td>\n",
              "      <td>0.028434</td>\n",
              "      <td>0.191237</td>\n",
              "      <td>0.004431</td>\n",
              "      <td>0.246443</td>\n",
              "      <td>0.041219</td>\n",
              "      <td>0.008660</td>\n",
              "      <td>0.024755</td>\n",
              "      <td>0.193156</td>\n",
              "    </tr>\n",
              "    <tr>\n",
              "      <th>Pr(education | sex=Female, marital-status=Married-spouse-absent)</th>\n",
              "      <td>0.027480</td>\n",
              "      <td>0.027288</td>\n",
              "      <td>0.000000</td>\n",
              "      <td>0.097768</td>\n",
              "      <td>0.000000</td>\n",
              "      <td>0.000000</td>\n",
              "      <td>0.095118</td>\n",
              "      <td>0.063508</td>\n",
              "      <td>0.037815</td>\n",
              "      <td>0.000000</td>\n",
              "      <td>0.112961</td>\n",
              "      <td>0.081644</td>\n",
              "      <td>0.374878</td>\n",
              "      <td>0.000000</td>\n",
              "      <td>0.081541</td>\n",
              "      <td>0.000000</td>\n",
              "    </tr>\n",
              "    <tr>\n",
              "      <th>Pr(education | sex=Female, marital-status=Never-married)</th>\n",
              "      <td>0.027949</td>\n",
              "      <td>0.025569</td>\n",
              "      <td>0.033619</td>\n",
              "      <td>0.016557</td>\n",
              "      <td>0.007670</td>\n",
              "      <td>0.003296</td>\n",
              "      <td>0.000000</td>\n",
              "      <td>0.037730</td>\n",
              "      <td>0.031919</td>\n",
              "      <td>0.171784</td>\n",
              "      <td>0.026363</td>\n",
              "      <td>0.276877</td>\n",
              "      <td>0.059165</td>\n",
              "      <td>0.000000</td>\n",
              "      <td>0.002009</td>\n",
              "      <td>0.279493</td>\n",
              "    </tr>\n",
              "    <tr>\n",
              "      <th>Pr(education | sex=Female, marital-status=Separated)</th>\n",
              "      <td>0.000000</td>\n",
              "      <td>0.034452</td>\n",
              "      <td>0.000000</td>\n",
              "      <td>0.000000</td>\n",
              "      <td>0.000000</td>\n",
              "      <td>0.091855</td>\n",
              "      <td>0.000000</td>\n",
              "      <td>0.000000</td>\n",
              "      <td>0.201773</td>\n",
              "      <td>0.096491</td>\n",
              "      <td>0.000000</td>\n",
              "      <td>0.198521</td>\n",
              "      <td>0.039743</td>\n",
              "      <td>0.015804</td>\n",
              "      <td>0.000000</td>\n",
              "      <td>0.321362</td>\n",
              "    </tr>\n",
              "    <tr>\n",
              "      <th>Pr(education | sex=Female, marital-status=Widowed)</th>\n",
              "      <td>0.052918</td>\n",
              "      <td>0.043568</td>\n",
              "      <td>0.024341</td>\n",
              "      <td>0.068503</td>\n",
              "      <td>0.000000</td>\n",
              "      <td>0.034919</td>\n",
              "      <td>0.000000</td>\n",
              "      <td>0.000000</td>\n",
              "      <td>0.228598</td>\n",
              "      <td>0.123711</td>\n",
              "      <td>0.002618</td>\n",
              "      <td>0.299197</td>\n",
              "      <td>0.000000</td>\n",
              "      <td>0.000000</td>\n",
              "      <td>0.000000</td>\n",
              "      <td>0.121627</td>\n",
              "    </tr>\n",
              "    <tr>\n",
              "      <th>Pr(education | sex=Male, marital-status=Divorced)</th>\n",
              "      <td>0.041922</td>\n",
              "      <td>0.012893</td>\n",
              "      <td>0.000000</td>\n",
              "      <td>0.000000</td>\n",
              "      <td>0.000000</td>\n",
              "      <td>0.034094</td>\n",
              "      <td>0.009579</td>\n",
              "      <td>0.032978</td>\n",
              "      <td>0.093475</td>\n",
              "      <td>0.255747</td>\n",
              "      <td>0.000000</td>\n",
              "      <td>0.319314</td>\n",
              "      <td>0.012952</td>\n",
              "      <td>0.000000</td>\n",
              "      <td>0.041598</td>\n",
              "      <td>0.145447</td>\n",
              "    </tr>\n",
              "    <tr>\n",
              "      <th>Pr(education | sex=Male, marital-status=Married-AF-spouse)</th>\n",
              "      <td>0.000000</td>\n",
              "      <td>0.020032</td>\n",
              "      <td>0.111830</td>\n",
              "      <td>0.030751</td>\n",
              "      <td>0.140965</td>\n",
              "      <td>0.000000</td>\n",
              "      <td>0.093440</td>\n",
              "      <td>0.000000</td>\n",
              "      <td>0.244535</td>\n",
              "      <td>0.051016</td>\n",
              "      <td>0.000000</td>\n",
              "      <td>0.238485</td>\n",
              "      <td>0.063837</td>\n",
              "      <td>0.000000</td>\n",
              "      <td>0.000000</td>\n",
              "      <td>0.005110</td>\n",
              "    </tr>\n",
              "    <tr>\n",
              "      <th>Pr(education | sex=Male, marital-status=Married-civ-spouse)</th>\n",
              "      <td>0.006186</td>\n",
              "      <td>0.019608</td>\n",
              "      <td>0.007645</td>\n",
              "      <td>0.004086</td>\n",
              "      <td>0.011668</td>\n",
              "      <td>0.022786</td>\n",
              "      <td>0.017606</td>\n",
              "      <td>0.038412</td>\n",
              "      <td>0.037868</td>\n",
              "      <td>0.193990</td>\n",
              "      <td>0.012578</td>\n",
              "      <td>0.343646</td>\n",
              "      <td>0.068718</td>\n",
              "      <td>0.002225</td>\n",
              "      <td>0.024031</td>\n",
              "      <td>0.188947</td>\n",
              "    </tr>\n",
              "    <tr>\n",
              "      <th>Pr(education | sex=Male, marital-status=Married-spouse-absent)</th>\n",
              "      <td>0.006344</td>\n",
              "      <td>0.000000</td>\n",
              "      <td>0.182175</td>\n",
              "      <td>0.072695</td>\n",
              "      <td>0.073232</td>\n",
              "      <td>0.146188</td>\n",
              "      <td>0.000000</td>\n",
              "      <td>0.013407</td>\n",
              "      <td>0.020712</td>\n",
              "      <td>0.253110</td>\n",
              "      <td>0.000000</td>\n",
              "      <td>0.000000</td>\n",
              "      <td>0.000000</td>\n",
              "      <td>0.000000</td>\n",
              "      <td>0.166022</td>\n",
              "      <td>0.066116</td>\n",
              "    </tr>\n",
              "    <tr>\n",
              "      <th>Pr(education | sex=Male, marital-status=Never-married)</th>\n",
              "      <td>0.043465</td>\n",
              "      <td>0.042240</td>\n",
              "      <td>0.023596</td>\n",
              "      <td>0.000000</td>\n",
              "      <td>0.008339</td>\n",
              "      <td>0.047296</td>\n",
              "      <td>0.031361</td>\n",
              "      <td>0.020926</td>\n",
              "      <td>0.056289</td>\n",
              "      <td>0.125006</td>\n",
              "      <td>0.031976</td>\n",
              "      <td>0.292895</td>\n",
              "      <td>0.037740</td>\n",
              "      <td>0.005233</td>\n",
              "      <td>0.024069</td>\n",
              "      <td>0.209569</td>\n",
              "    </tr>\n",
              "    <tr>\n",
              "      <th>Pr(education | sex=Male, marital-status=Separated)</th>\n",
              "      <td>0.154189</td>\n",
              "      <td>0.056263</td>\n",
              "      <td>0.000000</td>\n",
              "      <td>0.000000</td>\n",
              "      <td>0.000000</td>\n",
              "      <td>0.372993</td>\n",
              "      <td>0.016892</td>\n",
              "      <td>0.018409</td>\n",
              "      <td>0.053083</td>\n",
              "      <td>0.029284</td>\n",
              "      <td>0.000000</td>\n",
              "      <td>0.296404</td>\n",
              "      <td>0.000000</td>\n",
              "      <td>0.002483</td>\n",
              "      <td>0.000000</td>\n",
              "      <td>0.000000</td>\n",
              "    </tr>\n",
              "    <tr>\n",
              "      <th>Pr(education | sex=Male, marital-status=Widowed)</th>\n",
              "      <td>0.120299</td>\n",
              "      <td>0.251303</td>\n",
              "      <td>0.219906</td>\n",
              "      <td>0.144848</td>\n",
              "      <td>0.070778</td>\n",
              "      <td>0.000000</td>\n",
              "      <td>0.000000</td>\n",
              "      <td>0.000000</td>\n",
              "      <td>0.000000</td>\n",
              "      <td>0.000000</td>\n",
              "      <td>0.000000</td>\n",
              "      <td>0.125511</td>\n",
              "      <td>0.000000</td>\n",
              "      <td>0.067355</td>\n",
              "      <td>0.000000</td>\n",
              "      <td>0.000000</td>\n",
              "    </tr>\n",
              "  </tbody>\n",
              "</table>\n",
              "</div>\n",
              "    <div class=\"colab-df-buttons\">\n",
              "\n",
              "  <div class=\"colab-df-container\">\n",
              "    <button class=\"colab-df-convert\" onclick=\"convertToInteractive('df-5201684a-7d3e-4825-a89f-ca061748338d')\"\n",
              "            title=\"Convert this dataframe to an interactive table.\"\n",
              "            style=\"display:none;\">\n",
              "\n",
              "  <svg xmlns=\"http://www.w3.org/2000/svg\" height=\"24px\" viewBox=\"0 -960 960 960\">\n",
              "    <path d=\"M120-120v-720h720v720H120Zm60-500h600v-160H180v160Zm220 220h160v-160H400v160Zm0 220h160v-160H400v160ZM180-400h160v-160H180v160Zm440 0h160v-160H620v160ZM180-180h160v-160H180v160Zm440 0h160v-160H620v160Z\"/>\n",
              "  </svg>\n",
              "    </button>\n",
              "\n",
              "  <style>\n",
              "    .colab-df-container {\n",
              "      display:flex;\n",
              "      gap: 12px;\n",
              "    }\n",
              "\n",
              "    .colab-df-convert {\n",
              "      background-color: #E8F0FE;\n",
              "      border: none;\n",
              "      border-radius: 50%;\n",
              "      cursor: pointer;\n",
              "      display: none;\n",
              "      fill: #1967D2;\n",
              "      height: 32px;\n",
              "      padding: 0 0 0 0;\n",
              "      width: 32px;\n",
              "    }\n",
              "\n",
              "    .colab-df-convert:hover {\n",
              "      background-color: #E2EBFA;\n",
              "      box-shadow: 0px 1px 2px rgba(60, 64, 67, 0.3), 0px 1px 3px 1px rgba(60, 64, 67, 0.15);\n",
              "      fill: #174EA6;\n",
              "    }\n",
              "\n",
              "    .colab-df-buttons div {\n",
              "      margin-bottom: 4px;\n",
              "    }\n",
              "\n",
              "    [theme=dark] .colab-df-convert {\n",
              "      background-color: #3B4455;\n",
              "      fill: #D2E3FC;\n",
              "    }\n",
              "\n",
              "    [theme=dark] .colab-df-convert:hover {\n",
              "      background-color: #434B5C;\n",
              "      box-shadow: 0px 1px 3px 1px rgba(0, 0, 0, 0.15);\n",
              "      filter: drop-shadow(0px 1px 2px rgba(0, 0, 0, 0.3));\n",
              "      fill: #FFFFFF;\n",
              "    }\n",
              "  </style>\n",
              "\n",
              "    <script>\n",
              "      const buttonEl =\n",
              "        document.querySelector('#df-5201684a-7d3e-4825-a89f-ca061748338d button.colab-df-convert');\n",
              "      buttonEl.style.display =\n",
              "        google.colab.kernel.accessAllowed ? 'block' : 'none';\n",
              "\n",
              "      async function convertToInteractive(key) {\n",
              "        const element = document.querySelector('#df-5201684a-7d3e-4825-a89f-ca061748338d');\n",
              "        const dataTable =\n",
              "          await google.colab.kernel.invokeFunction('convertToInteractive',\n",
              "                                                    [key], {});\n",
              "        if (!dataTable) return;\n",
              "\n",
              "        const docLinkHtml = 'Like what you see? Visit the ' +\n",
              "          '<a target=\"_blank\" href=https://colab.research.google.com/notebooks/data_table.ipynb>data table notebook</a>'\n",
              "          + ' to learn more about interactive tables.';\n",
              "        element.innerHTML = '';\n",
              "        dataTable['output_type'] = 'display_data';\n",
              "        await google.colab.output.renderOutput(dataTable, element);\n",
              "        const docLink = document.createElement('div');\n",
              "        docLink.innerHTML = docLinkHtml;\n",
              "        element.appendChild(docLink);\n",
              "      }\n",
              "    </script>\n",
              "  </div>\n",
              "\n",
              "\n",
              "<div id=\"df-455c06ee-43ca-4d7b-996b-e9ec554201f4\">\n",
              "  <button class=\"colab-df-quickchart\" onclick=\"quickchart('df-455c06ee-43ca-4d7b-996b-e9ec554201f4')\"\n",
              "            title=\"Suggest charts\"\n",
              "            style=\"display:none;\">\n",
              "\n",
              "<svg xmlns=\"http://www.w3.org/2000/svg\" height=\"24px\"viewBox=\"0 0 24 24\"\n",
              "     width=\"24px\">\n",
              "    <g>\n",
              "        <path d=\"M19 3H5c-1.1 0-2 .9-2 2v14c0 1.1.9 2 2 2h14c1.1 0 2-.9 2-2V5c0-1.1-.9-2-2-2zM9 17H7v-7h2v7zm4 0h-2V7h2v10zm4 0h-2v-4h2v4z\"/>\n",
              "    </g>\n",
              "</svg>\n",
              "  </button>\n",
              "\n",
              "<style>\n",
              "  .colab-df-quickchart {\n",
              "      --bg-color: #E8F0FE;\n",
              "      --fill-color: #1967D2;\n",
              "      --hover-bg-color: #E2EBFA;\n",
              "      --hover-fill-color: #174EA6;\n",
              "      --disabled-fill-color: #AAA;\n",
              "      --disabled-bg-color: #DDD;\n",
              "  }\n",
              "\n",
              "  [theme=dark] .colab-df-quickchart {\n",
              "      --bg-color: #3B4455;\n",
              "      --fill-color: #D2E3FC;\n",
              "      --hover-bg-color: #434B5C;\n",
              "      --hover-fill-color: #FFFFFF;\n",
              "      --disabled-bg-color: #3B4455;\n",
              "      --disabled-fill-color: #666;\n",
              "  }\n",
              "\n",
              "  .colab-df-quickchart {\n",
              "    background-color: var(--bg-color);\n",
              "    border: none;\n",
              "    border-radius: 50%;\n",
              "    cursor: pointer;\n",
              "    display: none;\n",
              "    fill: var(--fill-color);\n",
              "    height: 32px;\n",
              "    padding: 0;\n",
              "    width: 32px;\n",
              "  }\n",
              "\n",
              "  .colab-df-quickchart:hover {\n",
              "    background-color: var(--hover-bg-color);\n",
              "    box-shadow: 0 1px 2px rgba(60, 64, 67, 0.3), 0 1px 3px 1px rgba(60, 64, 67, 0.15);\n",
              "    fill: var(--button-hover-fill-color);\n",
              "  }\n",
              "\n",
              "  .colab-df-quickchart-complete:disabled,\n",
              "  .colab-df-quickchart-complete:disabled:hover {\n",
              "    background-color: var(--disabled-bg-color);\n",
              "    fill: var(--disabled-fill-color);\n",
              "    box-shadow: none;\n",
              "  }\n",
              "\n",
              "  .colab-df-spinner {\n",
              "    border: 2px solid var(--fill-color);\n",
              "    border-color: transparent;\n",
              "    border-bottom-color: var(--fill-color);\n",
              "    animation:\n",
              "      spin 1s steps(1) infinite;\n",
              "  }\n",
              "\n",
              "  @keyframes spin {\n",
              "    0% {\n",
              "      border-color: transparent;\n",
              "      border-bottom-color: var(--fill-color);\n",
              "      border-left-color: var(--fill-color);\n",
              "    }\n",
              "    20% {\n",
              "      border-color: transparent;\n",
              "      border-left-color: var(--fill-color);\n",
              "      border-top-color: var(--fill-color);\n",
              "    }\n",
              "    30% {\n",
              "      border-color: transparent;\n",
              "      border-left-color: var(--fill-color);\n",
              "      border-top-color: var(--fill-color);\n",
              "      border-right-color: var(--fill-color);\n",
              "    }\n",
              "    40% {\n",
              "      border-color: transparent;\n",
              "      border-right-color: var(--fill-color);\n",
              "      border-top-color: var(--fill-color);\n",
              "    }\n",
              "    60% {\n",
              "      border-color: transparent;\n",
              "      border-right-color: var(--fill-color);\n",
              "    }\n",
              "    80% {\n",
              "      border-color: transparent;\n",
              "      border-right-color: var(--fill-color);\n",
              "      border-bottom-color: var(--fill-color);\n",
              "    }\n",
              "    90% {\n",
              "      border-color: transparent;\n",
              "      border-bottom-color: var(--fill-color);\n",
              "    }\n",
              "  }\n",
              "</style>\n",
              "\n",
              "  <script>\n",
              "    async function quickchart(key) {\n",
              "      const quickchartButtonEl =\n",
              "        document.querySelector('#' + key + ' button');\n",
              "      quickchartButtonEl.disabled = true;  // To prevent multiple clicks.\n",
              "      quickchartButtonEl.classList.add('colab-df-spinner');\n",
              "      try {\n",
              "        const charts = await google.colab.kernel.invokeFunction(\n",
              "            'suggestCharts', [key], {});\n",
              "      } catch (error) {\n",
              "        console.error('Error during call to suggestCharts:', error);\n",
              "      }\n",
              "      quickchartButtonEl.classList.remove('colab-df-spinner');\n",
              "      quickchartButtonEl.classList.add('colab-df-quickchart-complete');\n",
              "    }\n",
              "    (() => {\n",
              "      let quickchartButtonEl =\n",
              "        document.querySelector('#df-455c06ee-43ca-4d7b-996b-e9ec554201f4 button');\n",
              "      quickchartButtonEl.style.display =\n",
              "        google.colab.kernel.accessAllowed ? 'block' : 'none';\n",
              "    })();\n",
              "  </script>\n",
              "</div>\n",
              "    </div>\n",
              "  </div>\n"
            ],
            "application/vnd.google.colaboratory.intrinsic+json": {
              "type": "dataframe",
              "summary": "{\n  \"name\": \"get_cpt('education', describer)\",\n  \"rows\": 14,\n  \"fields\": [\n    {\n      \"column\": \"10th\",\n      \"properties\": {\n        \"dtype\": \"number\",\n        \"std\": 0.046156558332671294,\n        \"min\": 0.0,\n        \"max\": 0.15418897352624422,\n        \"num_unique_values\": 13,\n        \"samples\": [\n          0.15418897352624422,\n          0.006343548705148712,\n          0.07672601242580379\n        ],\n        \"semantic_type\": \"\",\n        \"description\": \"\"\n      }\n    },\n    {\n      \"column\": \"11th\",\n      \"properties\": {\n        \"dtype\": \"number\",\n        \"std\": 0.06595651458100994,\n        \"min\": 0.0,\n        \"max\": 0.2513027999141773,\n        \"num_unique_values\": 14,\n        \"samples\": [\n          0.0196077919835992,\n          0.04224020491894341,\n          0.014741225848610307\n        ],\n        \"semantic_type\": \"\",\n        \"description\": \"\"\n      }\n    },\n    {\n      \"column\": \"12th\",\n      \"properties\": {\n        \"dtype\": \"number\",\n        \"std\": 0.07139322339586068,\n        \"min\": 0.0,\n        \"max\": 0.21990559145681574,\n        \"num_unique_values\": 11,\n        \"samples\": [\n          0.024341071282011364,\n          0.017033658124083532,\n          0.023596466193458593\n        ],\n        \"semantic_type\": \"\",\n        \"description\": \"\"\n      }\n    },\n    {\n      \"column\": \"1st-4th\",\n      \"properties\": {\n        \"dtype\": \"number\",\n        \"std\": 0.04659502443342113,\n        \"min\": 0.0,\n        \"max\": 0.1448476899212882,\n        \"num_unique_values\": 8,\n        \"samples\": [\n          0.0977683589363091,\n          0.004085759766026425,\n          0.0\n        ],\n        \"semantic_type\": \"\",\n        \"description\": \"\"\n      }\n    },\n    {\n      \"column\": \"5th-6th\",\n      \"properties\": {\n        \"dtype\": \"number\",\n        \"std\": 0.06981211727380694,\n        \"min\": 0.0,\n        \"max\": 0.23886344615745975,\n        \"num_unique_values\": 10,\n        \"samples\": [\n          0.008338900924766373,\n          0.23886344615745975,\n          0.14096488452735595\n        ],\n        \"semantic_type\": \"\",\n        \"description\": \"\"\n      }\n    },\n    {\n      \"column\": \"7th-8th\",\n      \"properties\": {\n        \"dtype\": \"number\",\n        \"std\": 0.10135028421402768,\n        \"min\": 0.0,\n        \"max\": 0.37299338891938033,\n        \"num_unique_values\": 9,\n        \"samples\": [\n          0.04729600794401116,\n          0.0032955702028413907,\n          0.02278628023097168\n        ],\n        \"semantic_type\": \"\",\n        \"description\": \"\"\n      }\n    },\n    {\n      \"column\": \"9th\",\n      \"properties\": {\n        \"dtype\": \"number\",\n        \"std\": 0.042268092892648636,\n        \"min\": 0.0,\n        \"max\": 0.11950720311574475,\n        \"num_unique_values\": 8,\n        \"samples\": [\n          0.11950720311574475,\n          0.017606302722345285,\n          0.0\n        ],\n        \"semantic_type\": \"\",\n        \"description\": \"\"\n      }\n    },\n    {\n      \"column\": \"Assoc-acdm\",\n      \"properties\": {\n        \"dtype\": \"number\",\n        \"std\": 0.023843047581995572,\n        \"min\": 0.0,\n        \"max\": 0.06350754777719526,\n        \"num_unique_values\": 11,\n        \"samples\": [\n          0.0,\n          0.051908046322715326,\n          0.020926183990050026\n        ],\n        \"semantic_type\": \"\",\n        \"description\": \"\"\n      }\n    },\n    {\n      \"column\": \"Assoc-voc\",\n      \"properties\": {\n        \"dtype\": \"number\",\n        \"std\": 0.0860091012405719,\n        \"min\": 0.0,\n        \"max\": 0.24453521724018426,\n        \"num_unique_values\": 12,\n        \"samples\": [\n          0.05628925206277521,\n          0.020712272424935476,\n          0.0\n        ],\n        \"semantic_type\": \"\",\n        \"description\": \"\"\n      }\n    },\n    {\n      \"column\": \"Bachelors\",\n      \"properties\": {\n        \"dtype\": \"number\",\n        \"std\": 0.08413980712704583,\n        \"min\": 0.0,\n        \"max\": 0.25574715148921917,\n        \"num_unique_values\": 13,\n        \"samples\": [\n          0.1250063853234781,\n          0.19399016700539415,\n          0.13073520915200182\n        ],\n        \"semantic_type\": \"\",\n        \"description\": \"\"\n      }\n    },\n    {\n      \"column\": \"Doctorate\",\n      \"properties\": {\n        \"dtype\": \"number\",\n        \"std\": 0.03045618978730982,\n        \"min\": 0.0,\n        \"max\": 0.112960957207177,\n        \"num_unique_values\": 7,\n        \"samples\": [\n          0.0,\n          0.004430877870173196,\n          0.012578431739543499\n        ],\n        \"semantic_type\": \"\",\n        \"description\": \"\"\n      }\n    },\n    {\n      \"column\": \"HS-grad\",\n      \"properties\": {\n        \"dtype\": \"number\",\n        \"std\": 0.1036638781153121,\n        \"min\": 0.0,\n        \"max\": 0.3436460226295316,\n        \"num_unique_values\": 14,\n        \"samples\": [\n          0.3436460226295316,\n          0.2928946387993383,\n          0.33375235664413205\n        ],\n        \"semantic_type\": \"\",\n        \"description\": \"\"\n      }\n    },\n    {\n      \"column\": \"Masters\",\n      \"properties\": {\n        \"dtype\": \"number\",\n        \"std\": 0.09564292144392869,\n        \"min\": 0.0,\n        \"max\": 0.37487754100903237,\n        \"num_unique_values\": 11,\n        \"samples\": [\n          0.03974263972639168,\n          0.035603861594345025,\n          0.06871799816487006\n        ],\n        \"semantic_type\": \"\",\n        \"description\": \"\"\n      }\n    },\n    {\n      \"column\": \"Preschool\",\n      \"properties\": {\n        \"dtype\": \"number\",\n        \"std\": 0.040657202617453043,\n        \"min\": 0.0,\n        \"max\": 0.1459710902828696,\n        \"num_unique_values\": 9,\n        \"samples\": [\n          0.002482948861093427,\n          0.1459710902828696,\n          0.0022254011190432237\n        ],\n        \"semantic_type\": \"\",\n        \"description\": \"\"\n      }\n    },\n    {\n      \"column\": \"Prof-school\",\n      \"properties\": {\n        \"dtype\": \"number\",\n        \"std\": 0.047228140246336064,\n        \"min\": 0.0,\n        \"max\": 0.16602180428430258,\n        \"num_unique_values\": 10,\n        \"samples\": [\n          0.16602180428430258,\n          0.049231591207872356,\n          0.0\n        ],\n        \"semantic_type\": \"\",\n        \"description\": \"\"\n      }\n    },\n    {\n      \"column\": \"Some-college\",\n      \"properties\": {\n        \"dtype\": \"number\",\n        \"std\": 0.10986955238223083,\n        \"min\": 0.0,\n        \"max\": 0.3213620093613275,\n        \"num_unique_values\": 12,\n        \"samples\": [\n          0.06611573893774447,\n          0.1889473267259329,\n          0.2249192535456073\n        ],\n        \"semantic_type\": \"\",\n        \"description\": \"\"\n      }\n    }\n  ]\n}"
            }
          },
          "metadata": {},
          "execution_count": 45
        }
      ]
    },
    {
      "cell_type": "markdown",
      "source": [
        "Now let's actually generate some synthetic data.\n",
        "## **TODO 8:** Use `generator.generate_dataset_in_correlated_attribute_mode` to generate synthetic data using the correlated attribute mode:"
      ],
      "metadata": {
        "id": "PIY19-Jzi7Hm"
      }
    },
    {
      "cell_type": "code",
      "metadata": {
        "id": "HSI0EnZYUoCs"
      },
      "source": [
        "# generate synthetic data in correlated attribute mode\n",
        "# write your code here using: generator.generate_dataset_in_correlated_attribute_mode\n",
        "generator.generate_dataset_in_correlated_attribute_mode(n=output_data_size,\n",
        "                                                        description_file=description_files['correlated attribute mode'],\n",
        "                                                        seed=0)"
      ],
      "execution_count": 46,
      "outputs": []
    },
    {
      "cell_type": "markdown",
      "source": [
        "Again, save the data and read it as a pandas dataframe:"
      ],
      "metadata": {
        "id": "plV5JLYUjAye"
      }
    },
    {
      "cell_type": "code",
      "metadata": {
        "id": "JYPWAB9RUoCs",
        "colab": {
          "base_uri": "https://localhost:8080/",
          "height": 206
        },
        "outputId": "23f6cf96-36b3-4894-e2eb-28b001c64fd4"
      },
      "source": [
        "# And we again save the data's description to a file locally\n",
        "generator.save_synthetic_data(synthetic_data_files['correlated attribute mode'])\n",
        "# Read that file\n",
        "synthetic_correlated = pd.read_csv(synthetic_data_files['correlated attribute mode'])\n",
        "synthetic_correlated.head()"
      ],
      "execution_count": 47,
      "outputs": [
        {
          "output_type": "execute_result",
          "data": {
            "text/plain": [
              "    age     education     sex   relationship     marital-status income\n",
              "0  53.0       HS-grad    Male  Not-in-family           Divorced  <=50K\n",
              "1  20.0  Some-college  Female      Own-child      Never-married  <=50K\n",
              "2  40.0  Some-college    Male  Not-in-family           Divorced  <=50K\n",
              "3  47.0       HS-grad  Female  Not-in-family           Divorced  <=50K\n",
              "4  44.0       5th-6th  Female  Not-in-family  Married-AF-spouse  <=50K"
            ],
            "text/html": [
              "\n",
              "  <div id=\"df-abc2d17f-acab-491d-895f-cbaab09d7e92\" class=\"colab-df-container\">\n",
              "    <div>\n",
              "<style scoped>\n",
              "    .dataframe tbody tr th:only-of-type {\n",
              "        vertical-align: middle;\n",
              "    }\n",
              "\n",
              "    .dataframe tbody tr th {\n",
              "        vertical-align: top;\n",
              "    }\n",
              "\n",
              "    .dataframe thead th {\n",
              "        text-align: right;\n",
              "    }\n",
              "</style>\n",
              "<table border=\"1\" class=\"dataframe\">\n",
              "  <thead>\n",
              "    <tr style=\"text-align: right;\">\n",
              "      <th></th>\n",
              "      <th>age</th>\n",
              "      <th>education</th>\n",
              "      <th>sex</th>\n",
              "      <th>relationship</th>\n",
              "      <th>marital-status</th>\n",
              "      <th>income</th>\n",
              "    </tr>\n",
              "  </thead>\n",
              "  <tbody>\n",
              "    <tr>\n",
              "      <th>0</th>\n",
              "      <td>53.0</td>\n",
              "      <td>HS-grad</td>\n",
              "      <td>Male</td>\n",
              "      <td>Not-in-family</td>\n",
              "      <td>Divorced</td>\n",
              "      <td>&lt;=50K</td>\n",
              "    </tr>\n",
              "    <tr>\n",
              "      <th>1</th>\n",
              "      <td>20.0</td>\n",
              "      <td>Some-college</td>\n",
              "      <td>Female</td>\n",
              "      <td>Own-child</td>\n",
              "      <td>Never-married</td>\n",
              "      <td>&lt;=50K</td>\n",
              "    </tr>\n",
              "    <tr>\n",
              "      <th>2</th>\n",
              "      <td>40.0</td>\n",
              "      <td>Some-college</td>\n",
              "      <td>Male</td>\n",
              "      <td>Not-in-family</td>\n",
              "      <td>Divorced</td>\n",
              "      <td>&lt;=50K</td>\n",
              "    </tr>\n",
              "    <tr>\n",
              "      <th>3</th>\n",
              "      <td>47.0</td>\n",
              "      <td>HS-grad</td>\n",
              "      <td>Female</td>\n",
              "      <td>Not-in-family</td>\n",
              "      <td>Divorced</td>\n",
              "      <td>&lt;=50K</td>\n",
              "    </tr>\n",
              "    <tr>\n",
              "      <th>4</th>\n",
              "      <td>44.0</td>\n",
              "      <td>5th-6th</td>\n",
              "      <td>Female</td>\n",
              "      <td>Not-in-family</td>\n",
              "      <td>Married-AF-spouse</td>\n",
              "      <td>&lt;=50K</td>\n",
              "    </tr>\n",
              "  </tbody>\n",
              "</table>\n",
              "</div>\n",
              "    <div class=\"colab-df-buttons\">\n",
              "\n",
              "  <div class=\"colab-df-container\">\n",
              "    <button class=\"colab-df-convert\" onclick=\"convertToInteractive('df-abc2d17f-acab-491d-895f-cbaab09d7e92')\"\n",
              "            title=\"Convert this dataframe to an interactive table.\"\n",
              "            style=\"display:none;\">\n",
              "\n",
              "  <svg xmlns=\"http://www.w3.org/2000/svg\" height=\"24px\" viewBox=\"0 -960 960 960\">\n",
              "    <path d=\"M120-120v-720h720v720H120Zm60-500h600v-160H180v160Zm220 220h160v-160H400v160Zm0 220h160v-160H400v160ZM180-400h160v-160H180v160Zm440 0h160v-160H620v160ZM180-180h160v-160H180v160Zm440 0h160v-160H620v160Z\"/>\n",
              "  </svg>\n",
              "    </button>\n",
              "\n",
              "  <style>\n",
              "    .colab-df-container {\n",
              "      display:flex;\n",
              "      gap: 12px;\n",
              "    }\n",
              "\n",
              "    .colab-df-convert {\n",
              "      background-color: #E8F0FE;\n",
              "      border: none;\n",
              "      border-radius: 50%;\n",
              "      cursor: pointer;\n",
              "      display: none;\n",
              "      fill: #1967D2;\n",
              "      height: 32px;\n",
              "      padding: 0 0 0 0;\n",
              "      width: 32px;\n",
              "    }\n",
              "\n",
              "    .colab-df-convert:hover {\n",
              "      background-color: #E2EBFA;\n",
              "      box-shadow: 0px 1px 2px rgba(60, 64, 67, 0.3), 0px 1px 3px 1px rgba(60, 64, 67, 0.15);\n",
              "      fill: #174EA6;\n",
              "    }\n",
              "\n",
              "    .colab-df-buttons div {\n",
              "      margin-bottom: 4px;\n",
              "    }\n",
              "\n",
              "    [theme=dark] .colab-df-convert {\n",
              "      background-color: #3B4455;\n",
              "      fill: #D2E3FC;\n",
              "    }\n",
              "\n",
              "    [theme=dark] .colab-df-convert:hover {\n",
              "      background-color: #434B5C;\n",
              "      box-shadow: 0px 1px 3px 1px rgba(0, 0, 0, 0.15);\n",
              "      filter: drop-shadow(0px 1px 2px rgba(0, 0, 0, 0.3));\n",
              "      fill: #FFFFFF;\n",
              "    }\n",
              "  </style>\n",
              "\n",
              "    <script>\n",
              "      const buttonEl =\n",
              "        document.querySelector('#df-abc2d17f-acab-491d-895f-cbaab09d7e92 button.colab-df-convert');\n",
              "      buttonEl.style.display =\n",
              "        google.colab.kernel.accessAllowed ? 'block' : 'none';\n",
              "\n",
              "      async function convertToInteractive(key) {\n",
              "        const element = document.querySelector('#df-abc2d17f-acab-491d-895f-cbaab09d7e92');\n",
              "        const dataTable =\n",
              "          await google.colab.kernel.invokeFunction('convertToInteractive',\n",
              "                                                    [key], {});\n",
              "        if (!dataTable) return;\n",
              "\n",
              "        const docLinkHtml = 'Like what you see? Visit the ' +\n",
              "          '<a target=\"_blank\" href=https://colab.research.google.com/notebooks/data_table.ipynb>data table notebook</a>'\n",
              "          + ' to learn more about interactive tables.';\n",
              "        element.innerHTML = '';\n",
              "        dataTable['output_type'] = 'display_data';\n",
              "        await google.colab.output.renderOutput(dataTable, element);\n",
              "        const docLink = document.createElement('div');\n",
              "        docLink.innerHTML = docLinkHtml;\n",
              "        element.appendChild(docLink);\n",
              "      }\n",
              "    </script>\n",
              "  </div>\n",
              "\n",
              "\n",
              "<div id=\"df-a1eda5e9-7487-4f96-8d3b-73d28c044762\">\n",
              "  <button class=\"colab-df-quickchart\" onclick=\"quickchart('df-a1eda5e9-7487-4f96-8d3b-73d28c044762')\"\n",
              "            title=\"Suggest charts\"\n",
              "            style=\"display:none;\">\n",
              "\n",
              "<svg xmlns=\"http://www.w3.org/2000/svg\" height=\"24px\"viewBox=\"0 0 24 24\"\n",
              "     width=\"24px\">\n",
              "    <g>\n",
              "        <path d=\"M19 3H5c-1.1 0-2 .9-2 2v14c0 1.1.9 2 2 2h14c1.1 0 2-.9 2-2V5c0-1.1-.9-2-2-2zM9 17H7v-7h2v7zm4 0h-2V7h2v10zm4 0h-2v-4h2v4z\"/>\n",
              "    </g>\n",
              "</svg>\n",
              "  </button>\n",
              "\n",
              "<style>\n",
              "  .colab-df-quickchart {\n",
              "      --bg-color: #E8F0FE;\n",
              "      --fill-color: #1967D2;\n",
              "      --hover-bg-color: #E2EBFA;\n",
              "      --hover-fill-color: #174EA6;\n",
              "      --disabled-fill-color: #AAA;\n",
              "      --disabled-bg-color: #DDD;\n",
              "  }\n",
              "\n",
              "  [theme=dark] .colab-df-quickchart {\n",
              "      --bg-color: #3B4455;\n",
              "      --fill-color: #D2E3FC;\n",
              "      --hover-bg-color: #434B5C;\n",
              "      --hover-fill-color: #FFFFFF;\n",
              "      --disabled-bg-color: #3B4455;\n",
              "      --disabled-fill-color: #666;\n",
              "  }\n",
              "\n",
              "  .colab-df-quickchart {\n",
              "    background-color: var(--bg-color);\n",
              "    border: none;\n",
              "    border-radius: 50%;\n",
              "    cursor: pointer;\n",
              "    display: none;\n",
              "    fill: var(--fill-color);\n",
              "    height: 32px;\n",
              "    padding: 0;\n",
              "    width: 32px;\n",
              "  }\n",
              "\n",
              "  .colab-df-quickchart:hover {\n",
              "    background-color: var(--hover-bg-color);\n",
              "    box-shadow: 0 1px 2px rgba(60, 64, 67, 0.3), 0 1px 3px 1px rgba(60, 64, 67, 0.15);\n",
              "    fill: var(--button-hover-fill-color);\n",
              "  }\n",
              "\n",
              "  .colab-df-quickchart-complete:disabled,\n",
              "  .colab-df-quickchart-complete:disabled:hover {\n",
              "    background-color: var(--disabled-bg-color);\n",
              "    fill: var(--disabled-fill-color);\n",
              "    box-shadow: none;\n",
              "  }\n",
              "\n",
              "  .colab-df-spinner {\n",
              "    border: 2px solid var(--fill-color);\n",
              "    border-color: transparent;\n",
              "    border-bottom-color: var(--fill-color);\n",
              "    animation:\n",
              "      spin 1s steps(1) infinite;\n",
              "  }\n",
              "\n",
              "  @keyframes spin {\n",
              "    0% {\n",
              "      border-color: transparent;\n",
              "      border-bottom-color: var(--fill-color);\n",
              "      border-left-color: var(--fill-color);\n",
              "    }\n",
              "    20% {\n",
              "      border-color: transparent;\n",
              "      border-left-color: var(--fill-color);\n",
              "      border-top-color: var(--fill-color);\n",
              "    }\n",
              "    30% {\n",
              "      border-color: transparent;\n",
              "      border-left-color: var(--fill-color);\n",
              "      border-top-color: var(--fill-color);\n",
              "      border-right-color: var(--fill-color);\n",
              "    }\n",
              "    40% {\n",
              "      border-color: transparent;\n",
              "      border-right-color: var(--fill-color);\n",
              "      border-top-color: var(--fill-color);\n",
              "    }\n",
              "    60% {\n",
              "      border-color: transparent;\n",
              "      border-right-color: var(--fill-color);\n",
              "    }\n",
              "    80% {\n",
              "      border-color: transparent;\n",
              "      border-right-color: var(--fill-color);\n",
              "      border-bottom-color: var(--fill-color);\n",
              "    }\n",
              "    90% {\n",
              "      border-color: transparent;\n",
              "      border-bottom-color: var(--fill-color);\n",
              "    }\n",
              "  }\n",
              "</style>\n",
              "\n",
              "  <script>\n",
              "    async function quickchart(key) {\n",
              "      const quickchartButtonEl =\n",
              "        document.querySelector('#' + key + ' button');\n",
              "      quickchartButtonEl.disabled = true;  // To prevent multiple clicks.\n",
              "      quickchartButtonEl.classList.add('colab-df-spinner');\n",
              "      try {\n",
              "        const charts = await google.colab.kernel.invokeFunction(\n",
              "            'suggestCharts', [key], {});\n",
              "      } catch (error) {\n",
              "        console.error('Error during call to suggestCharts:', error);\n",
              "      }\n",
              "      quickchartButtonEl.classList.remove('colab-df-spinner');\n",
              "      quickchartButtonEl.classList.add('colab-df-quickchart-complete');\n",
              "    }\n",
              "    (() => {\n",
              "      let quickchartButtonEl =\n",
              "        document.querySelector('#df-a1eda5e9-7487-4f96-8d3b-73d28c044762 button');\n",
              "      quickchartButtonEl.style.display =\n",
              "        google.colab.kernel.accessAllowed ? 'block' : 'none';\n",
              "    })();\n",
              "  </script>\n",
              "</div>\n",
              "    </div>\n",
              "  </div>\n"
            ],
            "application/vnd.google.colaboratory.intrinsic+json": {
              "type": "dataframe",
              "variable_name": "synthetic_correlated",
              "summary": "{\n  \"name\": \"synthetic_correlated\",\n  \"rows\": 1000,\n  \"fields\": [\n    {\n      \"column\": \"age\",\n      \"properties\": {\n        \"dtype\": \"number\",\n        \"std\": 14.293115726011496,\n        \"min\": 17.0,\n        \"max\": 85.0,\n        \"num_unique_values\": 67,\n        \"samples\": [\n          43.0,\n          42.0,\n          44.0\n        ],\n        \"semantic_type\": \"\",\n        \"description\": \"\"\n      }\n    },\n    {\n      \"column\": \"education\",\n      \"properties\": {\n        \"dtype\": \"category\",\n        \"num_unique_values\": 16,\n        \"samples\": [\n          \"HS-grad\",\n          \"Some-college\",\n          \"12th\"\n        ],\n        \"semantic_type\": \"\",\n        \"description\": \"\"\n      }\n    },\n    {\n      \"column\": \"sex\",\n      \"properties\": {\n        \"dtype\": \"category\",\n        \"num_unique_values\": 2,\n        \"samples\": [\n          \"Female\",\n          \"Male\"\n        ],\n        \"semantic_type\": \"\",\n        \"description\": \"\"\n      }\n    },\n    {\n      \"column\": \"relationship\",\n      \"properties\": {\n        \"dtype\": \"category\",\n        \"num_unique_values\": 6,\n        \"samples\": [\n          \"Not-in-family\",\n          \"Own-child\"\n        ],\n        \"semantic_type\": \"\",\n        \"description\": \"\"\n      }\n    },\n    {\n      \"column\": \"marital-status\",\n      \"properties\": {\n        \"dtype\": \"category\",\n        \"num_unique_values\": 7,\n        \"samples\": [\n          \"Divorced\",\n          \"Never-married\"\n        ],\n        \"semantic_type\": \"\",\n        \"description\": \"\"\n      }\n    },\n    {\n      \"column\": \"income\",\n      \"properties\": {\n        \"dtype\": \"category\",\n        \"num_unique_values\": 2,\n        \"samples\": [\n          \">50K\",\n          \"<=50K\"\n        ],\n        \"semantic_type\": \"\",\n        \"description\": \"\"\n      }\n    }\n  ]\n}"
            }
          },
          "metadata": {},
          "execution_count": 47
        }
      ]
    },
    {
      "cell_type": "markdown",
      "source": [
        "Let's look at the distribution of relationship values in the real data, in the synthetic data generated using the independent attribute mode, and in the synthetic data generated using the correlated attribute mode:"
      ],
      "metadata": {
        "id": "EwfIeK8Mehxm"
      }
    },
    {
      "cell_type": "code",
      "source": [
        "# plot the distribution of \"relationship\" in the synthetic data generated under the correlated attribute mode and the independent attribute mode here\n",
        "\n",
        "relationship_real = real_data['relationship'].value_counts()\n",
        "relationship_correlated = synthetic_correlated['relationship'].value_counts()\n",
        "relationship_independent = synthetic_independent['relationship'].value_counts()\n",
        "relationship_both = pd.merge(relationship_real.to_frame(),\n",
        "                             relationship_correlated.to_frame(),\n",
        "                             left_index=True,\n",
        "                             right_index=True,\n",
        "                             suffixes=('_real', '_correlated_attribute_mode'))\n",
        "relationship_all = pd.merge(relationship_both,\n",
        "                            relationship_independent.to_frame(),\n",
        "                            left_index=True,\n",
        "                            right_index=True)\n",
        "\n",
        "fig, axes = plt.subplots(1, 3, figsize=(9,3), dpi=120)\n",
        "axes[0].bar(relationship_all.index, relationship_all['count_real'])\n",
        "axes[1].bar(relationship_all.index, relationship_all['count'])  # This is the independent mode\n",
        "axes[2].bar(relationship_all.index, relationship_all['count_correlated_attribute_mode'])\n",
        "axes[0].set_title('real data')\n",
        "axes[1].set_title('independent mode')\n",
        "axes[2].set_title('correlated mode')\n",
        "fig.autofmt_xdate()"
      ],
      "metadata": {
        "colab": {
          "base_uri": "https://localhost:8080/",
          "height": 405
        },
        "id": "9d4fWQn9eMv2",
        "outputId": "a9a9ee1e-c6ad-4391-8098-bf8aa18b9a8d"
      },
      "execution_count": 48,
      "outputs": [
        {
          "output_type": "display_data",
          "data": {
            "text/plain": [
              "<Figure size 1080x360 with 3 Axes>"
            ],
            "image/png": "[encoded data removed]"
          },
          "metadata": {}
        }
      ]
    },
    {
      "cell_type": "markdown",
      "source": [
        "## **TODO 9:** Plot the distribution of age in the real data, synthetic data from the independent attribute mode, and synthetic data from the correlated attribute mode:"
      ],
      "metadata": {
        "id": "7QViAHibjGY-"
      }
    },
    {
      "cell_type": "code",
      "metadata": {
        "colab": {
          "base_uri": "https://localhost:8080/",
          "height": 451
        },
        "id": "ZppLU9YbUoCs",
        "outputId": "42be2e89-5349-4e1a-98fd-4e9923278fe1"
      },
      "source": [
        "# plot the distribution of age in the real data and synthetic_independent and synthetic_correlated\n",
        "plt.figure(figsize=(15, 5))\n",
        "plt.subplot(1, 3, 1)\n",
        "plt.hist(real_data['age'])\n",
        "plt.title('Real Data')\n",
        "plt.xlabel('Age')\n",
        "\n",
        "plt.subplot(1, 3, 2)\n",
        "plt.hist(synthetic_independent['age'])\n",
        "plt.title('Synthetic Independent Attribute Mode Data')\n",
        "plt.xlabel('Age')\n",
        "\n",
        "plt.subplot(1, 3, 3)\n",
        "plt.hist(synthetic_correlated['age'])\n",
        "plt.title('Synthetic Correlated Attribute Mode Data')\n",
        "plt.xlabel('Age')\n",
        "\n",
        "plt.tight_layout()"
      ],
      "execution_count": 51,
      "outputs": [
        {
          "output_type": "display_data",
          "data": {
            "text/plain": [
              "<Figure size 1500x500 with 3 Axes>"
            ],
            "image/png": "[encoded data removed]"
          },
          "metadata": {}
        }
      ]
    },
    {
      "cell_type": "markdown",
      "metadata": {
        "id": "2bFqOMF3iRcQ"
      },
      "source": [
        "Eh, this seems like a mixed bag. We have somewhat matched the histograms for the correlated and real data, but not as well as the independent data. Next, let's zoom into the data again.\n",
        "\n",
        "## **TODO 10:** Plot the distribution of age for both low-income and high-income people.\n",
        "\n",
        "That is, create 3 plots where one is for real data, one is for synthetic independent data, and one is for synthetic correlated data. In each plot, draw two histograms, one for high-income people and one for low-income people."
      ]
    },
    {
      "cell_type": "code",
      "metadata": {
        "colab": {
          "base_uri": "https://localhost:8080/",
          "height": 451
        },
        "id": "k0TVTqLVUoCs",
        "outputId": "6018ce1e-1dd7-4e0d-ab75-2d6654c43aa5"
      },
      "source": [
        "# write code here to plot the distribution of one variable by another variable\n",
        "# in the real data and in synthetic_correlated\n",
        "plt.figure(figsize=(15, 5))\n",
        "plt.subplot(1, 3, 1)\n",
        "plt.hist(real_data[real_data['income'] == '<=50K']['age'], label='<=50K')\n",
        "plt.hist(real_data[real_data['income'] == '>50K']['age'], label='>50K')\n",
        "plt.title('Real Data')\n",
        "plt.xlabel('Age')\n",
        "plt.ylabel('Frequency')\n",
        "plt.legend()\n",
        "\n",
        "plt.subplot(1, 3, 2)\n",
        "plt.hist(synthetic_independent[synthetic_independent['income'] == '<=50K']['age'], label='<=50K')\n",
        "plt.hist(synthetic_independent[synthetic_independent['income'] == '>50K']['age'], label='>50K')\n",
        "plt.title('Synthetic Independent Attribute Mode Data')\n",
        "plt.xlabel('Age')\n",
        "plt.ylabel('Frequency')\n",
        "plt.legend()\n",
        "\n",
        "plt.subplot(1, 3, 3)\n",
        "plt.hist(synthetic_correlated[synthetic_correlated['income'] == '<=50K']['age'], label='<=50K')\n",
        "plt.hist(synthetic_correlated[synthetic_correlated['income'] == '>50K']['age'], label='>50K')\n",
        "plt.title('Synthetic Correlated Attribute Mode Data')\n",
        "plt.xlabel('Age')\n",
        "plt.ylabel('Frequency')\n",
        "plt.legend()\n",
        "\n",
        "plt.tight_layout()"
      ],
      "execution_count": 53,
      "outputs": [
        {
          "output_type": "display_data",
          "data": {
            "text/plain": [
              "<Figure size 1500x500 with 3 Axes>"
            ],
            "image/png": "[encoded data removed]"
          },
          "metadata": {}
        }
      ]
    },
    {
      "cell_type": "markdown",
      "metadata": {
        "id": "X8Zcb50jqvnf"
      },
      "source": [
        "## **TODO 11:** Which model does a better job of preserving correlations while maintaining differential privacy?"
      ]
    },
    {
      "cell_type": "markdown",
      "source": [
        "**Answer:**\n",
        "\n",
        "Both models don't preserve correlations very well. In comparison, I think the correlated attribute mode preserves correlations slightly better than the independent attribute ode."
      ],
      "metadata": {
        "id": "QaPftBJSgahv"
      }
    },
    {
      "cell_type": "markdown",
      "metadata": {
        "id": "Q4uMBHcFUoCt"
      },
      "source": [
        "# Statistical measures\n",
        "\n",
        "Now let's try to put some numbers to how in-accurate these models are.\n",
        "There's a few different ways to do this which we will explore.\n",
        "\n",
        "### Mutual information"
      ]
    },
    {
      "cell_type": "markdown",
      "metadata": {
        "id": "_Ln430t6UoCt"
      },
      "source": [
        "**Mutual Information** measures how dependent two random variables are. Suppose $X$ and $Y$ are two (possibly dependent) random variables.\n",
        "We can imagine two different ways to generate a pair $(X,Y)$:\n",
        "- We sample some $X$, and then sample some $Y$ in a way that depends on $X$, taking that conditional probability into account.\n",
        "- We sample some $X$ and some $Y$ independently.\n",
        "\n",
        "If $X$ and $Y$ are independent, then these two methods are identical.\n",
        "If $X$ and $Y$ are perfectly correlated, then these two methods are extremely different.\n",
        "Mutual Information measures this difference, and is defined as:\n",
        "$$I(X; Y) = \\sum_{y \\in Y} \\sum_{x \\in X} p(x,y) \\log(\\frac{p(x,y)}{p(x)p(y)})$$\n",
        "\n",
        "If $X$ and $Y$ are independent, then $p(x,y) = p(x) p(y)$ and so $\\log(\\frac{p(x,y)}{p(x)p(y)}) = \\log(1) = 0$, so the mutual information is zero.\n",
        "Otherwise, the mutual information is positive.\n",
        "\n",
        "\n",
        "Conveniantly, mutual information is well defined for both categorical and continous variables.\n",
        "For a continuous variable, we just replace the sum with an integral.\n",
        "\n",
        "The definition of mutual information is pretty opaque as we have written it, but the metric has a super deep meaning in the fields of _Information Theory_ and _Statistics_.\n",
        "Because it is always well defined, and because of this deep meaning, mutual information has been consistently used in machine learning as a way to measure how far from independent variables are.\n",
        "\n",
        "We will also look at **Normalized Mutual Information**, which is just mutual information that has been scaled so that:\n",
        "- If the normalized mutual information = 0, then $X$ and $Y$ are independent\n",
        "- If the normalized mutual information = 1, then $X$ and $Y$ are perfectly correlated\n",
        "\n",
        "There's some technical nuance to how this normalization is computed actually. If you're curious, check out [Section 2.3.10.2 from the scikit-learn docs](https://scikit-learn.org/stable/modules/clustering.html#mutual-info-score)."
      ]
    },
    {
      "cell_type": "code",
      "metadata": {
        "id": "-zdSvQ3jUoCu"
      },
      "source": [
        "from sklearn.metrics import normalized_mutual_info_score"
      ],
      "execution_count": 54,
      "outputs": []
    },
    {
      "cell_type": "code",
      "metadata": {
        "colab": {
          "base_uri": "https://localhost:8080/"
        },
        "id": "0GUEfgraUoCu",
        "outputId": "5e52ba70-a298-41d2-af2e-60f89f522256"
      },
      "source": [
        "# Definitely not independent\n",
        "normalized_mutual_info_score(real_data['marital-status'],\n",
        "                             real_data['relationship'],\n",
        "                             average_method='arithmetic')"
      ],
      "execution_count": 55,
      "outputs": [
        {
          "output_type": "execute_result",
          "data": {
            "text/plain": [
              "0.5249037668258573"
            ]
          },
          "metadata": {},
          "execution_count": 55
        }
      ]
    },
    {
      "cell_type": "code",
      "metadata": {
        "colab": {
          "base_uri": "https://localhost:8080/"
        },
        "id": "hqY1BFjEUoCu",
        "outputId": "9531863e-daeb-4072-e907-818d290658d8"
      },
      "source": [
        "# Close-ish to independent\n",
        "normalized_mutual_info_score(real_data['marital-status'],\n",
        "                             real_data['education'],\n",
        "                             average_method='arithmetic')"
      ],
      "execution_count": 56,
      "outputs": [
        {
          "output_type": "execute_result",
          "data": {
            "text/plain": [
              "0.014483450445067414"
            ]
          },
          "metadata": {},
          "execution_count": 56
        }
      ]
    },
    {
      "cell_type": "markdown",
      "metadata": {
        "id": "kKVqjAJdUoCu"
      },
      "source": [
        "We can plot the normalized mutual information between all pairs of features in the dataset.\n",
        "First, we compare **real data** and **synthetic correlated data**."
      ]
    },
    {
      "cell_type": "code",
      "metadata": {
        "colab": {
          "base_uri": "https://localhost:8080/",
          "height": 559
        },
        "id": "vTHgNA9jUoCu",
        "outputId": "ab971d17-b9ab-4326-81e9-669b0aea253d"
      },
      "source": [
        "attribute_description = read_json_file(description_files['correlated attribute mode'])['attribute_description']\n",
        "ModelInspector(real_data,\n",
        "               synthetic_correlated,\n",
        "               attribute_description).mutual_information_heatmap()"
      ],
      "execution_count": 57,
      "outputs": [
        {
          "output_type": "display_data",
          "data": {
            "text/plain": [
              "<Figure size 1800x720 with 4 Axes>"
            ],
            "image/png": "[encoded data removed]"
          },
          "metadata": {}
        }
      ]
    },
    {
      "cell_type": "markdown",
      "source": [
        "Next, we compare **real data** and **synthetic independent data**."
      ],
      "metadata": {
        "id": "AiY97MV1kuMg"
      }
    },
    {
      "cell_type": "code",
      "source": [
        "attribute_description = read_json_file(description_files['independent attribute mode'])['attribute_description']\n",
        "ModelInspector(real_data,\n",
        "               synthetic_independent,\n",
        "               attribute_description).mutual_information_heatmap()"
      ],
      "metadata": {
        "colab": {
          "base_uri": "https://localhost:8080/",
          "height": 559
        },
        "id": "L3-hfaWDkhYZ",
        "outputId": "3f4d4c43-2644-4a47-cc2d-b9f8dd35a77a"
      },
      "execution_count": 58,
      "outputs": [
        {
          "output_type": "display_data",
          "data": {
            "text/plain": [
              "<Figure size 1800x720 with 4 Axes>"
            ],
            "image/png": "[encoded data removed]"
          },
          "metadata": {}
        }
      ]
    },
    {
      "cell_type": "markdown",
      "metadata": {
        "id": "hz9snHG4UoCv"
      },
      "source": [
        "## Two-sample Kolmogorov–Smirnov test\n",
        "\n",
        "The **Kolmogorov-Smirnov statistic** is one way to measures how similar two distributions are.\n",
        "Suppose $X$ and $Y$ are two continuous random numbers, like $X$ is the age of a random person in the real data, and $Y$ is the age of a random person in the synthetic data.\n",
        "We could looks at the CDF of these random variables.\n",
        "If $X$ and $Y$ have the exact same distribution (our synthetic data is perfect), then the two CDF functions will always equal each other.\n",
        "Otherwise, if they're not the exact same, then the CDFs will also be different.\n",
        "The Kolmogorov-Smirnov statistic computes the biggest gap between the CDFs\n",
        "\n",
        "<img src=\"https://upload.wikimedia.org/wikipedia/commons/c/cf/KS_Example.png\">\n",
        "\n",
        "In the above picture, imagine the red curve is the CDF of the real age of a person and the blue curve is the CDF of the ages we synthetically generate.\n",
        "Then the Kolmogorov-Smirnov Statistic is equal to the height of the black line -- the biggest gap between the two functions.\n",
        "\n",
        "This metric also has a rich history in statistics, and can be generalized to consider vectors of real numbers, but cannot cover categorical variables. It can be used to run the **Kolmogorov-Smirnov Test**, which is a formal statistical test of whether or not two distributions are the same/extremely similar."
      ]
    },
    {
      "cell_type": "code",
      "metadata": {
        "id": "Hw8j99qJUoCv"
      },
      "source": [
        "from scipy.stats import ks_2samp"
      ],
      "execution_count": 59,
      "outputs": []
    },
    {
      "cell_type": "code",
      "metadata": {
        "id": "LQau8TuNUoCv"
      },
      "source": [
        "# Returns the p-value for the KS-test.\n",
        "# Remember: small p value means you reject the null hypothesis -- you have evidence that the two distributions are *different*\n",
        "def ks_test(df_in: pd.DataFrame, df_out: pd.DataFrame, attr: str):\n",
        "    \"\"\"\n",
        "    df_in: the sensitive dataset\n",
        "    df_out: the synthetic dataset\n",
        "    attr: the attribute that will be calculated for Two-sample Kolmogorov–Smirnov test.\n",
        "    \"\"\"\n",
        "    return ks_2samp(df_in[attr], df_out[attr])[1]"
      ],
      "execution_count": 60,
      "outputs": []
    },
    {
      "cell_type": "code",
      "metadata": {
        "colab": {
          "base_uri": "https://localhost:8080/"
        },
        "id": "u6f98s_HUoCv",
        "outputId": "06223b57-b0e0-40b9-8b6b-09a4c7964b13"
      },
      "source": [
        "# Really small -- these distributions are different\n",
        "ks_test(real_data, synthetic_random, 'age')"
      ],
      "execution_count": 61,
      "outputs": [
        {
          "output_type": "execute_result",
          "data": {
            "text/plain": [
              "3.860776992276484e-96"
            ]
          },
          "metadata": {},
          "execution_count": 61
        }
      ]
    },
    {
      "cell_type": "code",
      "metadata": {
        "colab": {
          "base_uri": "https://localhost:8080/"
        },
        "id": "X-C2V7yuUoCw",
        "outputId": "9784cd0d-09e5-45aa-9a0f-8f960d4ad815"
      },
      "source": [
        "# Really big -- these distributions are nearly the same\n",
        "ks_test(real_data, synthetic_independent, 'age')"
      ],
      "execution_count": 62,
      "outputs": [
        {
          "output_type": "execute_result",
          "data": {
            "text/plain": [
              "0.02902321565436905"
            ]
          },
          "metadata": {},
          "execution_count": 62
        }
      ]
    },
    {
      "cell_type": "code",
      "metadata": {
        "colab": {
          "base_uri": "https://localhost:8080/"
        },
        "id": "WyZQiz3dUoCw",
        "outputId": "ed5d6b5c-8753-400b-c279-f184fb4ae371"
      },
      "source": [
        "# Kinda small -- these distributions are borderline similar; you could take this either way.\n",
        "ks_test(real_data, synthetic_correlated, 'age')"
      ],
      "execution_count": 63,
      "outputs": [
        {
          "output_type": "execute_result",
          "data": {
            "text/plain": [
              "0.0008873191982118708"
            ]
          },
          "metadata": {},
          "execution_count": 63
        }
      ]
    },
    {
      "cell_type": "markdown",
      "metadata": {
        "id": "GowfFP1HUoCw"
      },
      "source": [
        "## KL-divergence\n",
        "\n",
        "The KL-divergence is an alternative way to measure the difference between two distributions.\n",
        "For two distributions P and Q, the KL-divergence is\n",
        "\n",
        "$$D = \\sum_x P(x) \\log (\\frac{P(x)}{Q(x)})$$\n",
        "\n",
        "This metric works on both continuous and discrete/categorical variables.\n",
        "Once again, this metric has a rich history in statistics and information theory, which motivates using it in situations like this one.\n",
        "\n",
        "Importantly, the KL-Divergence is not symmetric: the divergence from $P$ to $Q$ is not equal to the divergence from $Q$ to $P$.\n",
        "In practice, it often doesn't matter which is which, but it's worthwhile to try to remain consistent with which random variables goes where.\n",
        "We will take $P$ to be the real data distribution, and $Q$ to be synthetic.\n",
        "\n",
        "The KL divergence can be any positive number; it does not have to be between 0 and 1."
      ]
    },
    {
      "cell_type": "code",
      "metadata": {
        "id": "0Dq8rBDaUoCw"
      },
      "source": [
        "from scipy.stats import entropy"
      ],
      "execution_count": 64,
      "outputs": []
    },
    {
      "cell_type": "code",
      "metadata": {
        "id": "u13fVdqLUoCw"
      },
      "source": [
        "def get_distribution_of_categorical_attribute(attribute: pd.Series, indicies=None):\n",
        "    distribution = attribute.dropna().value_counts()\n",
        "    if indicies is not None:\n",
        "        for idx in set(indicies) - set(distribution.index):\n",
        "            distribution.loc[idx] = 0\n",
        "    distribution.sort_index(inplace=True)\n",
        "    return distribution/sum(distribution)\n",
        "\n",
        "def kl_test(df_in: pd.DataFrame, df_out: pd.DataFrame, attr: str):\n",
        "    \"\"\"\n",
        "    df_in: the sensitive dataset\n",
        "    df_out: the synthetic dataset\n",
        "    attr: the attribute that will be calculated for KL-divergence.\n",
        "    \"\"\"\n",
        "    distribution_in = get_distribution_of_categorical_attribute(df_in[attr])\n",
        "    distribution_out = get_distribution_of_categorical_attribute(df_out[attr], distribution_in.index)\n",
        "    return entropy(distribution_out, distribution_in)"
      ],
      "execution_count": 65,
      "outputs": []
    },
    {
      "cell_type": "code",
      "metadata": {
        "colab": {
          "base_uri": "https://localhost:8080/"
        },
        "id": "KUyOzLeTUoCw",
        "outputId": "57a746e0-a185-48cc-c0ea-a66eac832c0f"
      },
      "source": [
        "# Big, I guess?\n",
        "kl_test(real_data, synthetic_random, 'relationship')"
      ],
      "execution_count": 66,
      "outputs": [
        {
          "output_type": "execute_result",
          "data": {
            "text/plain": [
              "0.37194502301936416"
            ]
          },
          "metadata": {},
          "execution_count": 66
        }
      ]
    },
    {
      "cell_type": "code",
      "metadata": {
        "colab": {
          "base_uri": "https://localhost:8080/"
        },
        "id": "dBQfTe81UoCx",
        "outputId": "2e03facb-6537-4695-e903-52293f124502"
      },
      "source": [
        "# Pretty small\n",
        "kl_test(real_data, synthetic_independent, 'relationship')"
      ],
      "execution_count": 67,
      "outputs": [
        {
          "output_type": "execute_result",
          "data": {
            "text/plain": [
              "0.004852757128718812"
            ]
          },
          "metadata": {},
          "execution_count": 67
        }
      ]
    },
    {
      "cell_type": "code",
      "metadata": {
        "colab": {
          "base_uri": "https://localhost:8080/"
        },
        "id": "N5eXmFRsUoCx",
        "outputId": "cc7bd68c-1e16-48f9-d527-7cf75cccf4e9"
      },
      "source": [
        "# Pretty small\n",
        "kl_test(real_data, synthetic_correlated, 'relationship')"
      ],
      "execution_count": 68,
      "outputs": [
        {
          "output_type": "execute_result",
          "data": {
            "text/plain": [
              "0.0062997091819315945"
            ]
          },
          "metadata": {},
          "execution_count": 68
        }
      ]
    },
    {
      "cell_type": "markdown",
      "metadata": {
        "id": "K6iyQW-SUoCx"
      },
      "source": [
        "### Boxplot"
      ]
    },
    {
      "cell_type": "markdown",
      "source": [
        "It is often useful to the compare distributions of a continuous variable using a boxplot. For example, we plot the distribution of age by income status in the real data and in the synthetic_correlated data below:"
      ],
      "metadata": {
        "id": "kE-d51tUrDFr"
      }
    },
    {
      "cell_type": "code",
      "metadata": {
        "id": "iHL2v9nFUoCx"
      },
      "source": [
        "import seaborn as sns"
      ],
      "execution_count": 69,
      "outputs": []
    },
    {
      "cell_type": "code",
      "metadata": {
        "colab": {
          "base_uri": "https://localhost:8080/",
          "height": 206
        },
        "id": "p4LejBwzUoCx",
        "outputId": "8f59f38f-4fd9-4f1f-925b-939760159460"
      },
      "source": [
        "real_data.head()"
      ],
      "execution_count": 70,
      "outputs": [
        {
          "output_type": "execute_result",
          "data": {
            "text/plain": [
              "   age  education     sex   relationship      marital-status income\n",
              "0   39  Bachelors    Male  Not-in-family       Never-married  <=50K\n",
              "1   50  Bachelors    Male        Husband  Married-civ-spouse  <=50K\n",
              "2   38    HS-grad    Male  Not-in-family            Divorced  <=50K\n",
              "3   53       11th    Male        Husband  Married-civ-spouse  <=50K\n",
              "4   28  Bachelors  Female           Wife  Married-civ-spouse  <=50K"
            ],
            "text/html": [
              "\n",
              "  <div id=\"df-56b76374-132a-4482-b641-b1fb5ba1eb9f\" class=\"colab-df-container\">\n",
              "    <div>\n",
              "<style scoped>\n",
              "    .dataframe tbody tr th:only-of-type {\n",
              "        vertical-align: middle;\n",
              "    }\n",
              "\n",
              "    .dataframe tbody tr th {\n",
              "        vertical-align: top;\n",
              "    }\n",
              "\n",
              "    .dataframe thead th {\n",
              "        text-align: right;\n",
              "    }\n",
              "</style>\n",
              "<table border=\"1\" class=\"dataframe\">\n",
              "  <thead>\n",
              "    <tr style=\"text-align: right;\">\n",
              "      <th></th>\n",
              "      <th>age</th>\n",
              "      <th>education</th>\n",
              "      <th>sex</th>\n",
              "      <th>relationship</th>\n",
              "      <th>marital-status</th>\n",
              "      <th>income</th>\n",
              "    </tr>\n",
              "  </thead>\n",
              "  <tbody>\n",
              "    <tr>\n",
              "      <th>0</th>\n",
              "      <td>39</td>\n",
              "      <td>Bachelors</td>\n",
              "      <td>Male</td>\n",
              "      <td>Not-in-family</td>\n",
              "      <td>Never-married</td>\n",
              "      <td>&lt;=50K</td>\n",
              "    </tr>\n",
              "    <tr>\n",
              "      <th>1</th>\n",
              "      <td>50</td>\n",
              "      <td>Bachelors</td>\n",
              "      <td>Male</td>\n",
              "      <td>Husband</td>\n",
              "      <td>Married-civ-spouse</td>\n",
              "      <td>&lt;=50K</td>\n",
              "    </tr>\n",
              "    <tr>\n",
              "      <th>2</th>\n",
              "      <td>38</td>\n",
              "      <td>HS-grad</td>\n",
              "      <td>Male</td>\n",
              "      <td>Not-in-family</td>\n",
              "      <td>Divorced</td>\n",
              "      <td>&lt;=50K</td>\n",
              "    </tr>\n",
              "    <tr>\n",
              "      <th>3</th>\n",
              "      <td>53</td>\n",
              "      <td>11th</td>\n",
              "      <td>Male</td>\n",
              "      <td>Husband</td>\n",
              "      <td>Married-civ-spouse</td>\n",
              "      <td>&lt;=50K</td>\n",
              "    </tr>\n",
              "    <tr>\n",
              "      <th>4</th>\n",
              "      <td>28</td>\n",
              "      <td>Bachelors</td>\n",
              "      <td>Female</td>\n",
              "      <td>Wife</td>\n",
              "      <td>Married-civ-spouse</td>\n",
              "      <td>&lt;=50K</td>\n",
              "    </tr>\n",
              "  </tbody>\n",
              "</table>\n",
              "</div>\n",
              "    <div class=\"colab-df-buttons\">\n",
              "\n",
              "  <div class=\"colab-df-container\">\n",
              "    <button class=\"colab-df-convert\" onclick=\"convertToInteractive('df-56b76374-132a-4482-b641-b1fb5ba1eb9f')\"\n",
              "            title=\"Convert this dataframe to an interactive table.\"\n",
              "            style=\"display:none;\">\n",
              "\n",
              "  <svg xmlns=\"http://www.w3.org/2000/svg\" height=\"24px\" viewBox=\"0 -960 960 960\">\n",
              "    <path d=\"M120-120v-720h720v720H120Zm60-500h600v-160H180v160Zm220 220h160v-160H400v160Zm0 220h160v-160H400v160ZM180-400h160v-160H180v160Zm440 0h160v-160H620v160ZM180-180h160v-160H180v160Zm440 0h160v-160H620v160Z\"/>\n",
              "  </svg>\n",
              "    </button>\n",
              "\n",
              "  <style>\n",
              "    .colab-df-container {\n",
              "      display:flex;\n",
              "      gap: 12px;\n",
              "    }\n",
              "\n",
              "    .colab-df-convert {\n",
              "      background-color: #E8F0FE;\n",
              "      border: none;\n",
              "      border-radius: 50%;\n",
              "      cursor: pointer;\n",
              "      display: none;\n",
              "      fill: #1967D2;\n",
              "      height: 32px;\n",
              "      padding: 0 0 0 0;\n",
              "      width: 32px;\n",
              "    }\n",
              "\n",
              "    .colab-df-convert:hover {\n",
              "      background-color: #E2EBFA;\n",
              "      box-shadow: 0px 1px 2px rgba(60, 64, 67, 0.3), 0px 1px 3px 1px rgba(60, 64, 67, 0.15);\n",
              "      fill: #174EA6;\n",
              "    }\n",
              "\n",
              "    .colab-df-buttons div {\n",
              "      margin-bottom: 4px;\n",
              "    }\n",
              "\n",
              "    [theme=dark] .colab-df-convert {\n",
              "      background-color: #3B4455;\n",
              "      fill: #D2E3FC;\n",
              "    }\n",
              "\n",
              "    [theme=dark] .colab-df-convert:hover {\n",
              "      background-color: #434B5C;\n",
              "      box-shadow: 0px 1px 3px 1px rgba(0, 0, 0, 0.15);\n",
              "      filter: drop-shadow(0px 1px 2px rgba(0, 0, 0, 0.3));\n",
              "      fill: #FFFFFF;\n",
              "    }\n",
              "  </style>\n",
              "\n",
              "    <script>\n",
              "      const buttonEl =\n",
              "        document.querySelector('#df-56b76374-132a-4482-b641-b1fb5ba1eb9f button.colab-df-convert');\n",
              "      buttonEl.style.display =\n",
              "        google.colab.kernel.accessAllowed ? 'block' : 'none';\n",
              "\n",
              "      async function convertToInteractive(key) {\n",
              "        const element = document.querySelector('#df-56b76374-132a-4482-b641-b1fb5ba1eb9f');\n",
              "        const dataTable =\n",
              "          await google.colab.kernel.invokeFunction('convertToInteractive',\n",
              "                                                    [key], {});\n",
              "        if (!dataTable) return;\n",
              "\n",
              "        const docLinkHtml = 'Like what you see? Visit the ' +\n",
              "          '<a target=\"_blank\" href=https://colab.research.google.com/notebooks/data_table.ipynb>data table notebook</a>'\n",
              "          + ' to learn more about interactive tables.';\n",
              "        element.innerHTML = '';\n",
              "        dataTable['output_type'] = 'display_data';\n",
              "        await google.colab.output.renderOutput(dataTable, element);\n",
              "        const docLink = document.createElement('div');\n",
              "        docLink.innerHTML = docLinkHtml;\n",
              "        element.appendChild(docLink);\n",
              "      }\n",
              "    </script>\n",
              "  </div>\n",
              "\n",
              "\n",
              "<div id=\"df-3a3db7f8-2ccf-45f8-a27f-b9aaf1031952\">\n",
              "  <button class=\"colab-df-quickchart\" onclick=\"quickchart('df-3a3db7f8-2ccf-45f8-a27f-b9aaf1031952')\"\n",
              "            title=\"Suggest charts\"\n",
              "            style=\"display:none;\">\n",
              "\n",
              "<svg xmlns=\"http://www.w3.org/2000/svg\" height=\"24px\"viewBox=\"0 0 24 24\"\n",
              "     width=\"24px\">\n",
              "    <g>\n",
              "        <path d=\"M19 3H5c-1.1 0-2 .9-2 2v14c0 1.1.9 2 2 2h14c1.1 0 2-.9 2-2V5c0-1.1-.9-2-2-2zM9 17H7v-7h2v7zm4 0h-2V7h2v10zm4 0h-2v-4h2v4z\"/>\n",
              "    </g>\n",
              "</svg>\n",
              "  </button>\n",
              "\n",
              "<style>\n",
              "  .colab-df-quickchart {\n",
              "      --bg-color: #E8F0FE;\n",
              "      --fill-color: #1967D2;\n",
              "      --hover-bg-color: #E2EBFA;\n",
              "      --hover-fill-color: #174EA6;\n",
              "      --disabled-fill-color: #AAA;\n",
              "      --disabled-bg-color: #DDD;\n",
              "  }\n",
              "\n",
              "  [theme=dark] .colab-df-quickchart {\n",
              "      --bg-color: #3B4455;\n",
              "      --fill-color: #D2E3FC;\n",
              "      --hover-bg-color: #434B5C;\n",
              "      --hover-fill-color: #FFFFFF;\n",
              "      --disabled-bg-color: #3B4455;\n",
              "      --disabled-fill-color: #666;\n",
              "  }\n",
              "\n",
              "  .colab-df-quickchart {\n",
              "    background-color: var(--bg-color);\n",
              "    border: none;\n",
              "    border-radius: 50%;\n",
              "    cursor: pointer;\n",
              "    display: none;\n",
              "    fill: var(--fill-color);\n",
              "    height: 32px;\n",
              "    padding: 0;\n",
              "    width: 32px;\n",
              "  }\n",
              "\n",
              "  .colab-df-quickchart:hover {\n",
              "    background-color: var(--hover-bg-color);\n",
              "    box-shadow: 0 1px 2px rgba(60, 64, 67, 0.3), 0 1px 3px 1px rgba(60, 64, 67, 0.15);\n",
              "    fill: var(--button-hover-fill-color);\n",
              "  }\n",
              "\n",
              "  .colab-df-quickchart-complete:disabled,\n",
              "  .colab-df-quickchart-complete:disabled:hover {\n",
              "    background-color: var(--disabled-bg-color);\n",
              "    fill: var(--disabled-fill-color);\n",
              "    box-shadow: none;\n",
              "  }\n",
              "\n",
              "  .colab-df-spinner {\n",
              "    border: 2px solid var(--fill-color);\n",
              "    border-color: transparent;\n",
              "    border-bottom-color: var(--fill-color);\n",
              "    animation:\n",
              "      spin 1s steps(1) infinite;\n",
              "  }\n",
              "\n",
              "  @keyframes spin {\n",
              "    0% {\n",
              "      border-color: transparent;\n",
              "      border-bottom-color: var(--fill-color);\n",
              "      border-left-color: var(--fill-color);\n",
              "    }\n",
              "    20% {\n",
              "      border-color: transparent;\n",
              "      border-left-color: var(--fill-color);\n",
              "      border-top-color: var(--fill-color);\n",
              "    }\n",
              "    30% {\n",
              "      border-color: transparent;\n",
              "      border-left-color: var(--fill-color);\n",
              "      border-top-color: var(--fill-color);\n",
              "      border-right-color: var(--fill-color);\n",
              "    }\n",
              "    40% {\n",
              "      border-color: transparent;\n",
              "      border-right-color: var(--fill-color);\n",
              "      border-top-color: var(--fill-color);\n",
              "    }\n",
              "    60% {\n",
              "      border-color: transparent;\n",
              "      border-right-color: var(--fill-color);\n",
              "    }\n",
              "    80% {\n",
              "      border-color: transparent;\n",
              "      border-right-color: var(--fill-color);\n",
              "      border-bottom-color: var(--fill-color);\n",
              "    }\n",
              "    90% {\n",
              "      border-color: transparent;\n",
              "      border-bottom-color: var(--fill-color);\n",
              "    }\n",
              "  }\n",
              "</style>\n",
              "\n",
              "  <script>\n",
              "    async function quickchart(key) {\n",
              "      const quickchartButtonEl =\n",
              "        document.querySelector('#' + key + ' button');\n",
              "      quickchartButtonEl.disabled = true;  // To prevent multiple clicks.\n",
              "      quickchartButtonEl.classList.add('colab-df-spinner');\n",
              "      try {\n",
              "        const charts = await google.colab.kernel.invokeFunction(\n",
              "            'suggestCharts', [key], {});\n",
              "      } catch (error) {\n",
              "        console.error('Error during call to suggestCharts:', error);\n",
              "      }\n",
              "      quickchartButtonEl.classList.remove('colab-df-spinner');\n",
              "      quickchartButtonEl.classList.add('colab-df-quickchart-complete');\n",
              "    }\n",
              "    (() => {\n",
              "      let quickchartButtonEl =\n",
              "        document.querySelector('#df-3a3db7f8-2ccf-45f8-a27f-b9aaf1031952 button');\n",
              "      quickchartButtonEl.style.display =\n",
              "        google.colab.kernel.accessAllowed ? 'block' : 'none';\n",
              "    })();\n",
              "  </script>\n",
              "</div>\n",
              "    </div>\n",
              "  </div>\n"
            ],
            "application/vnd.google.colaboratory.intrinsic+json": {
              "type": "dataframe",
              "variable_name": "real_data",
              "summary": "{\n  \"name\": \"real_data\",\n  \"rows\": 32561,\n  \"fields\": [\n    {\n      \"column\": \"age\",\n      \"properties\": {\n        \"dtype\": \"number\",\n        \"std\": 13,\n        \"min\": 17,\n        \"max\": 90,\n        \"num_unique_values\": 73,\n        \"samples\": [\n          28,\n          73,\n          35\n        ],\n        \"semantic_type\": \"\",\n        \"description\": \"\"\n      }\n    },\n    {\n      \"column\": \"education\",\n      \"properties\": {\n        \"dtype\": \"category\",\n        \"num_unique_values\": 16,\n        \"samples\": [\n          \"Bachelors\",\n          \"HS-grad\",\n          \"Some-college\"\n        ],\n        \"semantic_type\": \"\",\n        \"description\": \"\"\n      }\n    },\n    {\n      \"column\": \"sex\",\n      \"properties\": {\n        \"dtype\": \"category\",\n        \"num_unique_values\": 2,\n        \"samples\": [\n          \"Female\",\n          \"Male\"\n        ],\n        \"semantic_type\": \"\",\n        \"description\": \"\"\n      }\n    },\n    {\n      \"column\": \"relationship\",\n      \"properties\": {\n        \"dtype\": \"category\",\n        \"num_unique_values\": 6,\n        \"samples\": [\n          \"Not-in-family\",\n          \"Husband\"\n        ],\n        \"semantic_type\": \"\",\n        \"description\": \"\"\n      }\n    },\n    {\n      \"column\": \"marital-status\",\n      \"properties\": {\n        \"dtype\": \"category\",\n        \"num_unique_values\": 7,\n        \"samples\": [\n          \"Never-married\",\n          \"Married-civ-spouse\"\n        ],\n        \"semantic_type\": \"\",\n        \"description\": \"\"\n      }\n    },\n    {\n      \"column\": \"income\",\n      \"properties\": {\n        \"dtype\": \"category\",\n        \"num_unique_values\": 2,\n        \"samples\": [\n          \">50K\",\n          \"<=50K\"\n        ],\n        \"semantic_type\": \"\",\n        \"description\": \"\"\n      }\n    }\n  ]\n}"
            }
          },
          "metadata": {},
          "execution_count": 70
        }
      ]
    },
    {
      "cell_type": "code",
      "metadata": {
        "colab": {
          "base_uri": "https://localhost:8080/",
          "height": 458
        },
        "id": "zqtgzGJgUoCx",
        "outputId": "602f8f05-1499-490e-e5fb-9aeabc56b059"
      },
      "source": [
        "plt.figure(dpi=100)\n",
        "sns.boxplot(x='income', y='age', data=real_data, linewidth=0.5, fliersize=2);"
      ],
      "execution_count": 71,
      "outputs": [
        {
          "output_type": "display_data",
          "data": {
            "text/plain": [
              "<Figure size 640x480 with 1 Axes>"
            ],
            "image/png": "[encoded data removed]"
          },
          "metadata": {}
        }
      ]
    },
    {
      "cell_type": "code",
      "metadata": {
        "id": "0JIzeGrUyghN",
        "colab": {
          "base_uri": "https://localhost:8080/",
          "height": 458
        },
        "outputId": "9eda5965-9b7b-4a89-feb5-85e35d05dfa5"
      },
      "source": [
        "plt.figure(dpi=100)\n",
        "sns.boxplot(x='income', y='age', data=synthetic_correlated, linewidth=0.5, fliersize=2);"
      ],
      "execution_count": 72,
      "outputs": [
        {
          "output_type": "display_data",
          "data": {
            "text/plain": [
              "<Figure size 640x480 with 1 Axes>"
            ],
            "image/png": "[encoded data removed]"
          },
          "metadata": {}
        }
      ]
    }
  ]
}