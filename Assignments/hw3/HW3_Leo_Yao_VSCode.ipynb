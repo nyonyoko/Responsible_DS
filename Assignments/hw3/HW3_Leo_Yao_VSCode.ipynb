{
  "cells": [
    {
      "cell_type": "markdown",
      "metadata": {
        "id": "rmoZ7PnaFdYv"
      },
      "source": [
        "# RDS HW3 Template\n",
        "\n",
        "Install the Data Synthesizer library."
      ]
    },
    {
      "cell_type": "markdown",
      "metadata": {
        "id": "SDZGpVkoJsVe"
      },
      "source": [
        "# Section"
      ]
    },
    {
      "cell_type": "code",
      "execution_count": 1,
      "metadata": {
        "colab": {
          "base_uri": "https://localhost:8080/"
        },
        "id": "1VR_j1uKFdY0",
        "outputId": "9550e088-b245-4cc4-bf14-949ec7a23880"
      },
      "outputs": [
        {
          "name": "stdout",
          "output_type": "stream",
          "text": [
            "Defaulting to user installation because normal site-packages is not writeable\n",
            "Collecting DataSynthesizer\n",
            "  Downloading DataSynthesizer-0.1.13-py2.py3-none-any.whl.metadata (4.7 kB)\n",
            "Requirement already satisfied: numpy>=1.18.5 in /Users/leoyaoair23/Library/Python/3.9/lib/python/site-packages (from DataSynthesizer) (1.23.5)\n",
            "Requirement already satisfied: pandas>=1.0.5 in /Users/leoyaoair23/Library/Python/3.9/lib/python/site-packages (from DataSynthesizer) (2.2.0)\n",
            "Requirement already satisfied: scikit-learn>=0.23.1 in /Users/leoyaoair23/Library/Python/3.9/lib/python/site-packages (from DataSynthesizer) (1.4.0)\n",
            "Requirement already satisfied: matplotlib>=3.2.2 in /Users/leoyaoair23/Library/Python/3.9/lib/python/site-packages (from DataSynthesizer) (3.4.1)\n",
            "Requirement already satisfied: seaborn>=0.10.1 in /Users/leoyaoair23/Library/Python/3.9/lib/python/site-packages (from DataSynthesizer) (0.13.2)\n",
            "Requirement already satisfied: python-dateutil>=2.8.1 in /Users/leoyaoair23/Library/Python/3.9/lib/python/site-packages (from DataSynthesizer) (2.8.2)\n",
            "Requirement already satisfied: cycler>=0.10 in /Users/leoyaoair23/Library/Python/3.9/lib/python/site-packages (from matplotlib>=3.2.2->DataSynthesizer) (0.12.1)\n",
            "Requirement already satisfied: kiwisolver>=1.0.1 in /Users/leoyaoair23/Library/Python/3.9/lib/python/site-packages (from matplotlib>=3.2.2->DataSynthesizer) (1.4.5)\n",
            "Requirement already satisfied: pillow>=6.2.0 in /Users/leoyaoair23/Library/Python/3.9/lib/python/site-packages (from matplotlib>=3.2.2->DataSynthesizer) (10.2.0)\n",
            "Requirement already satisfied: pyparsing>=2.2.1 in /Users/leoyaoair23/Library/Python/3.9/lib/python/site-packages (from matplotlib>=3.2.2->DataSynthesizer) (3.1.1)\n",
            "Requirement already satisfied: pytz>=2020.1 in /Users/leoyaoair23/Library/Python/3.9/lib/python/site-packages (from pandas>=1.0.5->DataSynthesizer) (2024.1)\n",
            "Requirement already satisfied: tzdata>=2022.7 in /Users/leoyaoair23/Library/Python/3.9/lib/python/site-packages (from pandas>=1.0.5->DataSynthesizer) (2023.4)\n",
            "Requirement already satisfied: six>=1.5 in /Users/leoyaoair23/Library/Python/3.9/lib/python/site-packages (from python-dateutil>=2.8.1->DataSynthesizer) (1.16.0)\n",
            "Requirement already satisfied: scipy>=1.6.0 in /Users/leoyaoair23/Library/Python/3.9/lib/python/site-packages (from scikit-learn>=0.23.1->DataSynthesizer) (1.12.0)\n",
            "Requirement already satisfied: joblib>=1.2.0 in /Users/leoyaoair23/Library/Python/3.9/lib/python/site-packages (from scikit-learn>=0.23.1->DataSynthesizer) (1.3.2)\n",
            "Requirement already satisfied: threadpoolctl>=2.0.0 in /Users/leoyaoair23/Library/Python/3.9/lib/python/site-packages (from scikit-learn>=0.23.1->DataSynthesizer) (3.2.0)\n",
            "Downloading DataSynthesizer-0.1.13-py2.py3-none-any.whl (24 kB)\n",
            "Installing collected packages: DataSynthesizer\n",
            "Successfully installed DataSynthesizer-0.1.13\n"
          ]
        }
      ],
      "source": [
        "!pip install DataSynthesizer"
      ]
    },
    {
      "cell_type": "code",
      "execution_count": 2,
      "metadata": {
        "id": "yd3BwlQ1FdZD"
      },
      "outputs": [],
      "source": [
        "from DataSynthesizer.DataDescriber import DataDescriber\n",
        "from DataSynthesizer.DataGenerator import DataGenerator\n",
        "from DataSynthesizer.ModelInspector import ModelInspector\n",
        "from DataSynthesizer.lib.utils import normalize_given_distribution, read_json_file, pairwise_attributes_mutual_information, mutual_information, set_random_seed\n",
        "\n",
        "from IPython.display import clear_output\n",
        "from scipy.stats import entropy, ks_2samp\n",
        "from scipy.spatial.distance import euclidean\n",
        "from sklearn.metrics import mutual_info_score\n",
        "from random import randint\n",
        "import pandas as pd\n",
        "import matplotlib.pyplot as plt\n",
        "import seaborn as sns\n",
        "%matplotlib inline"
      ]
    },
    {
      "cell_type": "code",
      "execution_count": 3,
      "metadata": {
        "id": "M6YGhJ8yFdZO"
      },
      "outputs": [],
      "source": [
        "def generate_data_A(input_data_file, output_data_size, seed=None):\n",
        "    seed = seed or randint(0, 2**30)\n",
        "    description_file = description_files['A']\n",
        "\n",
        "    describer = DataDescriber()\n",
        "    describer.describe_dataset_in_random_mode(input_data_file, seed=seed)\n",
        "    describer.save_dataset_description_to_file(description_file)\n",
        "\n",
        "    generator = DataGenerator()\n",
        "    generator.generate_dataset_in_random_mode(output_data_size, description_file, seed=seed)\n",
        "    return generator.synthetic_dataset"
      ]
    },
    {
      "cell_type": "code",
      "execution_count": 4,
      "metadata": {
        "id": "_ucdJfUuFdZe"
      },
      "outputs": [],
      "source": [
        "def generate_data_B(input_data_file, output_data_size, epsilon=0.1, seed=None):\n",
        "    seed = seed or randint(0, 2**30)\n",
        "    description_file = description_files['B']\n",
        "\n",
        "    describer = DataDescriber()\n",
        "    describer.describe_dataset_in_independent_attribute_mode(input_data_file, epsilon=epsilon, seed=seed)\n",
        "    describer.save_dataset_description_to_file(description_file)\n",
        "\n",
        "    generator = DataGenerator()\n",
        "    generator.generate_dataset_in_independent_mode(output_data_size, description_file, seed=seed)\n",
        "    return generator.synthetic_dataset"
      ]
    },
    {
      "cell_type": "code",
      "execution_count": 5,
      "metadata": {
        "id": "AiO-8_CPFdZj"
      },
      "outputs": [],
      "source": [
        "def generate_data_CD(input_data_file, output_data_size, description_file, epsilon=0.5, k=1, seed=None):\n",
        "    seed = seed or randint(0, 2**30)\n",
        "\n",
        "    describer = DataDescriber()\n",
        "    describer.describe_dataset_in_correlated_attribute_mode(input_data_file, k=k, epsilon=epsilon, seed=seed)\n",
        "    describer.save_dataset_description_to_file(description_file)\n",
        "\n",
        "    generator = DataGenerator()\n",
        "    generator.generate_dataset_in_correlated_attribute_mode(output_data_size, description_file, seed=seed)\n",
        "    return generator.synthetic_dataset\n",
        "\n",
        "def generate_data_C(input_data_file, output_data_size, epsilon=0.1, seed=None):\n",
        "    return generate_data_CD(input_data_file, output_data_size, description_files['C'], epsilon, k=1, seed=seed)\n",
        "\n",
        "def generate_data_D(input_data_file, output_data_size, epsilon=0.1, seed=None):\n",
        "    return generate_data_CD(input_data_file, output_data_size, description_files['D'], epsilon, k=2, seed=seed)"
      ]
    },
    {
      "cell_type": "markdown",
      "metadata": {
        "id": "_ZaByotmFdZo"
      },
      "source": [
        "Start with a real dataset __hw_compas__ and a fake dataset __hw_xyz__. Generate synthetic datasets of size __N=10000__, in the following four categories:\n",
        "- A:  random mode\n",
        "- B: independent attribute mode with __epsilon = 0.1__\n",
        "- C:  correlated attribute mode with __epsilon = 0.1__, Bayes net degree k=1\n",
        "- D: correlated attribute mode with __epsilon = 0.1__, Bayes net degree k=2"
      ]
    },
    {
      "cell_type": "code",
      "execution_count": null,
      "metadata": {
        "id": "GXqw1Tjl3kdb"
      },
      "outputs": [],
      "source": [
        "# Packages for reading csv file into Colaboratory:\n",
        "!pip install -U -q PyDrive==1.3.1\n",
        "\n",
        "from pydrive.auth import GoogleAuth\n",
        "from pydrive.drive import GoogleDrive\n",
        "from google.colab import auth\n",
        "from oauth2client.client import GoogleCredentials\n",
        "\n",
        "# Authenticate and create the PyDrive client.\n",
        "# Please follow the steps as instructed when you run the following commands.\n",
        "\n",
        "auth.authenticate_user()\n",
        "gauth = GoogleAuth()\n",
        "gauth.credentials = GoogleCredentials.get_application_default()\n",
        "drive = GoogleDrive(gauth)"
      ]
    },
    {
      "cell_type": "code",
      "execution_count": null,
      "metadata": {
        "id": "hecmLsCU3lsg"
      },
      "outputs": [],
      "source": [
        "fileid_compas = '1kgSIBkOM9y0nz_l8LI8ze9TAhF5gbb64'\n",
        "real_data_file = 'hw_compas.csv'\n",
        "\n",
        "fileid_fake = '1b_T0SHQUMbVvZueZ6yXlxTKBHctMgM0k'\n",
        "fake_data_file = 'hw_fake.csv'\n",
        "\n",
        "downloaded = drive.CreateFile({'id':fileid_compas})\n",
        "downloaded.GetContentFile(real_data_file)\n",
        "df_real = pd.read_csv(real_data_file)\n",
        "\n",
        "downloaded = drive.CreateFile({'id':fileid_fake})\n",
        "downloaded.GetContentFile(fake_data_file)\n",
        "df_fake = pd.read_csv(fake_data_file)"
      ]
    },
    {
      "cell_type": "code",
      "execution_count": null,
      "metadata": {
        "id": "cwmlF9kRFdZp"
      },
      "outputs": [],
      "source": [
        "output_data_size = 10000\n",
        "epsilon = 0.1\n",
        "\n",
        "seed = 0  # make the entire notebook reproducible\n",
        "\n",
        "description_files = {'A': './descrption_A.json',\n",
        "                     'B': './descrption_B.json',\n",
        "                     'C': './descrption_C.json',\n",
        "                     'D': './descrption_D.json'}\n",
        "\n",
        "set_random_seed(seed)\n",
        "\n",
        "df_real_A = generate_data_A(real_data_file, output_data_size)\n",
        "df_real_B = generate_data_B(real_data_file, output_data_size, epsilon=epsilon)\n",
        "df_real_C = generate_data_C(real_data_file, output_data_size, epsilon=epsilon)\n",
        "df_real_D = generate_data_D(real_data_file, output_data_size, epsilon=epsilon)\n",
        "\n",
        "df_fake_A = generate_data_A(fake_data_file, output_data_size)\n",
        "df_fake_B = generate_data_B(fake_data_file, output_data_size, epsilon=epsilon)\n",
        "df_fake_C = generate_data_C(fake_data_file, output_data_size, epsilon=epsilon)\n",
        "df_fake_D = generate_data_D(fake_data_file, output_data_size, epsilon=epsilon)\n",
        "\n",
        "clear_output()"
      ]
    },
    {
      "cell_type": "markdown",
      "metadata": {
        "id": "9jSaXvMoFdZu"
      },
      "source": [
        "## Part (a)"
      ]
    },
    {
      "cell_type": "markdown",
      "metadata": {
        "id": "DyXI_gY_FdZx"
      },
      "source": [
        "### Q1\n",
        "\n",
        "Median, Mean, Min, Max of __age__ and __score__ for each A, B, C and D, compare to the ground truth value in __hw_compas__, present results in a table"
      ]
    },
    {
      "cell_type": "code",
      "execution_count": null,
      "metadata": {
        "id": "1uMG1X8DFdZz"
      },
      "outputs": [],
      "source": [
        "# Your code here\n",
        "# Calculate statistics for each DataFrame\n",
        "comparison_dfs_a_q1 = [df_real,df_real_A, df_real_B, df_real_C, df_real_D]\n",
        "stats_a_q1 = {}\n",
        "for df_name, df in zip(['Ground Truth', 'A', 'B', 'C', 'D'], comparison_dfs_a_q1):\n",
        "    stats_a_q1[df_name] = {\n",
        "        'age_median': df['age'].median(),\n",
        "        'age_mean': df['age'].mean(),\n",
        "        'age_min': df['age'].min(),\n",
        "        'age_max': df['age'].max(),\n",
        "        'score_median': df['score'].median(),\n",
        "        'score_mean': df['score'].mean(),\n",
        "        'score_min': df['score'].min(),\n",
        "        'score_max': df['score'].max(),\n",
        "    }\n",
        "\n",
        "# Create a DataFrame to display the results\n",
        "stats_df_a_q1 = pd.DataFrame(stats_a_q1).T\n",
        "\n",
        "# Display the table\n",
        "stats_df_a_q1"
      ]
    },
    {
      "cell_type": "markdown",
      "metadata": {
        "id": "ZFgyc2B4FdZ6"
      },
      "source": [
        "### Q2\n",
        "\n",
        "Some more sophisticated statistical measure that’s good for independent attribute mode - __Two-sample Kolmogorov–Smirnov test__ and __KL-divergence__. Also show the difference visually, comparing real vs. synthetic"
      ]
    },
    {
      "cell_type": "code",
      "execution_count": null,
      "metadata": {
        "id": "ZeqtORgGFdZ7"
      },
      "outputs": [],
      "source": [
        "# Your code here\n",
        "comparisons_a_q2 = [df_real,df_real_A, df_real_B]\n",
        "age_titles_a_q2 = ['Original Distribution of Age', 'A - Age', 'B - Age']\n",
        "sex_titles_a_q2 = ['Original Distribution of Sex', 'A - Sex', 'B - Sex']\n",
        "\n",
        "# Age plots\n",
        "fig1, axs1 = plt.subplots(nrows=1, ncols=3, figsize=(15, 5), sharey=True)\n",
        "fig1.subplots_adjust(hspace=0.5, wspace=0.5)\n",
        "fig1.suptitle('Distribution of Age (Real Data)')\n",
        "\n",
        "for i, df in enumerate(comparisons_a_q2):\n",
        "    ax = axs1.flatten()[i]\n",
        "    ax.hist(df['age'], bins=20, alpha=0.5)\n",
        "    ax.set_title(age_titles_a_q2[i])\n",
        "    ax.set_xlabel('Age')\n",
        "    ax.set_ylabel('Number of Defendants')\n",
        "    ax.grid(True)\n",
        "\n",
        "plt.tight_layout()   \n",
        "\n",
        "# Sex plots\n",
        "fig2, axs2 = plt.subplots(nrows=1, ncols=3, figsize=(15, 5), sharey=True)\n",
        "fig2.subplots_adjust(hspace=0.5, wspace=0.5)\n",
        "fig2.suptitle('Distribution of Sex (Real Data)')\n",
        "\n",
        "for i, df in enumerate(comparisons_a_q2):\n",
        "    ax = axs2.flatten()[i]\n",
        "    ax.hist(df['sex'], bins=2, rwidth=0.8)\n",
        "    ax.set_title(sex_titles_a_q2[i])\n",
        "    ax.set_xlabel('Sex')\n",
        "    ax.set_ylabel('Number of Defendants')\n",
        "    ax.grid(True)\n",
        "\n",
        "plt.tight_layout()"
      ]
    },
    {
      "cell_type": "markdown",
      "metadata": {
        "id": "g-Or3PInFdan"
      },
      "source": [
        "#### Two-sample Kolmogorov–Smirnov test for continous attributes"
      ]
    },
    {
      "cell_type": "code",
      "execution_count": null,
      "metadata": {
        "id": "yTzh1CM6Fdap"
      },
      "outputs": [],
      "source": [
        "def ks_test(df_in: pd.DataFrame, df_out: pd.DataFrame, attr: str):\n",
        "    \"\"\"\n",
        "    df_in: the sensitive dataset\n",
        "    df_out: the synthetic dataset\n",
        "    attr: the attribute that will be calculated for Two-sample Kolmogorov–Smirnov test.\n",
        "    \"\"\"\n",
        "    return ks_2samp(df_in[attr], df_out[attr])[0]"
      ]
    },
    {
      "cell_type": "markdown",
      "metadata": {
        "id": "X1eUjSSxFda3"
      },
      "source": [
        "#### KL-divergence for categorical attributes"
      ]
    },
    {
      "cell_type": "code",
      "execution_count": null,
      "metadata": {
        "id": "cidvm1mAFda3"
      },
      "outputs": [],
      "source": [
        "def get_distribution_of_categorical_attribute(attribute: pd.Series, indicies=None):\n",
        "    distribution = attribute.dropna().value_counts()\n",
        "    if indicies is not None:\n",
        "        for idx in set(indicies) - set(distribution.index):\n",
        "            distribution.loc[idx] = 0\n",
        "    distribution.sort_index(inplace=True)\n",
        "    return distribution/sum(distribution)\n",
        "\n",
        "def kl_test(df_in: pd.DataFrame, df_out: pd.DataFrame, attr: str):\n",
        "    \"\"\"\n",
        "    df_in: the sensitive dataset\n",
        "    df_out: the synthetic dataset\n",
        "    attr: the attribute that will be calculated for KL-divergence.\n",
        "    \"\"\"\n",
        "    distribution_in = get_distribution_of_categorical_attribute(df_in[attr])\n",
        "    distribution_out = get_distribution_of_categorical_attribute(df_out[attr], distribution_in.index)\n",
        "    return entropy(distribution_out, distribution_in)"
      ]
    },
    {
      "cell_type": "code",
      "execution_count": null,
      "metadata": {},
      "outputs": [],
      "source": [
        "KS_A = ks_test(df_real, df_real_A, 'age')\n",
        "KS_B = ks_test(df_real, df_real_B, 'age')\n",
        "KL_A = kl_test(df_real, df_real_A, 'sex')\n",
        "KL_B = kl_test(df_real, df_real_B, 'sex')\n",
        "print(f\"KS test for age for original vs. A: {KS_A}\")\n",
        "print(f\"KS test for age for original vs. B: {KS_B}\")\n",
        "print(f\"KL test for sex for original vs. A: {KL_A}\")\n",
        "print(f\"KL test for sex for original vs. B: {KL_B}\")"
      ]
    },
    {
      "cell_type": "markdown",
      "metadata": {
        "id": "XKzIAfI9FdbD"
      },
      "source": [
        "### Q3\n",
        "\n",
        "some more sophisticated statistical measure that’s good for correlated attribute mode, and will be better with k=2 (case D) than with k=1 (case C), __some distance over pairwise correlation coefficients? Also show the difference visually, comparing results on real vs. synthetic datasets__."
      ]
    },
    {
      "cell_type": "code",
      "execution_count": null,
      "metadata": {
        "id": "NNd9mfMOVXrA"
      },
      "outputs": [],
      "source": [
        "# Use pairwise_attributes_mutual_information function.\n",
        "# For function parameters, refer to https://github.com/DataResponsibly/DataSynthesizer/blob/master/DataSynthesizer/lib/utils.py#L31\n",
        "# Your code here\n",
        "mi_fake = pairwise_attributes_mutual_information(df_fake)\n",
        "mi_fake_C = pairwise_attributes_mutual_information(df_fake_C)\n",
        "mi_fake_D = pairwise_attributes_mutual_information(df_fake_D)"
      ]
    },
    {
      "cell_type": "code",
      "execution_count": null,
      "metadata": {
        "id": "beIDrJn3VYbS"
      },
      "outputs": [],
      "source": [
        "# Use can sns.heatmap for pairwise mutual information\n",
        "# For examples, refer to https://seaborn.pydata.org/generated/seaborn.heatmap.html\n",
        "# Your code here\n",
        "fig, axs = plt.subplots(nrows=1, ncols=3, figsize=(15, 5), sharey=True)\n",
        "fig.subplots_adjust(hspace=0.5, wspace=0.5)\n",
        "fig.suptitle('Pairwise Mutual Information Matrix (Fake Data)')\n",
        "sns.heatmap(mi_fake, ax=axs[0])\n",
        "axs[0].set_title('Original (Fake Data)')\n",
        "sns.heatmap(mi_fake_C, ax=axs[1])\n",
        "axs[1].set_title('C')\n",
        "sns.heatmap(mi_fake_D, ax=axs[2])\n",
        "axs[2].set_title('D')\n",
        "plt.tight_layout()"
      ]
    },
    {
      "cell_type": "markdown",
      "metadata": {
        "id": "FpoWEnYTFdbb"
      },
      "source": [
        "## Part (b)\n",
        "\n",
        "Study the variability in accuracy of answers to Q1 and Q2 for A, B and C: fix epsilon = 0.1, generate __10__ synthetic databases (by specifying different seeds).  Plot accuracy as a box-and-whiskers plot.  "
      ]
    },
    {
      "cell_type": "code",
      "execution_count": null,
      "metadata": {
        "id": "xTEwLoi0Fdbb"
      },
      "outputs": [],
      "source": [
        "# You can use sns.boxplot for the plots\n",
        "# For examples, refer to https://seaborn.pydata.org/generated/seaborn.boxplot.html\n",
        "# Your code here\n",
        "random_seeds = [100, 200, 300, 400, 500, 600, 700, 800, 900, 1000]\n",
        "column_names_b = ['median_A', 'mean_A', 'min_A', 'max_A', 'median_B', 'mean_B', 'min_B', 'max_B', 'median_C', 'mean_C', 'min_C', 'max_C']\n",
        "df_b = pd.DataFrame(columns=column_names_b)\n",
        "modes_b = ['A', 'B', 'C']\n",
        "\n",
        "for seed in random_seeds:\n",
        "    df_real_A_temp = generate_data_A(real_data_file, output_data_size, seed=seed)\n",
        "    df_real_B_temp = generate_data_B(real_data_file, output_data_size, epsilon=epsilon, seed=seed)\n",
        "    df_real_C_temp = generate_data_C(real_data_file, output_data_size, epsilon=epsilon, seed=seed)\n",
        "    comparison_dfs_temp = [df_real_A_temp, df_real_B_temp, df_real_C_temp]\n",
        "    for mode, df in zip(modes_b, comparison_dfs_temp):\n",
        "        df_b.loc[f'Seed_{seed}', f'median_{mode}'] = df['age'].median()\n",
        "        df_b.loc[f'Seed_{seed}', f'mean_{mode}'] = df['age'].mean()\n",
        "        df_b.loc[f'Seed_{seed}', f'min_{mode}'] = df['age'].min()\n",
        "        df_b.loc[f'Seed_{seed}', f'max_{mode}'] = df['age'].max()\n",
        "clear_output()\n",
        "df_b"
      ]
    },
    {
      "cell_type": "code",
      "execution_count": null,
      "metadata": {},
      "outputs": [],
      "source": [
        "fig, axs = plt.subplots(nrows=1, ncols=4, figsize=(20, 5))\n",
        "fig.subplots_adjust(hspace=0.5, wspace=0.5)\n",
        "fig.suptitle('Age Variability for Different Modes')\n",
        "sns.boxplot(data=df_b[['median_A', 'median_B', 'median_C']], ax=axs[0])\n",
        "axs[0].set_title('Median')\n",
        "axs[0].set_ylabel('Age')\n",
        "axs[0].set_xlabel('Mode')\n",
        "axs[0].set_xticks(range(len(modes_b)))\n",
        "axs[0].set_xticklabels(modes_b)\n",
        "sns.boxplot(data=df_b[['mean_A', 'mean_B', 'mean_C']], ax=axs[1])\n",
        "axs[1].set_title('Mean')\n",
        "axs[1].set_xlabel('Mode')\n",
        "axs[1].set_xticks(range(len(modes_b)))\n",
        "axs[1].set_xticklabels(modes_b)\n",
        "sns.boxplot(data=df_b[['min_A', 'min_B', 'min_C']], ax=axs[2])\n",
        "axs[2].set_title('Min')\n",
        "axs[2].set_xlabel('Mode')\n",
        "axs[2].set_xticks(range(len(modes_b)))\n",
        "axs[2].set_xticklabels(modes_b)\n",
        "sns.boxplot(data=df_b[['max_A', 'max_B', 'max_C']], ax=axs[3])\n",
        "axs[3].set_title('Max')\n",
        "axs[3].set_xlabel('Mode')\n",
        "axs[3].set_xticks(range(len(modes_b)))\n",
        "axs[3].set_xticklabels(modes_b)\n",
        "plt.tight_layout()"
      ]
    },
    {
      "cell_type": "markdown",
      "metadata": {
        "id": "UINl2ivCFdbk"
      },
      "source": [
        "## Part (c)\n",
        "\n",
        "Study how accuracy of Q3 changes for case **C**, as you vary __epsilon__ = [0.01, 0.02, ..., 0.1]."
      ]
    },
    {
      "cell_type": "code",
      "execution_count": null,
      "metadata": {
        "id": "80F5iu0FdsYx"
      },
      "outputs": [],
      "source": [
        "epsilons_mst_kl = [0.01, 0.02, 0.03, 0.04, 0.05, 0.06, 0.07, 0.08, 0.09, 0.1]\n",
        "iters = 5\n",
        "# Your code here\n",
        "modes_c = ['B', 'C', 'D']\n",
        "df_c_kl_b = pd.DataFrame(columns=epsilons_mst_kl)\n",
        "df_c_kl_c = pd.DataFrame(columns=epsilons_mst_kl)\n",
        "df_c_kl_d = pd.DataFrame(columns=epsilons_mst_kl)\n",
        "for seed in random_seeds:\n",
        "    for epsilon in epsilons_mst_kl:\n",
        "        df_real_B_temp = generate_data_B(real_data_file, output_data_size, epsilon=epsilon, seed=seed)\n",
        "        df_real_C_temp = generate_data_C(real_data_file, output_data_size, epsilon=epsilon, seed=seed)\n",
        "        df_real_D_temp = generate_data_D(real_data_file, output_data_size, epsilon=epsilon, seed=seed)\n",
        "        KL_B_temp = kl_test(df_real, df_real_B_temp, 'race')\n",
        "        KL_C_temp = kl_test(df_real, df_real_C_temp, 'race')\n",
        "        KL_D_temp = kl_test(df_real, df_real_D_temp, 'race')\n",
        "        df_c_kl_b.loc[f'Seed_{seed}', epsilon] = KL_B_temp\n",
        "        df_c_kl_c.loc[f'Seed_{seed}', epsilon] = KL_C_temp\n",
        "        df_c_kl_d.loc[f'Seed){seed}', epsilon] = KL_D_temp\n",
        "clear_output()"
      ]
    },
    {
      "cell_type": "code",
      "execution_count": null,
      "metadata": {},
      "outputs": [],
      "source": [
        "df_c_kl_b"
      ]
    },
    {
      "cell_type": "code",
      "execution_count": null,
      "metadata": {},
      "outputs": [],
      "source": [
        "fig, axs = plt.subplots(nrows=1, ncols=3, figsize=(15, 5), sharey=True)\n",
        "fig.subplots_adjust(hspace=0.5, wspace=0.5)\n",
        "fig.suptitle('Race KL Divergence for Different Modes')\n",
        "sns.boxplot(data=df_c_kl_b, ax=axs[0])\n",
        "axs[0].set_title('B')\n",
        "axs[0].set_ylabel('KL Divergence')\n",
        "axs[0].set_xlabel('Epsilon')\n",
        "axs[0].set_xticks(range(len(epsilons_mst_kl)))\n",
        "axs[0].set_xticklabels(epsilons_mst_kl)\n",
        "sns.boxplot(data=df_c_kl_c, ax=axs[1])\n",
        "axs[1].set_title('C')\n",
        "axs[1].set_xlabel('Epsilon')\n",
        "axs[1].set_xticks(range(len(epsilons_mst_kl)))\n",
        "axs[1].set_xticklabels(epsilons_mst_kl)\n",
        "sns.boxplot(data=df_c_kl_d, ax=axs[2])\n",
        "axs[2].set_title('D')\n",
        "axs[2].set_xlabel('Epsilon')\n",
        "axs[2].set_xticks(range(len(epsilons_mst_kl)))\n",
        "axs[2].set_xticklabels(epsilons_mst_kl)\n",
        "plt.tight_layout()"
      ]
    },
    {
      "cell_type": "markdown",
      "metadata": {
        "id": "UgBzIxAlbm-5"
      },
      "source": [
        "#### Mutual Information Plot for MST\n",
        "Again, replicate your plots from Part (c) for MST, this time for mutual information, on both hw_compas and hw_fake (df_real and df_fake), varying epsilon = [0.0001, 0.001, 0.01, 0.1, 1, 10, 100]. Compare this plot to the plot of dataset **D** (df_real_D). Once again, you need only generate **5 datasets** per epsilon (i.e., run 5 iterations per epsilon)."
      ]
    },
    {
      "cell_type": "code",
      "execution_count": null,
      "metadata": {
        "id": "nlxkh6g2crbK"
      },
      "outputs": [],
      "source": [
        "epsilons_mst_mi = [0.0001, 0.001, 0.01, 0.1, 1, 10, 100]\n",
        "iters = 5\n",
        "# Your code here\n",
        "mi_real = pairwise_attributes_mutual_information(df_real)"
      ]
    },
    {
      "cell_type": "code",
      "execution_count": null,
      "metadata": {},
      "outputs": [],
      "source": [
        "# Define a function to calculate the sum of the absolute value of differences \n",
        "# between the pairwise mutual information of the real and synthetic data\n",
        "def mi_diff_sum(mi1, mi2):\n",
        "    sum_diff = 0\n",
        "    for i in range(mi1.shape[0]):\n",
        "        for j in range(mi1.shape[1]):\n",
        "            # Calculate the absolute difference between corresponding elements\n",
        "            abs_diff = abs(mi1.iloc[i, j] - mi2.iloc[i, j])\n",
        "            # Add the absolute difference to the sum\n",
        "            sum_diff += abs_diff\n",
        "    # Return the sum of absolute differences divided by 2\n",
        "    return sum_diff/2"
      ]
    },
    {
      "cell_type": "code",
      "execution_count": null,
      "metadata": {},
      "outputs": [],
      "source": [
        "df_c_mi_real = pd.DataFrame()\n",
        "df_c_mi_fake = pd.DataFrame()\n",
        "df_c_mi_diff = pd.DataFrame()\n",
        "for mode in modes_c:\n",
        "    for epsilon in epsilons_mst_mi:\n",
        "        df_c_mi_real[f'{mode}_{epsilon}'] = None\n",
        "        df_c_mi_fake[f'{mode}_{epsilon}'] = None\n",
        "        df_c_mi_diff[f'{mode}_{epsilon}'] = None"
      ]
    },
    {
      "cell_type": "code",
      "execution_count": null,
      "metadata": {},
      "outputs": [],
      "source": [
        "for seed in random_seeds:\n",
        "    for epsilon in epsilons_mst_mi:\n",
        "        for i, file in enumerate([real_data_file, fake_data_file]):\n",
        "            df_B_temp = generate_data_B(file, output_data_size, epsilon=epsilon, seed=seed)\n",
        "            df_C_temp = generate_data_C(file, output_data_size, epsilon=epsilon, seed=seed)\n",
        "            df_D_temp = generate_data_D(file, output_data_size, epsilon=epsilon, seed=seed)\n",
        "            mi_B_temp = pairwise_attributes_mutual_information(df_B_temp)\n",
        "            mi_C_temp = pairwise_attributes_mutual_information(df_C_temp)\n",
        "            mi_D_temp = pairwise_attributes_mutual_information(df_D_temp)\n",
        "            if (i == 0):\n",
        "                df_c_mi_real.loc[f'Seed_{seed}', f'B_{epsilon}'] = mi_diff_sum(mi_real, mi_B_temp)\n",
        "                df_c_mi_real.loc[f'Seed_{seed}', f'C_{epsilon}'] = mi_diff_sum(mi_real, mi_C_temp)\n",
        "                df_c_mi_real.loc[f'Seed_{seed}', f'D_{epsilon}'] = mi_diff_sum(mi_real, mi_D_temp)\n",
        "                real_mi_temp = [mi_B_temp, mi_C_temp, mi_D_temp]\n",
        "            else:\n",
        "                df_c_mi_fake.loc[f'Seed_{seed}', f'B_{epsilon}'] = mi_diff_sum(mi_fake, mi_B_temp)\n",
        "                df_c_mi_fake.loc[f'Seed_{seed}', f'C_{epsilon}'] = mi_diff_sum(mi_fake, mi_C_temp)\n",
        "                df_c_mi_fake.loc[f'Seed_{seed}', f'D_{epsilon}'] = mi_diff_sum(mi_fake, mi_D_temp)\n",
        "                fake_mi_temp = [mi_B_temp, mi_C_temp, mi_D_temp]\n",
        "        for i in range(3):\n",
        "            df_c_mi_diff.loc[f'Seed_{seed}', f'B_{epsilons_mst_mi[i]}'] = mi_diff_sum(real_mi_temp[i], fake_mi_temp[i])\n",
        "            df_c_mi_diff.loc[f'Seed_{seed}', f'C_{epsilons_mst_mi[i]}'] = mi_diff_sum(real_mi_temp[i], fake_mi_temp[i])\n",
        "            df_c_mi_diff.loc[f'Seed_{seed}', f'D_{epsilons_mst_mi[i]}'] = mi_diff_sum(real_mi_temp[i], fake_mi_temp[i])\n",
        "clear_output()"
      ]
    },
    {
      "cell_type": "code",
      "execution_count": null,
      "metadata": {},
      "outputs": [],
      "source": [
        "fig1, axs1 = plt.subplots(nrows=2, ncols=3, figsize=(15, 10), sharey=True)\n",
        "fig1.subplots_adjust(hspace=0.5, wspace=0.5)\n",
        "fig1.suptitle('Sum of Absolute MI Differences (Real and Fake Data)')\n",
        "sns.boxplot(data=df_c_mi_real.iloc[:,0:7], ax=axs1[0, 0])\n",
        "axs1[0, 0].set_title('B - Real')\n",
        "axs1[0, 0].set_ylabel('Sum of Absolute MI Differences')\n",
        "axs1[0, 0].set_xlabel('Epsilon')\n",
        "axs1[0, 0].set_xticks(range(len(epsilons_mst_mi)))\n",
        "axs1[0, 0].set_xticklabels(epsilons_mst_mi)\n",
        "sns.boxplot(data=df_c_mi_real.iloc[:,7:14], ax=axs1[0, 1])\n",
        "axs1[0, 1].set_title('C - Real')\n",
        "axs1[0, 1].set_xlabel('Epsilon')\n",
        "axs1[0, 1].set_xticks(range(len(epsilons_mst_mi)))\n",
        "axs1[0, 1].set_xticklabels(epsilons_mst_mi)\n",
        "sns.boxplot(data=df_c_mi_real.iloc[:,14:21], ax=axs1[0, 2])\n",
        "axs1[0, 2].set_title('D - Real')\n",
        "axs1[0, 2].set_xlabel('Epsilon')\n",
        "axs1[0, 2].set_xticks(range(len(epsilons_mst_mi)))\n",
        "axs1[0, 2].set_xticklabels(epsilons_mst_mi)\n",
        "sns.boxplot(data=df_c_mi_fake.iloc[:,0:7], ax=axs1[1, 0])\n",
        "axs1[1, 0].set_title('B - Fake')\n",
        "axs1[1, 0].set_ylabel('Sum of Absolute MI Differences')\n",
        "axs1[1, 0].set_xlabel('Epsilon')\n",
        "axs1[1, 0].set_xticks(range(len(epsilons_mst_mi)))\n",
        "axs1[1, 0].set_xticklabels(epsilons_mst_mi)\n",
        "sns.boxplot(data=df_c_mi_fake.iloc[:,7:14], ax=axs1[1, 1])\n",
        "axs1[1, 1].set_title('C - Fake')\n",
        "axs1[1, 1].set_xlabel('Epsilon')\n",
        "axs1[1, 1].set_xticks(range(len(epsilons_mst_mi)))\n",
        "axs1[1, 1].set_xticklabels(epsilons_mst_mi)\n",
        "sns.boxplot(data=df_c_mi_fake.iloc[:,14:21], ax=axs1[1, 2])\n",
        "axs1[1, 2].set_title('D - Fake')\n",
        "axs1[1, 2].set_xlabel('Epsilon')\n",
        "axs1[1, 2].set_xticks(range(len(epsilons_mst_mi)))\n",
        "axs1[1, 2].set_xticklabels(epsilons_mst_mi)\n",
        "plt.tight_layout()\n",
        "\n",
        "fig2, axs2 = plt.subplots(nrows=1, ncols=3, figsize=(15, 5), sharey=True)\n",
        "fig2.subplots_adjust(hspace=0.5, wspace=0.5)\n",
        "fig2.suptitle('Sum of Absolute MI Differences (Real vs Fake Data)')\n",
        "sns.boxplot(data=df_c_mi_diff.iloc[:,0:7], ax=axs2[0])\n",
        "axs2[0].set_title('B - Real vs Fake')\n",
        "axs2[0].set_ylabel('Sum of Absolute MI Differences')\n",
        "axs2[0].set_xlabel('Epsilon')\n",
        "axs2[0].set_xticks(range(len(epsilons_mst_mi)))\n",
        "axs2[0].set_xticklabels(epsilons_mst_mi)\n",
        "sns.boxplot(data=df_c_mi_diff.iloc[:,7:14], ax=axs2[1])\n",
        "axs2[1].set_title('C - Real vs Fake')\n",
        "axs2[1].set_xlabel('Epsilon')\n",
        "axs2[1].set_xticks(range(len(epsilons_mst_mi)))\n",
        "axs2[1].set_xticklabels(epsilons_mst_mi)\n",
        "sns.boxplot(data=df_c_mi_diff.iloc[:,14:21], ax=axs2[2])\n",
        "axs2[2].set_title('D - Real vs Fake')\n",
        "axs2[2].set_xlabel('Epsilon')\n",
        "axs2[2].set_xticks(range(len(epsilons_mst_mi)))\n",
        "axs2[2].set_xticklabels(epsilons_mst_mi)\n",
        "plt.tight_layout()"
      ]
    }
  ],
  "metadata": {
    "colab": {
      "provenance": []
    },
    "kernelspec": {
      "display_name": "Python 3",
      "language": "python",
      "name": "python3"
    },
    "language_info": {
      "codemirror_mode": {
        "name": "ipython",
        "version": 3
      },
      "file_extension": ".py",
      "mimetype": "text/x-python",
      "name": "python",
      "nbconvert_exporter": "python",
      "pygments_lexer": "ipython3",
      "version": "3.9.6"
    }
  },
  "nbformat": 4,
  "nbformat_minor": 0
}
